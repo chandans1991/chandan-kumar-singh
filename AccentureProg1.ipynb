{
  "nbformat": 4,
  "nbformat_minor": 0,
  "metadata": {
    "colab": {
      "name": "AccentureProg1.ipynb",
      "version": "0.3.2",
      "provenance": [],
      "include_colab_link": true
    },
    "language_info": {
      "codemirror_mode": {
        "name": "ipython",
        "version": 3
      },
      "file_extension": ".py",
      "mimetype": "text/x-python",
      "name": "python",
      "nbconvert_exporter": "python",
      "pygments_lexer": "ipython3",
      "version": "3.7.0"
    },
    "kernelspec": {
      "display_name": "Python 3",
      "language": "python",
      "name": "python3"
    }
  },
  "cells": [
    {
      "cell_type": "markdown",
      "metadata": {
        "id": "view-in-github",
        "colab_type": "text"
      },
      "source": [
        "<a href=\"https://colab.research.google.com/github/chandans1991/chandan-kumar-singh/blob/master/AccentureProg1.ipynb\" target=\"_parent\"><img src=\"https://colab.research.google.com/assets/colab-badge.svg\" alt=\"Open In Colab\"/></a>"
      ]
    },
    {
      "cell_type": "code",
      "metadata": {
        "id": "-L7RTE7cF5j3",
        "colab_type": "code",
        "colab": {}
      },
      "source": [
        "# This is a line comment "
      ],
      "execution_count": 0,
      "outputs": []
    },
    {
      "cell_type": "code",
      "metadata": {
        "id": "zXDG_W5wF5j-",
        "colab_type": "code",
        "colab": {
          "base_uri": "https://localhost:8080/",
          "height": 34
        },
        "outputId": "6874e359-d901-4bc8-aae7-3900487f8e54"
      },
      "source": [
        "'''\n",
        "This is a \n",
        "multi-line text\n",
        "can be used\n",
        "as a comment line'''"
      ],
      "execution_count": 1,
      "outputs": [
        {
          "output_type": "execute_result",
          "data": {
            "text/plain": [
              "'\\nThis is a \\nmulti-line text\\ncan be used\\nas a comment line'"
            ]
          },
          "metadata": {
            "tags": []
          },
          "execution_count": 1
        }
      ]
    },
    {
      "cell_type": "code",
      "metadata": {
        "id": "oNj19W6mF5kD",
        "colab_type": "code",
        "colab": {
          "base_uri": "https://localhost:8080/",
          "height": 34
        },
        "outputId": "4d407117-8b81-455a-af3c-452d9abf0599"
      },
      "source": [
        "\"\"\"\n",
        "This is a multi-line\n",
        "comment enclosed\n",
        "in triple double quotes\"\"\""
      ],
      "execution_count": 8,
      "outputs": [
        {
          "output_type": "execute_result",
          "data": {
            "text/plain": [
              "'\\nThis is a multi-line\\ncomment enclosed\\nin triple double quotes'"
            ]
          },
          "metadata": {
            "tags": []
          },
          "execution_count": 8
        }
      ]
    },
    {
      "cell_type": "code",
      "metadata": {
        "id": "NlricVM1F5kK",
        "colab_type": "code",
        "colab": {
          "base_uri": "https://localhost:8080/",
          "height": 68
        },
        "outputId": "060b27c1-709d-457e-8ce1-13996b92ee1a"
      },
      "source": [
        "a = 100\n",
        "b = 200\n",
        "c = a + b\n",
        "print (\"So the sum of {} and {} is {}\".format(a,b,c))\n",
        "print (\"So the sum of %d and %d is %d\"%(a,b,c))\n",
        "print (\"So the sum of {0} and {1} is {2}\".format(a,b,c))"
      ],
      "execution_count": 9,
      "outputs": [
        {
          "output_type": "stream",
          "text": [
            "So the sum of 100 and 200 is 300\n",
            "So the sum of 100 and 200 is 300\n",
            "So the sum of 100 and 200 is 300\n"
          ],
          "name": "stdout"
        }
      ]
    },
    {
      "cell_type": "code",
      "metadata": {
        "id": "SaWbR0zDF5kQ",
        "colab_type": "code",
        "colab": {
          "base_uri": "https://localhost:8080/",
          "height": 102
        },
        "outputId": "f14444a0-54d7-4bfc-8282-2f2fe6ea8377"
      },
      "source": [
        "print (\"So the sum of {2} and {1} is {0}\".format(c,b,a))\n",
        "print (\"So the sum of\",a,\"and\",b,\"is\",c)\n",
        "print (\"So the sum of \"+str(a)+\" and \"+str(b)+\" is \"+str(c))\n",
        "print (\"So the sum of {fnum} and {snum} is {fsum}\".format(fnum=a,snum=b,fsum=c))\n",
        "print (\"So the sum of {fnum} and {snum} is {fsum}\".format(fsum=c,fnum=a,snum=b))"
      ],
      "execution_count": 10,
      "outputs": [
        {
          "output_type": "stream",
          "text": [
            "So the sum of 100 and 200 is 300\n",
            "So the sum of 100 and 200 is 300\n",
            "So the sum of 100 and 200 is 300\n",
            "So the sum of 100 and 200 is 300\n",
            "So the sum of 100 and 200 is 300\n"
          ],
          "name": "stdout"
        }
      ]
    },
    {
      "cell_type": "code",
      "metadata": {
        "id": "pJ6YCuxJF5kU",
        "colab_type": "code",
        "colab": {
          "base_uri": "https://localhost:8080/",
          "height": 136
        },
        "outputId": "e9d02f72-2754-4a3d-fadb-4b39dfaa6ca3"
      },
      "source": [
        "a = 100\n",
        "b = 35\n",
        "result = a + b\n",
        "print (\"So the sum of {} and {} is {}\".format(a,b,result))\n",
        "result = a - b\n",
        "print (\"So the difference of {} and {} is {}\".format(a,b,result))\n",
        "result = a * b\n",
        "print (\"So the product of {} and {} is {}\".format(a,b,result))\n",
        "result = a / b\n",
        "print (\"So the quotient of {} and {} is {}\".format(a,b,result))\n",
        "result = a // b\n",
        "print (\"So after integer division the quotient of {} and {} is {}\".format(a,b,result))\n",
        "result = a % b\n",
        "print (\"So the remainder of the division of {} and {} is {}\".format(a,b,result))\n",
        "result = a ** 3\n",
        "print (\"So the exponentiation of {} and {} is {}\".format(a,3,result))"
      ],
      "execution_count": 11,
      "outputs": [
        {
          "output_type": "stream",
          "text": [
            "So the sum of 100 and 35 is 135\n",
            "So the difference of 100 and 35 is 65\n",
            "So the product of 100 and 35 is 3500\n",
            "So the quotient of 100 and 35 is 2.857142857142857\n",
            "So after integer division the quotient of 100 and 35 is 2\n",
            "So the remainder of the division of 100 and 35 is 30\n",
            "So the exponentiation of 100 and 3 is 1000000\n"
          ],
          "name": "stdout"
        }
      ]
    },
    {
      "cell_type": "code",
      "metadata": {
        "id": "jgs_GiiYF5kY",
        "colab_type": "code",
        "colab": {
          "base_uri": "https://localhost:8080/",
          "height": 51
        },
        "outputId": "80d3ba87-d5f7-4a58-9220-b7254d161301"
      },
      "source": [
        "print (100 - 30 * 2)\n",
        "print ((100 - 30) * 2)"
      ],
      "execution_count": 12,
      "outputs": [
        {
          "output_type": "stream",
          "text": [
            "40\n",
            "140\n"
          ],
          "name": "stdout"
        }
      ]
    },
    {
      "cell_type": "code",
      "metadata": {
        "id": "QSJPua-mF5ke",
        "colab_type": "code",
        "colab": {
          "base_uri": "https://localhost:8080/",
          "height": 102
        },
        "outputId": "47bd9997-70ab-43f1-bd37-8918df07d9b1"
      },
      "source": [
        "user_name = input(\"Please enter the user name --> \")\n",
        "age = int(input(\"Please enter your age --> \"))\n",
        "print (\"So entered user name is {}\".format(user_name))\n",
        "print (\"So the entered age is {}\".format(age))\n",
        "future_age = age + 10\n",
        "print (\"After 10 years your age will be {}\".format(future_age))"
      ],
      "execution_count": 13,
      "outputs": [
        {
          "output_type": "stream",
          "text": [
            "Please enter the user name --> kjl\n",
            "Please enter your age --> 52\n",
            "So entered user name is kjl\n",
            "So the entered age is 52\n",
            "After 10 years your age will be 62\n"
          ],
          "name": "stdout"
        }
      ]
    },
    {
      "cell_type": "code",
      "metadata": {
        "id": "VniKz1btF5ki",
        "colab_type": "code",
        "colab": {
          "base_uri": "https://localhost:8080/",
          "height": 51
        },
        "outputId": "502e9688-30f1-43a4-98b6-4f5816c62008"
      },
      "source": [
        "print (\"Hello \")\n",
        "print (\"World...\")"
      ],
      "execution_count": 14,
      "outputs": [
        {
          "output_type": "stream",
          "text": [
            "Hello \n",
            "World...\n"
          ],
          "name": "stdout"
        }
      ]
    },
    {
      "cell_type": "code",
      "metadata": {
        "id": "iFLi4YWTF5km",
        "colab_type": "code",
        "colab": {
          "base_uri": "https://localhost:8080/",
          "height": 34
        },
        "outputId": "402cd03e-4fe4-4463-b160-7720bdcbf040"
      },
      "source": [
        "print (\"Hello \",end=\"\")\n",
        "print (\"World...\")"
      ],
      "execution_count": 15,
      "outputs": [
        {
          "output_type": "stream",
          "text": [
            "Hello World...\n"
          ],
          "name": "stdout"
        }
      ]
    },
    {
      "cell_type": "code",
      "metadata": {
        "id": "ae4oTAn-F5ks",
        "colab_type": "code",
        "colab": {
          "base_uri": "https://localhost:8080/",
          "height": 34
        },
        "outputId": "5fc4ba36-fcac-4e5d-90d3-2b7ca3ea07a5"
      },
      "source": [
        "print (\"Hello\",end=\"-\")\n",
        "print (\"World...\")"
      ],
      "execution_count": 16,
      "outputs": [
        {
          "output_type": "stream",
          "text": [
            "Hello-World...\n"
          ],
          "name": "stdout"
        }
      ]
    },
    {
      "cell_type": "markdown",
      "metadata": {
        "id": "c3YNGAK3H0el",
        "colab_type": "text"
      },
      "source": [
        ""
      ]
    },
    {
      "cell_type": "code",
      "metadata": {
        "id": "HQXrR4VZF5kx",
        "colab_type": "code",
        "colab": {
          "base_uri": "https://localhost:8080/",
          "height": 221
        },
        "outputId": "4d39e0b6-1244-4fe6-8a7a-1df96af735b2"
      },
      "source": [
        "help(print)"
      ],
      "execution_count": 5,
      "outputs": [
        {
          "output_type": "stream",
          "text": [
            "Help on built-in function print in module builtins:\n",
            "\n",
            "print(...)\n",
            "    print(value, ..., sep=' ', end='\\n', file=sys.stdout, flush=False)\n",
            "    \n",
            "    Prints the values to a stream, or to sys.stdout by default.\n",
            "    Optional keyword arguments:\n",
            "    file:  a file-like object (stream); defaults to the current sys.stdout.\n",
            "    sep:   string inserted between values, default a space.\n",
            "    end:   string appended after the last value, default a newline.\n",
            "    flush: whether to forcibly flush the stream.\n",
            "\n"
          ],
          "name": "stdout"
        }
      ]
    },
    {
      "cell_type": "code",
      "metadata": {
        "id": "ZUxHL6BVIIck",
        "colab_type": "code",
        "colab": {}
      },
      "source": [
        ""
      ],
      "execution_count": 0,
      "outputs": []
    },
    {
      "cell_type": "code",
      "metadata": {
        "id": "uQKwoYNvF5k7",
        "colab_type": "code",
        "colab": {
          "base_uri": "https://localhost:8080/",
          "height": 119
        },
        "outputId": "096e3cdc-7f81-450e-9f8c-29dea096314d"
      },
      "source": [
        "print (\"\\nHello\" * 5)"
      ],
      "execution_count": 17,
      "outputs": [
        {
          "output_type": "stream",
          "text": [
            "\n",
            "Hello\n",
            "Hello\n",
            "Hello\n",
            "Hello\n",
            "Hello\n"
          ],
          "name": "stdout"
        }
      ]
    },
    {
      "cell_type": "code",
      "metadata": {
        "id": "BQUsMuX5F5k_",
        "colab_type": "code",
        "colab": {
          "base_uri": "https://localhost:8080/",
          "height": 969
        },
        "outputId": "142f9ef9-836d-4cd7-ab72-703a3ae7d204"
      },
      "source": [
        "age = int(input(\"Please enter your age --> \"))\n",
        "if (age <= 20):\n",
        "    print (\"You are too young...\")\n",
        "elif (age <= 60):\n",
        "    print (\"You are in middle age...\")\n",
        "    if (age < 40):\n",
        "        print (\"{} below 40...\".format(age))\n",
        "    else:\n",
        "        print (\"{} more than 40...\".format(age))\n",
        "else:\n",
        "    print (\"You are senior citizen...\")\n",
        "    print (\"Avail some advantages...\")\n",
        "print (\"End of the evaluation...\")"
      ],
      "execution_count": 18,
      "outputs": [
        {
          "output_type": "error",
          "ename": "KeyboardInterrupt",
          "evalue": "ignored",
          "traceback": [
            "\u001b[0;31m---------------------------------------------------------------------------\u001b[0m",
            "\u001b[0;31mKeyboardInterrupt\u001b[0m                         Traceback (most recent call last)",
            "\u001b[0;32m/usr/local/lib/python3.6/dist-packages/ipykernel/kernelbase.py\u001b[0m in \u001b[0;36m_input_request\u001b[0;34m(self, prompt, ident, parent, password)\u001b[0m\n\u001b[1;32m    729\u001b[0m             \u001b[0;32mtry\u001b[0m\u001b[0;34m:\u001b[0m\u001b[0;34m\u001b[0m\u001b[0;34m\u001b[0m\u001b[0m\n\u001b[0;32m--> 730\u001b[0;31m                 \u001b[0mident\u001b[0m\u001b[0;34m,\u001b[0m \u001b[0mreply\u001b[0m \u001b[0;34m=\u001b[0m \u001b[0mself\u001b[0m\u001b[0;34m.\u001b[0m\u001b[0msession\u001b[0m\u001b[0;34m.\u001b[0m\u001b[0mrecv\u001b[0m\u001b[0;34m(\u001b[0m\u001b[0mself\u001b[0m\u001b[0;34m.\u001b[0m\u001b[0mstdin_socket\u001b[0m\u001b[0;34m,\u001b[0m \u001b[0;36m0\u001b[0m\u001b[0;34m)\u001b[0m\u001b[0;34m\u001b[0m\u001b[0;34m\u001b[0m\u001b[0m\n\u001b[0m\u001b[1;32m    731\u001b[0m             \u001b[0;32mexcept\u001b[0m \u001b[0mException\u001b[0m\u001b[0;34m:\u001b[0m\u001b[0;34m\u001b[0m\u001b[0;34m\u001b[0m\u001b[0m\n",
            "\u001b[0;32m/usr/local/lib/python3.6/dist-packages/jupyter_client/session.py\u001b[0m in \u001b[0;36mrecv\u001b[0;34m(self, socket, mode, content, copy)\u001b[0m\n\u001b[1;32m    802\u001b[0m         \u001b[0;32mtry\u001b[0m\u001b[0;34m:\u001b[0m\u001b[0;34m\u001b[0m\u001b[0;34m\u001b[0m\u001b[0m\n\u001b[0;32m--> 803\u001b[0;31m             \u001b[0mmsg_list\u001b[0m \u001b[0;34m=\u001b[0m \u001b[0msocket\u001b[0m\u001b[0;34m.\u001b[0m\u001b[0mrecv_multipart\u001b[0m\u001b[0;34m(\u001b[0m\u001b[0mmode\u001b[0m\u001b[0;34m,\u001b[0m \u001b[0mcopy\u001b[0m\u001b[0;34m=\u001b[0m\u001b[0mcopy\u001b[0m\u001b[0;34m)\u001b[0m\u001b[0;34m\u001b[0m\u001b[0;34m\u001b[0m\u001b[0m\n\u001b[0m\u001b[1;32m    804\u001b[0m         \u001b[0;32mexcept\u001b[0m \u001b[0mzmq\u001b[0m\u001b[0;34m.\u001b[0m\u001b[0mZMQError\u001b[0m \u001b[0;32mas\u001b[0m \u001b[0me\u001b[0m\u001b[0;34m:\u001b[0m\u001b[0;34m\u001b[0m\u001b[0;34m\u001b[0m\u001b[0m\n",
            "\u001b[0;32m/usr/local/lib/python3.6/dist-packages/zmq/sugar/socket.py\u001b[0m in \u001b[0;36mrecv_multipart\u001b[0;34m(self, flags, copy, track)\u001b[0m\n\u001b[1;32m    465\u001b[0m         \"\"\"\n\u001b[0;32m--> 466\u001b[0;31m         \u001b[0mparts\u001b[0m \u001b[0;34m=\u001b[0m \u001b[0;34m[\u001b[0m\u001b[0mself\u001b[0m\u001b[0;34m.\u001b[0m\u001b[0mrecv\u001b[0m\u001b[0;34m(\u001b[0m\u001b[0mflags\u001b[0m\u001b[0;34m,\u001b[0m \u001b[0mcopy\u001b[0m\u001b[0;34m=\u001b[0m\u001b[0mcopy\u001b[0m\u001b[0;34m,\u001b[0m \u001b[0mtrack\u001b[0m\u001b[0;34m=\u001b[0m\u001b[0mtrack\u001b[0m\u001b[0;34m)\u001b[0m\u001b[0;34m]\u001b[0m\u001b[0;34m\u001b[0m\u001b[0;34m\u001b[0m\u001b[0m\n\u001b[0m\u001b[1;32m    467\u001b[0m         \u001b[0;31m# have first part already, only loop while more to receive\u001b[0m\u001b[0;34m\u001b[0m\u001b[0;34m\u001b[0m\u001b[0;34m\u001b[0m\u001b[0m\n",
            "\u001b[0;32mzmq/backend/cython/socket.pyx\u001b[0m in \u001b[0;36mzmq.backend.cython.socket.Socket.recv\u001b[0;34m()\u001b[0m\n",
            "\u001b[0;32mzmq/backend/cython/socket.pyx\u001b[0m in \u001b[0;36mzmq.backend.cython.socket.Socket.recv\u001b[0;34m()\u001b[0m\n",
            "\u001b[0;32mzmq/backend/cython/socket.pyx\u001b[0m in \u001b[0;36mzmq.backend.cython.socket._recv_copy\u001b[0;34m()\u001b[0m\n",
            "\u001b[0;32m/usr/local/lib/python3.6/dist-packages/zmq/backend/cython/checkrc.pxd\u001b[0m in \u001b[0;36mzmq.backend.cython.checkrc._check_rc\u001b[0;34m()\u001b[0m\n",
            "\u001b[0;31mKeyboardInterrupt\u001b[0m: ",
            "\nDuring handling of the above exception, another exception occurred:\n",
            "\u001b[0;31mKeyboardInterrupt\u001b[0m                         Traceback (most recent call last)",
            "\u001b[0;32m<ipython-input-18-f5212c258465>\u001b[0m in \u001b[0;36m<module>\u001b[0;34m()\u001b[0m\n\u001b[0;32m----> 1\u001b[0;31m \u001b[0mage\u001b[0m \u001b[0;34m=\u001b[0m \u001b[0mint\u001b[0m\u001b[0;34m(\u001b[0m\u001b[0minput\u001b[0m\u001b[0;34m(\u001b[0m\u001b[0;34m\"Please enter your age --> \"\u001b[0m\u001b[0;34m)\u001b[0m\u001b[0;34m)\u001b[0m\u001b[0;34m\u001b[0m\u001b[0;34m\u001b[0m\u001b[0m\n\u001b[0m\u001b[1;32m      2\u001b[0m \u001b[0;32mif\u001b[0m \u001b[0;34m(\u001b[0m\u001b[0mage\u001b[0m \u001b[0;34m<=\u001b[0m \u001b[0;36m20\u001b[0m\u001b[0;34m)\u001b[0m\u001b[0;34m:\u001b[0m\u001b[0;34m\u001b[0m\u001b[0;34m\u001b[0m\u001b[0m\n\u001b[1;32m      3\u001b[0m     \u001b[0mprint\u001b[0m \u001b[0;34m(\u001b[0m\u001b[0;34m\"You are too young...\"\u001b[0m\u001b[0;34m)\u001b[0m\u001b[0;34m\u001b[0m\u001b[0;34m\u001b[0m\u001b[0m\n\u001b[1;32m      4\u001b[0m \u001b[0;32melif\u001b[0m \u001b[0;34m(\u001b[0m\u001b[0mage\u001b[0m \u001b[0;34m<=\u001b[0m \u001b[0;36m60\u001b[0m\u001b[0;34m)\u001b[0m\u001b[0;34m:\u001b[0m\u001b[0;34m\u001b[0m\u001b[0;34m\u001b[0m\u001b[0m\n\u001b[1;32m      5\u001b[0m     \u001b[0mprint\u001b[0m \u001b[0;34m(\u001b[0m\u001b[0;34m\"You are in middle age...\"\u001b[0m\u001b[0;34m)\u001b[0m\u001b[0;34m\u001b[0m\u001b[0;34m\u001b[0m\u001b[0m\n",
            "\u001b[0;32m/usr/local/lib/python3.6/dist-packages/ipykernel/kernelbase.py\u001b[0m in \u001b[0;36mraw_input\u001b[0;34m(self, prompt)\u001b[0m\n\u001b[1;32m    703\u001b[0m             \u001b[0mself\u001b[0m\u001b[0;34m.\u001b[0m\u001b[0m_parent_ident\u001b[0m\u001b[0;34m,\u001b[0m\u001b[0;34m\u001b[0m\u001b[0;34m\u001b[0m\u001b[0m\n\u001b[1;32m    704\u001b[0m             \u001b[0mself\u001b[0m\u001b[0;34m.\u001b[0m\u001b[0m_parent_header\u001b[0m\u001b[0;34m,\u001b[0m\u001b[0;34m\u001b[0m\u001b[0;34m\u001b[0m\u001b[0m\n\u001b[0;32m--> 705\u001b[0;31m             \u001b[0mpassword\u001b[0m\u001b[0;34m=\u001b[0m\u001b[0;32mFalse\u001b[0m\u001b[0;34m,\u001b[0m\u001b[0;34m\u001b[0m\u001b[0;34m\u001b[0m\u001b[0m\n\u001b[0m\u001b[1;32m    706\u001b[0m         )\n\u001b[1;32m    707\u001b[0m \u001b[0;34m\u001b[0m\u001b[0m\n",
            "\u001b[0;32m/usr/local/lib/python3.6/dist-packages/ipykernel/kernelbase.py\u001b[0m in \u001b[0;36m_input_request\u001b[0;34m(self, prompt, ident, parent, password)\u001b[0m\n\u001b[1;32m    733\u001b[0m             \u001b[0;32mexcept\u001b[0m \u001b[0mKeyboardInterrupt\u001b[0m\u001b[0;34m:\u001b[0m\u001b[0;34m\u001b[0m\u001b[0;34m\u001b[0m\u001b[0m\n\u001b[1;32m    734\u001b[0m                 \u001b[0;31m# re-raise KeyboardInterrupt, to truncate traceback\u001b[0m\u001b[0;34m\u001b[0m\u001b[0;34m\u001b[0m\u001b[0;34m\u001b[0m\u001b[0m\n\u001b[0;32m--> 735\u001b[0;31m                 \u001b[0;32mraise\u001b[0m \u001b[0mKeyboardInterrupt\u001b[0m\u001b[0;34m\u001b[0m\u001b[0;34m\u001b[0m\u001b[0m\n\u001b[0m\u001b[1;32m    736\u001b[0m             \u001b[0;32melse\u001b[0m\u001b[0;34m:\u001b[0m\u001b[0;34m\u001b[0m\u001b[0;34m\u001b[0m\u001b[0m\n\u001b[1;32m    737\u001b[0m                 \u001b[0;32mbreak\u001b[0m\u001b[0;34m\u001b[0m\u001b[0;34m\u001b[0m\u001b[0m\n",
            "\u001b[0;31mKeyboardInterrupt\u001b[0m: "
          ]
        }
      ]
    },
    {
      "cell_type": "markdown",
      "metadata": {
        "id": "1ehqh1psF5lG",
        "colab_type": "text"
      },
      "source": [
        "# This is a title with one #..."
      ]
    },
    {
      "cell_type": "markdown",
      "metadata": {
        "id": "GAO09uAxF5lH",
        "colab_type": "text"
      },
      "source": [
        "## This is a title with two #..."
      ]
    },
    {
      "cell_type": "markdown",
      "metadata": {
        "id": "ktg6m_JGF5lI",
        "colab_type": "text"
      },
      "source": [
        "### This is a title with three #..."
      ]
    },
    {
      "cell_type": "markdown",
      "metadata": {
        "id": "l6plUBE0F5lJ",
        "colab_type": "text"
      },
      "source": [
        "#### This is a title with four #..."
      ]
    },
    {
      "cell_type": "code",
      "metadata": {
        "id": "i2etYEVcF5lK",
        "colab_type": "code",
        "colab": {}
      },
      "source": [
        "# finding the maximum of two given number...\n",
        "num1 = int(input(\"Please enter the first number --> \"))\n",
        "num2 = int(input(\"Please enter the second number --> \"))\n",
        "if (num1 > num2):\n",
        "    max1 = num1\n",
        "else:\n",
        "    max1 = num2\n",
        "print (\"So the maximum of {} and {} is {}\".format(num1,num2,max1))\n",
        "print (\"End of the program...\")"
      ],
      "execution_count": 0,
      "outputs": []
    },
    {
      "cell_type": "code",
      "metadata": {
        "id": "NxsJviZkF5lQ",
        "colab_type": "code",
        "colab": {}
      },
      "source": [
        "num1 = int(input(\"Please enter the first number --> \"))\n",
        "num2 = int(input(\"Please enter the second number --> \"))\n",
        "num3 = int(input(\"Please enter the third number --> \"))\n",
        "if (num1 > num2):\n",
        "    if (num1 > num3):\n",
        "        max = num1\n",
        "    else:\n",
        "        max = num3\n",
        "elif (num2 > num3):\n",
        "    max = num2\n",
        "else:\n",
        "    max = num3\n",
        "print (\"So the maximum out of {}, {} and {} is {}\".format(num1,num2,num3,max))\n",
        "print (\"End of the program...\")\n"
      ],
      "execution_count": 0,
      "outputs": []
    },
    {
      "cell_type": "code",
      "metadata": {
        "id": "n4WOtsQxF5lU",
        "colab_type": "code",
        "colab": {}
      },
      "source": [
        "num1 = int(input(\"Please enter the first number --> \"))\n",
        "num2 = int(input(\"Please enter the second number --> \"))\n",
        "num3 = int(input(\"Please enter the third number --> \"))\n",
        "if ((num1 > num2) and (num1 > num3)):\n",
        "    print (\"So the maximum out of {}, {} and {} is {}\".format(num1,num2,num3,num1))\n",
        "elif (num2 > num3):\n",
        "    print (\"So the maximum out of {}, {} and {} is {}\".format(num1,num2,num3,num2))\n",
        "else:\n",
        "    print (\"So the maximum out of {}, {} and {} is {}\".format(num1,num2,num3,num3))"
      ],
      "execution_count": 0,
      "outputs": []
    },
    {
      "cell_type": "code",
      "metadata": {
        "id": "Spm1biakF5lX",
        "colab_type": "code",
        "colab": {}
      },
      "source": [
        "# read three numbers from the user as input and find the second maximum one...\n",
        "num1 = int(input(\"Please enter the first number --> \"))\n",
        "num2 = int(input(\"Please enter the second number --> \"))\n",
        "num3 = int(input(\"Please enter the third number --> \"))\n",
        "if (num1 > num2):\n",
        "    max1 = num1\n",
        "    max2 = num2\n",
        "else:\n",
        "    max1 = num2\n",
        "    max2 = num1\n",
        "if (num3 > max1):\n",
        "    print (\"Second maximum is {}\".format(max1))\n",
        "elif (num3 > max2):\n",
        "    print (\"Second maximum is {}\".format(num3))\n",
        "else:\n",
        "    print (\"Second maximum is {}\".format(max2))\n",
        "print (\"End of the program...\")"
      ],
      "execution_count": 0,
      "outputs": []
    },
    {
      "cell_type": "code",
      "metadata": {
        "id": "g-bWlwnMF5ll",
        "colab_type": "code",
        "colab": {}
      },
      "source": [
        "num = int(input(\"Please enter number of times --> \"))\n",
        "i = 1\n",
        "while (i <= num):\n",
        "    print (\"Looping for i = {}\".format(i))\n",
        "    # i = i + 1\n",
        "    i += 1\n",
        "print (\"End of the program...\")"
      ],
      "execution_count": 0,
      "outputs": []
    },
    {
      "cell_type": "code",
      "metadata": {
        "id": "y7obotvkF5lq",
        "colab_type": "code",
        "colab": {}
      },
      "source": [
        "print (\"Visit to doctor...\")\n",
        "d = 1\n",
        "mcount = 0\n",
        "while (d <= 7):\n",
        "    print (\"Day number --> {}\".format(d))\n",
        "    d += 1\n",
        "    m = 1\n",
        "    while (m <= 3):\n",
        "        print (\"Taking medicine number {}\".format(m))\n",
        "        m += 1\n",
        "        mcount += 1\n",
        "print (\"Thanks for all your consultancy and service...\")\n",
        "print (\"I had to purchase {} number of medicines...\".format(mcount))"
      ],
      "execution_count": 0,
      "outputs": []
    },
    {
      "cell_type": "code",
      "metadata": {
        "id": "v_tbQeM9F5lz",
        "colab_type": "code",
        "colab": {}
      },
      "source": [
        "print (\"Visit to doctor...\")\n",
        "d = 1\n",
        "while (d <= 7):\n",
        "    print (\"Day number --> {}\".format(d))\n",
        "    d += 1\n",
        "    print (\"Medicine \" * 3)\n",
        "print (\"Thanks for all your consultancy and service...\")"
      ],
      "execution_count": 0,
      "outputs": []
    },
    {
      "cell_type": "markdown",
      "metadata": {
        "id": "XxSQmPEIF5l4",
        "colab_type": "raw"
      },
      "source": [
        "n = 6 (user input)\n",
        "                i    b    *\n",
        "               -------------\n",
        ".....*          1    5    1\n",
        "....***         2    4    3    . => n - i\n",
        "...*****        3    3    5\n",
        "..*******       4    2    7    * => 2*i - 1\n",
        ".*********      5    1    9\n",
        "***********     6    0   11\n",
        "               -------------"
      ]
    },
    {
      "cell_type": "code",
      "metadata": {
        "id": "fJROpEkLF5l5",
        "colab_type": "code",
        "colab": {}
      },
      "source": [
        "print (\"Hello\" * 5, end = \"\")\n",
        "print (\"World\" * 5)"
      ],
      "execution_count": 0,
      "outputs": []
    },
    {
      "cell_type": "code",
      "metadata": {
        "id": "4IYJ0O4hF5l-",
        "colab_type": "code",
        "colab": {}
      },
      "source": [
        "num = int(input(\"Please enter the number of layers --> \"))\n",
        "i = 1\n",
        "while (i <= num):\n",
        "    print (\".\" * (num - i),end=\"\")\n",
        "    print (\"*\" * (2*i - 1))\n",
        "    i += 1\n",
        "print (\"End of the pattern...\")\n",
        "    "
      ],
      "execution_count": 0,
      "outputs": []
    },
    {
      "cell_type": "markdown",
      "metadata": {
        "id": "mkOXTLa_F5mC",
        "colab_type": "raw"
      },
      "source": [
        "n = 11 (user odd input) m = (n + 1)/2 = 6\n",
        "                i    b    *\n",
        "               -------------\n",
        ".....*          1    5    1\n",
        "....***         2    4    3    . => m - i\n",
        "...*****        3    3    5\n",
        "..*******       4    2    7    * => 2 * i - 1\n",
        ".*********      5    1    9\n",
        "***********    _6____0___11_\n",
        ".*********      7    1    9\n",
        "..*******       8    2    7    . => i - m\n",
        "...*****        9    3    5\n",
        "....***        10    4    3    * => 2*(n-i)+1\n",
        ".....*         11    5    1\n",
        "               -------------"
      ]
    },
    {
      "cell_type": "code",
      "metadata": {
        "id": "ohUwfNVJF5mE",
        "colab_type": "code",
        "colab": {}
      },
      "source": [
        "num = int(input(\"Please enter odd number of layers --> \"))\n",
        "m = (num + 1)//2\n",
        "i = 1\n",
        "while (i <= num):\n",
        "    if (i > m):\n",
        "        b = (i - m)\n",
        "        s = 2*(num - i) + 1\n",
        "    else:\n",
        "        b = m - i\n",
        "        s = 2 * i - 1\n",
        "    print (\".\" * b, end = \"\")\n",
        "    print (\"*\" * s)\n",
        "    i += 1\n",
        "print (\"End of the pattern printing...\")"
      ],
      "execution_count": 0,
      "outputs": []
    },
    {
      "cell_type": "markdown",
      "metadata": {
        "id": "9LKGkjKrF5mM",
        "colab_type": "raw"
      },
      "source": [
        "n = 11 (user odd input) m = (n + 1)/2 = 6\n",
        "                i    b    *\n",
        "               -------------\n",
        "***********     1    0   11\n",
        ".*********      2    1    9    . => (i - 1)\n",
        "..*******       3    2    7\n",
        "...*****        4    3    5    * => 2 * (m - i) + 1\n",
        "....***         5    4    3\n",
        ".....*         _6____5____1_\n",
        "....***         7    4    3\n",
        "...*****        8    3    5    . => (n - i)\n",
        "..*******       9    2    7\n",
        ".*********     10    1    9    * => 2 * (i - m) + 1\n",
        "***********    11    0   11\n",
        "               -------------"
      ]
    },
    {
      "cell_type": "code",
      "metadata": {
        "id": "7G7OqUcpF5mN",
        "colab_type": "code",
        "colab": {}
      },
      "source": [
        "num = 0\n",
        "while (num % 2 == 0):\n",
        "    num = int(input(\"Please enter odd number of layers --> \"))\n",
        "m = (num + 1) // 2\n",
        "for i in range(1, num + 1):\n",
        "    if (i > m):\n",
        "        b = (num - i)\n",
        "        s = 2 * (i - m) + 1\n",
        "    else:\n",
        "        b = i - 1\n",
        "        s = 2 * (m - i) + 1\n",
        "    print (\".\" * b, end = \"\")\n",
        "    print (\"*\" * s)\n",
        "print (\"End of the pattern printing...\")"
      ],
      "execution_count": 0,
      "outputs": []
    },
    {
      "cell_type": "code",
      "metadata": {
        "id": "6Z8smcTLF5mQ",
        "colab_type": "code",
        "colab": {}
      },
      "source": [
        "for i in range(1,10):\n",
        "    print (\"i = \",i)"
      ],
      "execution_count": 0,
      "outputs": []
    },
    {
      "cell_type": "code",
      "metadata": {
        "id": "pEmZU1WPF5mS",
        "colab_type": "code",
        "colab": {}
      },
      "source": [
        "for i in [10,22,\"arun\",10,\"hasan\",11.25,-31]:\n",
        "    print (i)"
      ],
      "execution_count": 0,
      "outputs": []
    },
    {
      "cell_type": "code",
      "metadata": {
        "id": "l4u9GQQ-F5mW",
        "colab_type": "code",
        "colab": {}
      },
      "source": [
        "num = int(input(\"Please enter an integer --> \"))\n",
        "fact = num\n",
        "for i in range(2,num):\n",
        "    fact = fact * i\n",
        "print (\"So the factorial of {} is {}\".format(num,fact))\n",
        "print (\"End of the program...\")"
      ],
      "execution_count": 0,
      "outputs": []
    },
    {
      "cell_type": "code",
      "metadata": {
        "id": "mMZcMD4mF5mb",
        "colab_type": "code",
        "colab": {}
      },
      "source": [
        "def factorial_nr(n):\n",
        "    fact = 1\n",
        "    for i in range(1,num+1):\n",
        "        fact = fact * i\n",
        "    return fact\n",
        "num = int(input(\"Please enter an integer --> \"))\n",
        "cal_fact = factorial_nr(num)\n",
        "print (\"So the factorial of {} is {}\".format(num,cal_fact))\n",
        "print (\"End of the program...\")"
      ],
      "execution_count": 0,
      "outputs": []
    },
    {
      "cell_type": "code",
      "metadata": {
        "id": "gTk7wqxoF5me",
        "colab_type": "code",
        "colab": {}
      },
      "source": [
        "def factorial_r(n):\n",
        "    if (n == 0 or n == 1):     # base case\n",
        "        return 1\n",
        "    return factorial_r(n - 1) * n     # n ! = (n - 1) ! * n\n",
        "\n",
        "num = int(input(\"Please enter an integer --> \"))\n",
        "cal_fact = factorial_r(num)\n",
        "print (\"So the factorial of {} is {}\".format(num,cal_fact))\n",
        "print (\"End of the program...\")"
      ],
      "execution_count": 0,
      "outputs": []
    },
    {
      "cell_type": "code",
      "metadata": {
        "id": "A9sjx_HBF5mj",
        "colab_type": "code",
        "colab": {}
      },
      "source": [
        "num = int (input(\"Please enter one integer --> \"))\n",
        "ch = input(\"Mention Recursive (r) or Non-Recursive (nr) --> \")\n",
        "if (ch == \"r\"):\n",
        "    fact_cal = factorial_r(num)\n",
        "else:\n",
        "    fact_cal = factorial_nr(num)\n",
        "print (\"So the factorial of {} is {}\".format(num,fact_cal))\n",
        "print (\"End of the program...\")"
      ],
      "execution_count": 0,
      "outputs": []
    },
    {
      "cell_type": "code",
      "metadata": {
        "id": "LI2SXK7QF5mo",
        "colab_type": "code",
        "colab": {}
      },
      "source": [
        "# dealing with lambda functions...\n",
        "my_func = lambda x: x * x\n",
        "i = 1\n",
        "while (i <= my_func(2)):\n",
        "    print (\"Hello\")\n",
        "    i += 1"
      ],
      "execution_count": 0,
      "outputs": []
    },
    {
      "cell_type": "code",
      "metadata": {
        "id": "fBC3cHraF5ms",
        "colab_type": "code",
        "colab": {}
      },
      "source": [
        "# dealing with lambda functions...\n",
        "my_func = lambda x, y: x * y\n",
        "print (my_func(5,6))"
      ],
      "execution_count": 0,
      "outputs": []
    },
    {
      "cell_type": "code",
      "metadata": {
        "id": "uzuJm1FdF5mx",
        "colab_type": "code",
        "colab": {}
      },
      "source": [
        "# dealing with functions with default arguments...\n",
        "def my_function(x = 111,y = 222,z = 333):\n",
        "    print (\"Values are x = {}, y = {} and z = {}\".format(x,y,z))\n",
        "my_function(100,200,300)\n",
        "my_function(100,200)\n",
        "my_function(100)\n",
        "my_function()\n",
        "my_function(y = 200,z = 300,x = 100)\n",
        "my_function(z = 300,y = 200)"
      ],
      "execution_count": 0,
      "outputs": []
    },
    {
      "cell_type": "code",
      "metadata": {
        "id": "vnFK-nRKF5m1",
        "colab_type": "code",
        "colab": {}
      },
      "source": [
        "def my_function1(x,y = None):\n",
        "    if (y is None):\n",
        "        print (\"Only one argument with x = {}\".format(x))\n",
        "    else:\n",
        "        print (\"All two arguments with x = {} and y = {}\".format(x,y))\n",
        "my_function1(100,200)\n",
        "my_function1(100)"
      ],
      "execution_count": 0,
      "outputs": []
    },
    {
      "cell_type": "code",
      "metadata": {
        "id": "LFqT7A7vF5m4",
        "colab_type": "code",
        "colab": {}
      },
      "source": [
        "def my_function2(x,y):\n",
        "    s = x + y\n",
        "    d = x - y\n",
        "    p = x * y\n",
        "    q = x / y\n",
        "    return s,d,p,q\n",
        "total,diff,prod,quot = my_function2(100,30)\n",
        "print (\"So sum = {}, difference = {}, product = {} and quotient = {}\".\\\n",
        "       format(total,diff,prod,quot))"
      ],
      "execution_count": 0,
      "outputs": []
    },
    {
      "cell_type": "code",
      "metadata": {
        "id": "VeyBVoL1F5m8",
        "colab_type": "code",
        "colab": {}
      },
      "source": [
        "#  u  n  i  v  e  r  s  i  t  y\n",
        "#  0  1  2  3  4  5  6  7  8  9\n",
        "#-10 -9 -8 -7 -6 -5 -4 -3 -2 -1\n",
        "\n",
        "mystr = \"university\"\n",
        "print (mystr[0:7])\n",
        "print (mystr[0:3])\n",
        "print (mystr[-7:-4])\n",
        "print (mystr[6:],mystr[-4:])\n",
        "print (mystr[:6],mystr[:-4])\n",
        "print (mystr[-1:-7:-1],mystr[-1:-7:-2])\n",
        "print (mystr[::-1])\n",
        "print (mystr[-2:-7:-1])"
      ],
      "execution_count": 0,
      "outputs": []
    },
    {
      "cell_type": "code",
      "metadata": {
        "id": "6CsJF6XiF5nB",
        "colab_type": "code",
        "colab": {}
      },
      "source": [
        "mystr = \"caLcuTTa unIverSity\"\n",
        "print (mystr.capitalize())\n",
        "print (mystr.upper())\n",
        "print (mystr.lower())\n",
        "print (len(mystr))"
      ],
      "execution_count": 0,
      "outputs": []
    },
    {
      "cell_type": "code",
      "metadata": {
        "id": "yqroOjR6F5nJ",
        "colab_type": "code",
        "colab": {}
      },
      "source": [
        "mystr = \"123abc\"\n",
        "print (mystr.isalpha(),mystr.isnumeric(),mystr.isdigit(),mystr.isalnum())"
      ],
      "execution_count": 0,
      "outputs": []
    },
    {
      "cell_type": "code",
      "metadata": {
        "id": "AQBw6S-rF5nN",
        "colab_type": "code",
        "colab": {}
      },
      "source": [
        "mystr = \"xyzabc\"\n",
        "print (mystr.isalpha(),mystr.isnumeric(),mystr.isdigit(),mystr.isalnum())"
      ],
      "execution_count": 0,
      "outputs": []
    },
    {
      "cell_type": "code",
      "metadata": {
        "id": "lfYt7d_JF5nU",
        "colab_type": "code",
        "colab": {}
      },
      "source": [
        "mystr = \"123456\"\n",
        "print (mystr.isalpha(),mystr.isnumeric(),mystr.isdigit(),mystr.isalnum())"
      ],
      "execution_count": 0,
      "outputs": []
    },
    {
      "cell_type": "code",
      "metadata": {
        "id": "cWwSHfubF5nW",
        "colab_type": "code",
        "colab": {}
      },
      "source": [
        "mystr = \"123@abc\"\n",
        "print (mystr.isalpha(),mystr.isnumeric(),mystr.isdigit(),mystr.isalnum())"
      ],
      "execution_count": 0,
      "outputs": []
    },
    {
      "cell_type": "code",
      "metadata": {
        "id": "GQKhqU44F5nc",
        "colab_type": "code",
        "colab": {}
      },
      "source": [
        "mystr = \"hello good morning\"\n",
        "print (mystr.find(\"good\"),mystr.find(\"Good\"))\n",
        "print (mystr.endswith(\"morning\"),mystr.endswith(\"good\",0,10))\n",
        "print (mystr.startswith(\"hello\"),mystr.startswith(\"good\",6,11),\\\n",
        "       mystr.startswith(\"good\",6))"
      ],
      "execution_count": 0,
      "outputs": []
    },
    {
      "cell_type": "code",
      "metadata": {
        "id": "ZQWPb-29F5ni",
        "colab_type": "code",
        "colab": {}
      },
      "source": [
        "mystr = \"hello good morning\"\n",
        "print (mystr.replace(\"morning\",\"night\"),\"\\n\",mystr)\n",
        "mystr = mystr.replace(\"morning\",\"night\")\n",
        "print (mystr)"
      ],
      "execution_count": 0,
      "outputs": []
    },
    {
      "cell_type": "code",
      "metadata": {
        "id": "43pVSp2TF5nl",
        "colab_type": "code",
        "colab": {}
      },
      "source": [
        "mystr = \"hello good morning\"\n",
        "mywordlist = mystr.split(\" \")\n",
        "print (mywordlist)\n",
        "for word in mywordlist:\n",
        "    print (word)"
      ],
      "execution_count": 0,
      "outputs": []
    },
    {
      "cell_type": "code",
      "metadata": {
        "id": "5VD1I8wzF5nq",
        "colab_type": "code",
        "colab": {}
      },
      "source": [
        "mystr = \"hello good morning\"\n",
        "print (mystr.find(\"good\"),mystr.find(\"Good\"))\n",
        "print (mystr.index(\"good\"),mystr.index(\"Good\"))"
      ],
      "execution_count": 0,
      "outputs": []
    },
    {
      "cell_type": "code",
      "metadata": {
        "id": "rI_jxAcbF5ny",
        "colab_type": "code",
        "colab": {}
      },
      "source": [
        "mystr = \"   university    \"\n",
        "print (mystr,len(mystr))\n",
        "print (mystr.strip(),len(mystr.strip()))\n",
        "print (mystr.lstrip(),len(mystr.lstrip()),len(mystr))\n",
        "print (mystr.rstrip(),len(mystr.rstrip()),len(mystr))"
      ],
      "execution_count": 0,
      "outputs": []
    },
    {
      "cell_type": "code",
      "metadata": {
        "id": "Cj-x-BGmF5n9",
        "colab_type": "code",
        "colab": {}
      },
      "source": [
        "mystr = \"@@@university####\"\n",
        "print (mystr,len(mystr))\n",
        "print (mystr.lstrip(\"@\"),len(mystr.lstrip(\"@\")),len(mystr))\n",
        "print (mystr.rstrip(\"#\"),len(mystr.rstrip(\"#\")),len(mystr))"
      ],
      "execution_count": 0,
      "outputs": []
    },
    {
      "cell_type": "code",
      "metadata": {
        "id": "HJthMu50F5oB",
        "colab_type": "code",
        "colab": {}
      },
      "source": [
        "# count the number vowels and consonants in a given word...\n",
        "myword = input(\"Please enter a word --> \")\n",
        "# myword = myword.strip()\n",
        "# myword = myword.lower()\n",
        "myword = myword.lower().strip()\n",
        "mystrlen = len(myword)\n",
        "print (myword,mystrlen)\n",
        "vcount = 0\n",
        "for i in range(0,mystrlen):\n",
        "    ch = myword[i:i+1]\n",
        "    print (\"Retrieved character is {}\".format(ch))\n",
        "    if (ch is \"a\" or ch is \"e\" or ch is \"i\" or ch is \"o\" or ch is \"u\"):\n",
        "        vcount += 1\n",
        "print (\"So vowel count = {} and consonant count = {}\".format(vcount,mystrlen-vcount))\n",
        "print (\"End of the program...\")"
      ],
      "execution_count": 0,
      "outputs": []
    },
    {
      "cell_type": "code",
      "metadata": {
        "id": "7IjsWcjQF5oE",
        "colab_type": "code",
        "colab": {}
      },
      "source": [
        "# count the number vowels and consonants in a given word...\n",
        "myword = input(\"Please enter a word --> \")\n",
        "# myword = myword.strip()\n",
        "# myword = myword.lower()\n",
        "myword = myword.lower().strip()\n",
        "mystrlen = len(myword)\n",
        "print (myword,mystrlen)\n",
        "vcount = 0\n",
        "vowel_list = [\"a\",\"e\",\"i\",\"o\",\"u\"]\n",
        "for i in range(0,mystrlen):\n",
        "    ch = myword[i:i+1]\n",
        "    print (\"Retrieved character is {}\".format(ch))\n",
        "    if (ch in vowel_list):\n",
        "        vcount += 1\n",
        "print (\"So vowel count = {} and consonant count = {}\".format(vcount,mystrlen-vcount))\n",
        "print (\"End of the program...\")"
      ],
      "execution_count": 0,
      "outputs": []
    },
    {
      "cell_type": "code",
      "metadata": {
        "id": "EThmXWJoF5oG",
        "colab_type": "code",
        "colab": {}
      },
      "source": [
        "# dealing with numbers\n",
        "import math"
      ],
      "execution_count": 0,
      "outputs": []
    },
    {
      "cell_type": "code",
      "metadata": {
        "id": "QCW6ZdkFF5oI",
        "colab_type": "code",
        "colab": {}
      },
      "source": [
        "a = 4.6\n",
        "print (math.ceil(a))\n",
        "print (math.floor(a))\n",
        "b = 9\n",
        "print (math.sqrt(b))\n",
        "print (math.exp(3.0))\n",
        "print (math.log(2.0))\n",
        "print (math.pow(2.0,3.0),2.0 ** 3.0)\n",
        "print (math.sin(0))\n",
        "print (math.cos(0))\n",
        "print (math.tan(45))\n",
        "print (abs(-45))"
      ],
      "execution_count": 0,
      "outputs": []
    },
    {
      "cell_type": "code",
      "metadata": {
        "id": "sgzZqIIEF5oK",
        "colab_type": "code",
        "colab": {}
      },
      "source": [
        "# dealing with the list....\n",
        "grocery_list = [\"juice\",\"tomatoes\",\"potatoes\",\"bananas\"]\n",
        "print (grocery_list)"
      ],
      "execution_count": 0,
      "outputs": []
    },
    {
      "cell_type": "code",
      "metadata": {
        "id": "U2Uy4QmEF5oR",
        "colab_type": "code",
        "colab": {}
      },
      "source": [
        "print (\"So the first item is : \",grocery_list[0])\n",
        "grocery_list[0] = \"green juice\"\n",
        "print (grocery_list)\n",
        "print (grocery_list[1:3])\n",
        "print (grocery_list[-3:-1])"
      ],
      "execution_count": 0,
      "outputs": []
    },
    {
      "cell_type": "code",
      "metadata": {
        "id": "9nQgGIWjF5oV",
        "colab_type": "code",
        "colab": {}
      },
      "source": [
        "other_events = [\"wash car\",\"pick up kids\",\"cash check\"]\n",
        "print (other_events)\n",
        "print (grocery_list)\n",
        "to_do_list = [other_events,grocery_list]\n",
        "print (to_do_list)\n",
        "print (to_do_list[0])\n",
        "print (to_do_list[1])\n",
        "print (to_do_list[1][1])\n",
        "print (len(to_do_list))\n",
        "print (len(to_do_list[1]))"
      ],
      "execution_count": 0,
      "outputs": []
    },
    {
      "cell_type": "code",
      "metadata": {
        "id": "g9hemzGrF5oe",
        "colab_type": "code",
        "colab": {}
      },
      "source": [
        "print (grocery_list)\n",
        "grocery_list.append(\"onion\")\n",
        "print (grocery_list)\n",
        "grocery_list.insert(1,\"pickle\")\n",
        "print (grocery_list)"
      ],
      "execution_count": 0,
      "outputs": []
    },
    {
      "cell_type": "code",
      "metadata": {
        "id": "urn6E1H2F5oh",
        "colab_type": "code",
        "colab": {}
      },
      "source": [
        "print (grocery_list)\n",
        "grocery_list.sort()\n",
        "print (grocery_list)"
      ],
      "execution_count": 0,
      "outputs": []
    },
    {
      "cell_type": "code",
      "metadata": {
        "id": "s8W6J9CJF5oq",
        "colab_type": "code",
        "colab": {}
      },
      "source": [
        "print (grocery_list)\n",
        "grocery_list.remove(\"pickle\")\n",
        "print (grocery_list)"
      ],
      "execution_count": 0,
      "outputs": []
    },
    {
      "cell_type": "code",
      "metadata": {
        "id": "avSx8jSSF5ot",
        "colab_type": "code",
        "colab": {}
      },
      "source": [
        "print (grocery_list)\n",
        "grocery_list.reverse()\n",
        "print (grocery_list)"
      ],
      "execution_count": 0,
      "outputs": []
    },
    {
      "cell_type": "code",
      "metadata": {
        "id": "hjUNHLllF5oy",
        "colab_type": "code",
        "colab": {}
      },
      "source": [
        "print (grocery_list)\n",
        "del grocery_list[2]\n",
        "print (grocery_list)"
      ],
      "execution_count": 0,
      "outputs": []
    },
    {
      "cell_type": "code",
      "metadata": {
        "id": "6qODmJSxF5o1",
        "colab_type": "code",
        "colab": {}
      },
      "source": [
        "print (grocery_list)\n",
        "print (other_events)\n",
        "to_do_list1 = [grocery_list, other_events]\n",
        "to_do_list2 = grocery_list + other_events\n",
        "print (to_do_list1)\n",
        "print (to_do_list2)"
      ],
      "execution_count": 0,
      "outputs": []
    },
    {
      "cell_type": "code",
      "metadata": {
        "id": "QRXnxHCyF5o9",
        "colab_type": "code",
        "colab": {}
      },
      "source": [
        "print (len(to_do_list2))\n",
        "print (max(to_do_list2))\n",
        "print (min(to_do_list2))"
      ],
      "execution_count": 0,
      "outputs": []
    },
    {
      "cell_type": "code",
      "metadata": {
        "id": "94t7mrxPF5pD",
        "colab_type": "code",
        "colab": {}
      },
      "source": [
        "my_list = []\n",
        "print (my_list)\n",
        "print (grocery_list)\n",
        "del grocery_list\n",
        "print (grocery_list)"
      ],
      "execution_count": 0,
      "outputs": []
    },
    {
      "cell_type": "code",
      "metadata": {
        "id": "FdDf4YkxF5pG",
        "colab_type": "code",
        "colab": {}
      },
      "source": [
        "num = int(input(\"Please enter the number of items --> \"))\n",
        "my_list = []\n",
        "my_odd_list = []\n",
        "my_even_list = []\n",
        "for i in range(0,num):\n",
        "    item = int(input(\"Please enter item value for index \"+str(i)))\n",
        "    my_list.append(item)\n",
        "print (\"Displaying the current content of my list...\")\n",
        "print (my_list)\n",
        "print (\"Now doing processing of my data...\")\n",
        "for item in my_list:\n",
        "    if (item % 2 == 0):\n",
        "        my_even_list.append(item)\n",
        "    else:\n",
        "        my_odd_list.append(item)\n",
        "print (\"So the processed even list is \",my_even_list)\n",
        "print (\"So the processed odd list is \",my_odd_list)\n",
        "print (\"End of the program...\")"
      ],
      "execution_count": 0,
      "outputs": []
    },
    {
      "cell_type": "code",
      "metadata": {
        "id": "9HtaUKz3F5pI",
        "colab_type": "code",
        "colab": {}
      },
      "source": [
        "# Dealing with the tuples...\n",
        "my_tuple = (1,2,\"amit\",34)\n",
        "print (my_tuple)\n",
        "pi_tuple = (3,1,4,1,5,9)\n",
        "print (pi_tuple)"
      ],
      "execution_count": 0,
      "outputs": []
    },
    {
      "cell_type": "code",
      "metadata": {
        "id": "RYcKbQQlF5pK",
        "colab_type": "code",
        "colab": {}
      },
      "source": [
        "pi_tuple[2] = '8'     # assignment on tuple is not permitted"
      ],
      "execution_count": 0,
      "outputs": []
    },
    {
      "cell_type": "code",
      "metadata": {
        "id": "GFxFl9ueF5pQ",
        "colab_type": "code",
        "colab": {}
      },
      "source": [
        "print (\"Before tuple update : \",pi_tuple)\n",
        "pi_list = list(pi_tuple)\n",
        "print (\"Before list update : \",pi_list)\n",
        "pi_list[2] = 8\n",
        "print (\"After list update : \",pi_list)\n",
        "pi_tuple = tuple(pi_list)\n",
        "print (\"After tuple update : \",pi_tuple)"
      ],
      "execution_count": 0,
      "outputs": []
    },
    {
      "cell_type": "code",
      "metadata": {
        "id": "KEUzdRyIF5pX",
        "colab_type": "code",
        "colab": {}
      },
      "source": [
        "print (\"Length of the tuple =\",len(pi_tuple))\n",
        "print (\"Maximum element of the tuple =\",max(pi_tuple))\n",
        "print (\"Minimum element of the tuple =\",min(pi_tuple))\n",
        "print (\"Element at index 2 is\",pi_tuple[2])"
      ],
      "execution_count": 0,
      "outputs": []
    },
    {
      "cell_type": "code",
      "metadata": {
        "id": "WubAMjx7F5pZ",
        "colab_type": "code",
        "colab": {}
      },
      "source": [
        "# dealing with the dictionaries also called maps\n",
        "# dictionary contains key and value pairs where all the keys must be distinct/unique\n",
        "# dictionary should be enclosed with in second brackets i.e. {}"
      ],
      "execution_count": 0,
      "outputs": []
    },
    {
      "cell_type": "code",
      "metadata": {
        "id": "lw3SGUErF5pc",
        "colab_type": "code",
        "colab": {}
      },
      "source": [
        "dict_fruit = {\"banana\":\"yellow\",\n",
        "              \"apple\":\"red\",\n",
        "              \"guava\":\"green\",\n",
        "              \"grape\":\"black\",\n",
        "              100:\"orange\"}\n",
        "print (dict_fruit)"
      ],
      "execution_count": 0,
      "outputs": []
    },
    {
      "cell_type": "code",
      "metadata": {
        "id": "5BP4qOTBF5pe",
        "colab_type": "code",
        "colab": {}
      },
      "source": [
        "print (dict_fruit[100])\n",
        "print (len(dict_fruit))"
      ],
      "execution_count": 0,
      "outputs": []
    },
    {
      "cell_type": "code",
      "metadata": {
        "id": "Y5rXk_jWF5ph",
        "colab_type": "code",
        "colab": {}
      },
      "source": [
        "print (dict_fruit)\n",
        "del dict_fruit[\"grape\"]\n",
        "print (dict_fruit)"
      ],
      "execution_count": 0,
      "outputs": []
    },
    {
      "cell_type": "code",
      "metadata": {
        "id": "xAv-73EtF5pk",
        "colab_type": "code",
        "colab": {}
      },
      "source": [
        "dict_fruit[\"grape\"] = \"green\"\n",
        "print (dict_fruit)\n",
        "print (dict_fruit.get(\"apple\"))\n",
        "print (dict_fruit[\"apple\"])"
      ],
      "execution_count": 0,
      "outputs": []
    },
    {
      "cell_type": "code",
      "metadata": {
        "id": "hJ91_Fa5F5po",
        "colab_type": "code",
        "colab": {}
      },
      "source": [
        "print (\"All dictionary keys are --> \\n\",dict_fruit.keys())\n",
        "print (\"All dictionary values are --> \\n\",dict_fruit.values())\n",
        "print (\"All dictionary items are --> \\n\",dict_fruit.items())"
      ],
      "execution_count": 0,
      "outputs": []
    },
    {
      "cell_type": "code",
      "metadata": {
        "id": "tDKIhGqSF5ps",
        "colab_type": "code",
        "colab": {}
      },
      "source": [
        "print (dict_fruit)\n",
        "dict_fruit.clear()\n",
        "print (dict_fruit)\n",
        "del dict_fruit\n",
        "print (dict_fruit)"
      ],
      "execution_count": 0,
      "outputs": []
    },
    {
      "cell_type": "code",
      "metadata": {
        "id": "ick2YG9WF5py",
        "colab_type": "code",
        "colab": {}
      },
      "source": [
        "# dealing with sets and its different manipulations...\n",
        "# creating an empty set\n",
        "empty_set = set()\n",
        "print (empty_set)"
      ],
      "execution_count": 0,
      "outputs": []
    },
    {
      "cell_type": "code",
      "metadata": {
        "id": "OGfFb00eF5p3",
        "colab_type": "code",
        "colab": {}
      },
      "source": [
        "# creating non-empty list\n",
        "# creating a set directly\n",
        "languages = {\"python\",\"r\",\"java\"}\n",
        "# creating a set from a list\n",
        "snakes = set([\"cobra\",\"viper\",\"python\"])\n",
        "print (languages)\n",
        "print (snakes)\n",
        "print (len(languages))"
      ],
      "execution_count": 0,
      "outputs": []
    },
    {
      "cell_type": "code",
      "metadata": {
        "id": "QQDUjhMpF5p5",
        "colab_type": "code",
        "colab": {}
      },
      "source": [
        "print (languages)\n",
        "\"kotlin\" in languages"
      ],
      "execution_count": 0,
      "outputs": []
    },
    {
      "cell_type": "code",
      "metadata": {
        "id": "ivXquKh0F5p-",
        "colab_type": "code",
        "colab": {}
      },
      "source": [
        "print (languages)\n",
        "\"python\" in languages"
      ],
      "execution_count": 0,
      "outputs": []
    },
    {
      "cell_type": "code",
      "metadata": {
        "id": "U8_QboNdF5qI",
        "colab_type": "code",
        "colab": {}
      },
      "source": [
        "print (languages)\n",
        "\"kotlin\" not in languages"
      ],
      "execution_count": 0,
      "outputs": []
    },
    {
      "cell_type": "code",
      "metadata": {
        "id": "fX7hLb0nF5qK",
        "colab_type": "code",
        "colab": {}
      },
      "source": [
        "print (languages)\n",
        "print (snakes)\n",
        "# performing the intersection operation...\n",
        "print (languages & snakes)\n",
        "print (languages.intersection(snakes))"
      ],
      "execution_count": 0,
      "outputs": []
    },
    {
      "cell_type": "code",
      "metadata": {
        "id": "SAjh0tazF5qQ",
        "colab_type": "code",
        "colab": {}
      },
      "source": [
        "print (languages)\n",
        "print (snakes)\n",
        "# performing the union operation...\n",
        "print (languages | snakes)\n",
        "print (languages.union(snakes))"
      ],
      "execution_count": 0,
      "outputs": []
    },
    {
      "cell_type": "code",
      "metadata": {
        "id": "Epi2f3wbF5qX",
        "colab_type": "code",
        "colab": {}
      },
      "source": [
        "print (languages)\n",
        "print (snakes)\n",
        "# performing the set difference operation...\n",
        "print (languages - snakes)\n",
        "print (languages.difference(snakes))"
      ],
      "execution_count": 0,
      "outputs": []
    },
    {
      "cell_type": "code",
      "metadata": {
        "id": "16ZYv3GdF5qZ",
        "colab_type": "code",
        "colab": {}
      },
      "source": [
        "print (languages)\n",
        "print (snakes)\n",
        "# performing the set symmetric difference operation...\n",
        "print (languages.symmetric_difference(snakes))"
      ],
      "execution_count": 0,
      "outputs": []
    },
    {
      "cell_type": "code",
      "metadata": {
        "id": "QybCRmGeF5qb",
        "colab_type": "code",
        "colab": {}
      },
      "source": [
        "# adding new members in the set\n",
        "print (languages)\n",
        "languages.add(\"sql\")\n",
        "print (languages)\n",
        "languages.add(\"r\")\n",
        "print (languages)\n",
        "languages.add(\"r\")\n",
        "print (languages)"
      ],
      "execution_count": 0,
      "outputs": []
    },
    {
      "cell_type": "code",
      "metadata": {
        "id": "pLTcYcfTF5qd",
        "colab_type": "code",
        "colab": {}
      },
      "source": [
        "# removing elements from the set\n",
        "print (languages)\n",
        "languages.remove(\"java\")\n",
        "print (languages)"
      ],
      "execution_count": 0,
      "outputs": []
    },
    {
      "cell_type": "code",
      "metadata": {
        "id": "HyoRCbuoF5qr",
        "colab_type": "code",
        "colab": {}
      },
      "source": [
        "print (languages)\n",
        "try:\n",
        "    languages.remove(\"c++\")\n",
        "except KeyError as ke:\n",
        "    print (\"Error: \",ke)"
      ],
      "execution_count": 0,
      "outputs": []
    },
    {
      "cell_type": "code",
      "metadata": {
        "id": "eud03x5bF5qu",
        "colab_type": "code",
        "colab": {}
      },
      "source": [
        "languages.discard(\"c++\")"
      ],
      "execution_count": 0,
      "outputs": []
    },
    {
      "cell_type": "code",
      "metadata": {
        "id": "gsOba-a_F5qw",
        "colab_type": "code",
        "colab": {}
      },
      "source": [
        "print (languages)\n",
        "languages.clear()\n",
        "print (languages)"
      ],
      "execution_count": 0,
      "outputs": []
    },
    {
      "cell_type": "code",
      "metadata": {
        "id": "E9HzrVrQF5qz",
        "colab_type": "code",
        "colab": {}
      },
      "source": [
        "languages.update(\"122\",\"344\")\n",
        "print (languages)"
      ],
      "execution_count": 0,
      "outputs": []
    },
    {
      "cell_type": "code",
      "metadata": {
        "id": "T2QuDr6kF5rE",
        "colab_type": "code",
        "colab": {}
      },
      "source": [
        "languages.update(\"go\",\"spark\")\n",
        "print (languages)"
      ],
      "execution_count": 0,
      "outputs": []
    },
    {
      "cell_type": "code",
      "metadata": {
        "id": "tCUNSRHBF5rK",
        "colab_type": "code",
        "colab": {}
      },
      "source": [
        "# assignment: forming a list of distinct and sorted elepemts\n",
        "my_list = [44,22,33,22,11,44,33,22,44]\n",
        "print (\"My original list is:\",my_list)\n",
        "my_list = sorted(set(my_list))\n",
        "print (\"My sorted and distinct element list is:\",my_list)"
      ],
      "execution_count": 0,
      "outputs": []
    },
    {
      "cell_type": "code",
      "metadata": {
        "id": "bQHYi5ofF5rM",
        "colab_type": "code",
        "colab": {}
      },
      "source": [
        "# dealing with the database\n",
        "# creation of database and table\n",
        "import sqlite3                 # importing required module\n",
        "# use the database if it pre-exists or create a new one\n",
        "connection = sqlite3.connect(\"employee_database.db\")\n",
        "print (\"Connected with the database\")\n",
        "# create employee table as employee (emp_id,emp_name,city,salary)\n",
        "sql = '''\n",
        "CREATE TABLE employee (\n",
        "emp_id INTEGER PRIMAR KEY,\n",
        "emp_name TEXT,\n",
        "city TEXT,\n",
        "salary REAL);\n",
        "'''\n",
        "try:    # create the table if it does not exist\n",
        "    connection.execute(sql)\n",
        "    print (\"Table Created...\")\n",
        "except:\n",
        "    print (\"Error !!! Table couldn't be created...\")"
      ],
      "execution_count": 0,
      "outputs": []
    },
    {
      "cell_type": "code",
      "metadata": {
        "id": "ZYWhTMAdF5rO",
        "colab_type": "code",
        "colab": {}
      },
      "source": [
        "import csv\n",
        "\n",
        "# inserting records form csv file to the table.\n",
        "sql = \"INSERT INTO employee VALUES ({emp_id},'{emp_name}','{city}','{salary}');\"\n",
        "# read lines from the csv file and store them into the table\n",
        "with open('emp_data.csv') as data_file:\n",
        "    csv_reader = csv.reader(data_file)\n",
        "    # reader to read from data_file with ',' delimiter\n",
        "    for row in csv_reader:   # from each row, take data and insert into the table\n",
        "        connection.execute(sql.format(emp_id=row[0],emp_name=row[1],city=row[2],\n",
        "                                      salary=row[3]))\n",
        "        connection.commit()  # commit after inserting data to make change permanent\n",
        "print (\"All data are inserted...\")"
      ],
      "execution_count": 0,
      "outputs": []
    },
    {
      "cell_type": "code",
      "metadata": {
        "id": "YvZLxfOhF5rQ",
        "colab_type": "code",
        "colab": {}
      },
      "source": [
        "# Retrieving records from the database table\n",
        "# SQL for fetching all records from the table\n",
        "sql = 'SELECT * FROM employee;'\n",
        "# read from table and point the cursor into the variable table\n",
        "table = connection.execute(sql)\n",
        "for row in table:\n",
        "    print (\"ID: \"+str(row[0])+\" Name: \"+str(row[1])+\" City: \"+str(row[2])+\n",
        "                                            \" Salary: \"+str(row[3])+\"...\")"
      ],
      "execution_count": 0,
      "outputs": []
    },
    {
      "cell_type": "code",
      "metadata": {
        "id": "9hQi1hITF5rV",
        "colab_type": "code",
        "colab": {}
      },
      "source": [
        "# Retrieving records from the database table\n",
        "# SQL for fetching name and city of those employees whose salary is greater than 30000\n",
        "sql = 'SELECT * FROM employee where salary > 30000;'\n",
        "# read from table and point the cursor into the variable table\n",
        "table = connection.execute(sql)\n",
        "for row in table:\n",
        "    print (\"Name: \"+str(row[1])+\" City: \"+str(row[2])+\"...\")"
      ],
      "execution_count": 0,
      "outputs": []
    },
    {
      "cell_type": "code",
      "metadata": {
        "id": "w1LiJ75nF5ra",
        "colab_type": "code",
        "colab": {}
      },
      "source": [
        "# update operation on the records of the table\n",
        "# update the salary to 30000 of those employees where city is Chennai\n",
        "sql = \"UPDATE employee SET salary = 30000 WHERE city = 'Chennai';\"\n",
        "table = connection.execute(sql)\n",
        "connection.commit()     # after update do commit to make the change permanent\n",
        "\n",
        "# SQL for fetching all records from the table\n",
        "sql = 'SELECT * FROM employee;'\n",
        "# read from table and point the cursor into the variable table\n",
        "table = connection.execute(sql)\n",
        "for row in table:\n",
        "    print (\"ID: \"+str(row[0])+\" Name: \"+str(row[1])+\" City: \"+str(row[2])+\n",
        "                                            \" Salary: \"+str(row[3])+\"...\")"
      ],
      "execution_count": 0,
      "outputs": []
    },
    {
      "cell_type": "code",
      "metadata": {
        "id": "FTVWJgI-F5rc",
        "colab_type": "code",
        "colab": {}
      },
      "source": [
        "# deleting records from the table\n",
        "# delete those records where city = \"Kolkata\"\n",
        "sql = \"DELETE FROM employee WHERE city = 'Kolkata';\"\n",
        "table = connection.execute(sql)\n",
        "connection.commit()  # after deletion making the change permanent through commit\n",
        "\n",
        "# SQL for fetching all records from the table\n",
        "sql = 'SELECT * FROM employee;'\n",
        "# read from table and point the cursor into the variable table\n",
        "table = connection.execute(sql)\n",
        "for row in table:\n",
        "    print (\"ID: \"+str(row[0])+\" Name: \"+str(row[1])+\" City: \"+str(row[2])+\n",
        "                                            \" Salary: \"+str(row[3])+\"...\")"
      ],
      "execution_count": 0,
      "outputs": []
    },
    {
      "cell_type": "code",
      "metadata": {
        "id": "6AQQBaN5F5rd",
        "colab_type": "code",
        "colab": {}
      },
      "source": [
        "# dealing with the break statement\n",
        "i = 0\n",
        "while (i <= 10):\n",
        "    print (\"i =\",i)\n",
        "    if (i > 5):\n",
        "        break\n",
        "    i = i + 1\n",
        "print (\"End of the program...\")"
      ],
      "execution_count": 0,
      "outputs": []
    },
    {
      "cell_type": "code",
      "metadata": {
        "id": "74EOD1zqF5rf",
        "colab_type": "code",
        "colab": {}
      },
      "source": [
        "# dealing with the continue statement\n",
        "i = 0\n",
        "while (i <= 10):\n",
        "    i = i + 1\n",
        "    if (i == 5 or i == 7):\n",
        "        continue\n",
        "    print (\"i =\",i)\n",
        "print (\"End of the program...\")"
      ],
      "execution_count": 0,
      "outputs": []
    },
    {
      "cell_type": "code",
      "metadata": {
        "id": "8pTWxuI2F5rh",
        "colab_type": "code",
        "colab": {}
      },
      "source": [
        "my_list = [ 11,22,33,44]\n",
        "for data in my_list:\n",
        "    print (data)\n",
        "    pass          # pass is a statement which actually does nothing\n",
        "    pass          # pass here can be used as place holder for future code insertion\n",
        "print (\"End of the program...\")"
      ],
      "execution_count": 0,
      "outputs": []
    },
    {
      "cell_type": "code",
      "metadata": {
        "id": "UH5lDeHCF5rn",
        "colab_type": "code",
        "colab": {}
      },
      "source": [
        "# using random numbers...\n",
        "import random\n",
        "rand_num = random.randrange(0,20)\n",
        "while (rand_num != 15):\n",
        "    rand_num = random.randrange(0,20)\n",
        "    print (\"Current random number is --> \",rand_num)\n",
        "print (\"\\nEnd of the program...\")    "
      ],
      "execution_count": 0,
      "outputs": []
    },
    {
      "cell_type": "code",
      "metadata": {
        "id": "GBgF2irGF5rp",
        "colab_type": "code",
        "colab": {}
      },
      "source": [
        "# dealing with file I/O\n",
        "# writing on file\n",
        "test_file = open(\"mydatafile.txt\",\"wb\")\n",
        "print (test_file.mode)\n",
        "print (test_file.name)\n",
        "test_file.write(bytes(\"Write this line on file\\n\",\"UTF-8\"))\n",
        "test_file.close()"
      ],
      "execution_count": 0,
      "outputs": []
    },
    {
      "cell_type": "code",
      "metadata": {
        "id": "9_gs2qGCF5rq",
        "colab_type": "code",
        "colab": {}
      },
      "source": [
        "help(open)"
      ],
      "execution_count": 0,
      "outputs": []
    },
    {
      "cell_type": "code",
      "metadata": {
        "id": "EsEK29ncF5rs",
        "colab_type": "code",
        "colab": {}
      },
      "source": [
        "# reading from text file\n",
        "test_file = open(\"mydatafile.txt\",\"r+\")   \n",
        "# we can also use \"ab+\" to read and append to the file. It also opens/creates the file\n",
        "text_in_file = test_file.read()\n",
        "print (text_in_file)\n",
        "test_file.close()"
      ],
      "execution_count": 0,
      "outputs": []
    },
    {
      "cell_type": "code",
      "metadata": {
        "id": "6E9ntMRXF5rw",
        "colab_type": "code",
        "colab": {}
      },
      "source": [
        "# deleating the file from the secondary storage\n",
        "import os\n",
        "os.remove(\"mydatafile.txt\")"
      ],
      "execution_count": 0,
      "outputs": []
    },
    {
      "cell_type": "code",
      "metadata": {
        "id": "cuQ7GhQyF5rz",
        "colab_type": "code",
        "colab": {}
      },
      "source": [
        "# dealing with the exceptions...\n",
        "try:\n",
        "    num1 = int(input(\"Please enter the first number --> \")) \n",
        "    num2 = int(input(\"Please enter the second number --> \"))\n",
        "    quot = num1 / num2\n",
        "    print (\"So the quotient of {} and {} is {}\".format(num1,num2,quot))\n",
        "except ArithmeticError:\n",
        "    print (\"Division by ZERO is Illegal...\")\n",
        "except ValueError:\n",
        "    print (\"Put only numeric values as input...\")\n",
        "except:\n",
        "    print (\"Illegal comuputation...\")\n",
        "else:\n",
        "    print (\"Successful completion of the computation...\")\n",
        "print (\"End of the program...\")"
      ],
      "execution_count": 0,
      "outputs": []
    },
    {
      "cell_type": "code",
      "metadata": {
        "id": "V_bLqEgmF5r2",
        "colab_type": "code",
        "colab": {}
      },
      "source": [
        "# dealing with the exceptions...\n",
        "try:\n",
        "    num1 = int(input(\"Please enter the first number --> \")) \n",
        "    num2 = int(input(\"Please enter the second number --> \"))\n",
        "    if (num1 < 0 or num2 < 0):\n",
        "        raise NameError(\"Negative numbers...\")\n",
        "    quot = num1 / num2\n",
        "    print (\"So the quotient of {} and {} is {}\".format(num1,num2,quot))\n",
        "except NameError as ne:\n",
        "    print (\"Internal error has occurred with message --> \"+str(ne))\n",
        "except ArithmeticError:\n",
        "    print (\"Division by ZERO is Illegal...\")\n",
        "except ValueError:\n",
        "    print (\"Put only numeric values as input...\")\n",
        "except:\n",
        "    print (\"Illegal comuputation...\")\n",
        "else:\n",
        "    print (\"Successful completion of the computation...\")\n",
        "print (\"End of the program...\")"
      ],
      "execution_count": 0,
      "outputs": []
    },
    {
      "cell_type": "code",
      "metadata": {
        "id": "v0f73BJoF5r4",
        "colab_type": "code",
        "colab": {}
      },
      "source": [
        "class MyClass1:\n",
        "    __classVar1 = 0\n",
        "    __classVar2 = 0\n",
        "    def __init__(self,data1,data2,data3,data4):\n",
        "        self.__instVar1 = data1\n",
        "        self.__instVar2 = data2\n",
        "        MyClass1.__classVar1 = data3\n",
        "        MyClass1.__classVar2 = data4\n",
        "    def displayData(self):\n",
        "        print (\"Instance variables are {} and {}\".\\\n",
        "               format(self.__instVar1,self.__instVar2))\n",
        "        print (\"Class variables are {} and {}\".\\\n",
        "               format(MyClass1.__classVar1,MyClass1.__classVar2))\n",
        "    def updateCV(self,data1,data2):\n",
        "        print (\"Updating class variables...\")\n",
        "        MyClass1.__classVar1 = data1\n",
        "        MyClass1.__classVar2 = data2\n",
        "    def updateIV(self,data1,data2):\n",
        "        print (\"Updating instance variables...\")\n",
        "        self.__instVar1 = data1\n",
        "        self.__instVar2 = data2\n",
        "ob1 = MyClass1(100,200,300,400)\n",
        "ob1.displayData()\n",
        "print (\"\")\n",
        "ob2 = MyClass1(111,222,333,444)\n",
        "ob2.displayData()\n",
        "print (\"\")\n",
        "ob1.updateIV(30,40)\n",
        "ob1.displayData()\n",
        "ob2.displayData()\n",
        "print (\"\")\n",
        "ob1.updateCV(88,99)\n",
        "ob1.displayData()\n",
        "ob2.displayData()"
      ],
      "execution_count": 0,
      "outputs": []
    },
    {
      "cell_type": "code",
      "metadata": {
        "id": "ds7b4CRMF5r6",
        "colab_type": "code",
        "colab": {},
        "outputId": "0d822da0-08b9-4621-81bf-a4f3aa4bcbc3"
      },
      "source": [
        "# dealing with classes and objects\n",
        "class Animal:\n",
        "    def __init__(self,name,height,weight,sound):   # delcaring consturctor method\n",
        "        self.__name = name\n",
        "        self.__height = height\n",
        "        self.__weight = weight\n",
        "        self.__sound = sound\n",
        "    # now declaring setter and getter methods for all respective instance variables\n",
        "    def set_name(self,name):      # setter method for name attribute\n",
        "        self.__name = name\n",
        "    def get_name(self):           # getter method for name attribute\n",
        "        return self.__name\n",
        "    def set_height(self,height):  # setter method for height attribute\n",
        "        self.__height = height\n",
        "    def get_height(self):         # getter method for height attribute\n",
        "        return self.__height\n",
        "    def set_weight(self,weight):  # setter method for weight attribute\n",
        "        self.__weight = weight\n",
        "    def get_weight(self):         # getter method for weight attribute\n",
        "        return self.__weight\n",
        "    def set_sound(self,sound):    # setter method for sound attribute\n",
        "        self.__sound = sound\n",
        "    def get_sound(self):          # getter method for sound attribute\n",
        "        return self.__sound\n",
        "    def get_type(self):\n",
        "        print (\"Animal...\")\n",
        "    def toString(self):\n",
        "        # return \"{} is {} cm tall and {} KG weight and says {}\".format(self.__name,\n",
        "        #                self.__height,self.__weight,self.__sound)\n",
        "        return \"{} is {} cm tall and {} KG weight and says {}\".format(self.get_name(),\n",
        "                        self.get_height(),self.get_weight(),self.get_sound())\n",
        "cat = Animal(\"White Cat\",33,10,\"Meow\")\n",
        "print (cat.toString())\n",
        "cat.get_type()"
      ],
      "execution_count": 0,
      "outputs": [
        {
          "output_type": "stream",
          "text": [
            "White Cat is 33 cm tall and 10 KG weight and says Meow\n",
            "Animal...\n"
          ],
          "name": "stdout"
        }
      ]
    },
    {
      "cell_type": "code",
      "metadata": {
        "id": "_QZSs5GNF5sA",
        "colab_type": "code",
        "colab": {},
        "outputId": "717cc8d0-efb4-4dc2-8e34-c9d0298e2256"
      },
      "source": [
        "# dealing with the inheritance\n",
        "class Dog(Animal):\n",
        "    def __init__(self,name,height,weight,sound,owner):\n",
        "        self.__owner = owner\n",
        "        super(Dog,self).__init__(name,height,weight,sound)\n",
        "    def set_owner(self,owner):\n",
        "        self.__owner = owner\n",
        "    def get_owner(self):\n",
        "        return self.__owner\n",
        "    def get_type(self):\n",
        "        print (\"Dog...\")\n",
        "    def toString(self):\n",
        "        return \"{} is {} cm tall and {} KG and says {} and owner is {}\".format(\\\n",
        "                self.get_name(),self.get_height(),self.get_weight(),self.get_sound(),\\\n",
        "                self.__owner)\n",
        "spot = Dog(\"Spot\",53,27,\"Ruff\",\"Miller\")\n",
        "print (spot.toString())"
      ],
      "execution_count": 0,
      "outputs": [
        {
          "output_type": "stream",
          "text": [
            "Spot is 53 cm tall and 27 KG and says Ruff and owner is Miller\n"
          ],
          "name": "stdout"
        }
      ]
    },
    {
      "cell_type": "code",
      "metadata": {
        "id": "MScM05mpF5sF",
        "colab_type": "code",
        "colab": {},
        "outputId": "9cb6cb3b-7d3a-418e-f689-43b4f5b70fc1"
      },
      "source": [
        "import random\n",
        "help(random.randrange)"
      ],
      "execution_count": 0,
      "outputs": [
        {
          "output_type": "stream",
          "text": [
            "Help on method randrange in module random:\n",
            "\n",
            "randrange(start, stop=None, step=1, _int=<class 'int'>) method of random.Random instance\n",
            "    Choose a random item from range(start, stop[, step]).\n",
            "    \n",
            "    This fixes the problem with randint() which includes the\n",
            "    endpoint; in Python this is usually not what you want.\n",
            "\n"
          ],
          "name": "stdout"
        }
      ]
    },
    {
      "cell_type": "code",
      "metadata": {
        "id": "EJZC7jleF5sM",
        "colab_type": "code",
        "colab": {}
      },
      "source": [
        ""
      ],
      "execution_count": 0,
      "outputs": []
    },
    {
      "cell_type": "code",
      "metadata": {
        "id": "tiNTCej7F5sS",
        "colab_type": "code",
        "colab": {}
      },
      "source": [
        ""
      ],
      "execution_count": 0,
      "outputs": []
    },
    {
      "cell_type": "code",
      "metadata": {
        "id": "ckSavz5YF5sT",
        "colab_type": "code",
        "colab": {}
      },
      "source": [
        ""
      ],
      "execution_count": 0,
      "outputs": []
    },
    {
      "cell_type": "code",
      "metadata": {
        "id": "fbRhWQZzF5sU",
        "colab_type": "code",
        "colab": {}
      },
      "source": [
        ""
      ],
      "execution_count": 0,
      "outputs": []
    },
    {
      "cell_type": "code",
      "metadata": {
        "id": "7o3IvUZLF5sY",
        "colab_type": "code",
        "colab": {}
      },
      "source": [
        ""
      ],
      "execution_count": 0,
      "outputs": []
    }
  ]
}