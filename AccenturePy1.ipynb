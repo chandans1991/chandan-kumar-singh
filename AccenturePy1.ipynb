{
  "nbformat": 4,
  "nbformat_minor": 0,
  "metadata": {
    "colab": {
      "name": "AccenturePy1.ipynb",
      "version": "0.3.2",
      "provenance": [],
      "collapsed_sections": [
        "N7wlpa-mJLSx",
        "uHORPdPwJLS6",
        "GsqMTZSmJLTp",
        "3rb4mLtPJLZk",
        "xY3MMnKiJLZl",
        "gunJx-kBJLZm"
      ],
      "include_colab_link": true
    },
    "language_info": {
      "codemirror_mode": {
        "name": "ipython",
        "version": 3
      },
      "file_extension": ".py",
      "mimetype": "text/x-python",
      "name": "python",
      "nbconvert_exporter": "python",
      "pygments_lexer": "ipython3",
      "version": "3.7.0"
    },
    "kernelspec": {
      "display_name": "Python 3",
      "language": "python",
      "name": "python3"
    }
  },
  "cells": [
    {
      "cell_type": "markdown",
      "metadata": {
        "id": "view-in-github",
        "colab_type": "text"
      },
      "source": [
        "<a href=\"https://colab.research.google.com/github/chandans1991/chandan-kumar-singh/blob/master/AccenturePy1.ipynb\" target=\"_parent\"><img src=\"https://colab.research.google.com/assets/colab-badge.svg\" alt=\"Open In Colab\"/></a>"
      ]
    },
    {
      "cell_type": "code",
      "metadata": {
        "id": "emExRxCeJLPD",
        "colab_type": "code",
        "colab": {}
      },
      "source": [
        "# This is a single line comment..."
      ],
      "execution_count": 0,
      "outputs": []
    },
    {
      "cell_type": "code",
      "metadata": {
        "id": "u9d6TmEeJLPL",
        "colab_type": "code",
        "colab": {}
      },
      "source": [
        "'''\n",
        "This is a multi-line\n",
        "comment in the\n",
        "program\n",
        "'''"
      ],
      "execution_count": 0,
      "outputs": []
    },
    {
      "cell_type": "code",
      "metadata": {
        "id": "aRRAO5ULJLPR",
        "colab_type": "code",
        "colab": {}
      },
      "source": [
        "\"\"\"\n",
        "This another\n",
        "multi-line text\n",
        "in my code\n",
        "\"\"\""
      ],
      "execution_count": 0,
      "outputs": []
    },
    {
      "cell_type": "code",
      "metadata": {
        "id": "ciqAEdgPJLPk",
        "colab_type": "code",
        "colab": {}
      },
      "source": [
        "num1 = 1000\n",
        "num2 = 2000\n",
        "total = num1 + num2"
      ],
      "execution_count": 0,
      "outputs": []
    },
    {
      "cell_type": "code",
      "metadata": {
        "id": "ds1tuNL5JLPp",
        "colab_type": "code",
        "outputId": "9adef8c6-3928-45cd-92af-3f64a3afca47",
        "colab": {
          "base_uri": "https://localhost:8080/",
          "height": 170
        }
      },
      "source": [
        "print ('Doing addition operation...')\n",
        "print (\"Sum of {} and {} is {}...\".format(num1,num2,total))\n",
        "print (\"Sum of {0} and {1} is {2}...\".format(num1,num2,total))\n",
        "print (\"Sum of {2} and {1} is {0}...\".format(total,num2,num1))\n",
        "print (\"Sum of {fnum} and {snum} is {tot}...\".format(fnum=num1,\\\n",
        "                                snum=num2,tot=total))\n",
        "print (\"Sum of {fnum} and {snum} is {tot}...\".format(tot=total,\\\n",
        "                                            fnum=num1,snum=num2))\n",
        "print (\"Sum of %d and %d is %d...\"%(num1,num2,total))\n",
        "print (\"Sum of\",num1,\"and\",num2,\"is\",total,\"...\")\n",
        "print (\"Sum of \"+str(num1)+\" and \"+str(num2)+\" is \"+str(total)+\"...\")"
      ],
      "execution_count": 0,
      "outputs": [
        {
          "output_type": "stream",
          "text": [
            "Doing addition operation...\n",
            "Sum of 1000 and 2000 is 3000...\n",
            "Sum of 1000 and 2000 is 3000...\n",
            "Sum of 1000 and 2000 is 3000...\n",
            "Sum of 1000 and 2000 is 3000...\n",
            "Sum of 1000 and 2000 is 3000...\n",
            "Sum of 1000 and 2000 is 3000...\n",
            "Sum of 1000 and 2000 is 3000 ...\n",
            "Sum of 1000 and 2000 is 3000...\n"
          ],
          "name": "stdout"
        }
      ]
    },
    {
      "cell_type": "code",
      "metadata": {
        "id": "zyd8aosdJLQf",
        "colab_type": "code",
        "outputId": "8784429d-589d-40be-ac50-a988a979c093",
        "colab": {
          "base_uri": "https://localhost:8080/",
          "height": 231
        }
      },
      "source": [
        "num1 = int(input(\"Please enter the first number --> \"))\n",
        "num2 = int(input(\"Please enter the second number --> \"))\n",
        "total = num1 + num2\n",
        "print (\"So the sum of {} and {} is {}\".format(num1,num2,total))"
      ],
      "execution_count": 0,
      "outputs": [
        {
          "output_type": "stream",
          "text": [
            "Please enter the first number --> chandan\n"
          ],
          "name": "stdout"
        },
        {
          "output_type": "error",
          "ename": "ValueError",
          "evalue": "ignored",
          "traceback": [
            "\u001b[0;31m---------------------------------------------------------------------------\u001b[0m",
            "\u001b[0;31mValueError\u001b[0m                                Traceback (most recent call last)",
            "\u001b[0;32m<ipython-input-9-b4e4f12443b7>\u001b[0m in \u001b[0;36m<module>\u001b[0;34m()\u001b[0m\n\u001b[0;32m----> 1\u001b[0;31m \u001b[0mnum1\u001b[0m \u001b[0;34m=\u001b[0m \u001b[0mint\u001b[0m\u001b[0;34m(\u001b[0m\u001b[0minput\u001b[0m\u001b[0;34m(\u001b[0m\u001b[0;34m\"Please enter the first number --> \"\u001b[0m\u001b[0;34m)\u001b[0m\u001b[0;34m)\u001b[0m\u001b[0;34m\u001b[0m\u001b[0;34m\u001b[0m\u001b[0m\n\u001b[0m\u001b[1;32m      2\u001b[0m \u001b[0mnum2\u001b[0m \u001b[0;34m=\u001b[0m \u001b[0mint\u001b[0m\u001b[0;34m(\u001b[0m\u001b[0minput\u001b[0m\u001b[0;34m(\u001b[0m\u001b[0;34m\"Please enter the second number --> \"\u001b[0m\u001b[0;34m)\u001b[0m\u001b[0;34m)\u001b[0m\u001b[0;34m\u001b[0m\u001b[0;34m\u001b[0m\u001b[0m\n\u001b[1;32m      3\u001b[0m \u001b[0mtotal\u001b[0m \u001b[0;34m=\u001b[0m \u001b[0mnum1\u001b[0m \u001b[0;34m+\u001b[0m \u001b[0mnum2\u001b[0m\u001b[0;34m\u001b[0m\u001b[0;34m\u001b[0m\u001b[0m\n\u001b[1;32m      4\u001b[0m \u001b[0mprint\u001b[0m \u001b[0;34m(\u001b[0m\u001b[0;34m\"So the sum of {} and {} is {}\"\u001b[0m\u001b[0;34m.\u001b[0m\u001b[0mformat\u001b[0m\u001b[0;34m(\u001b[0m\u001b[0mnum1\u001b[0m\u001b[0;34m,\u001b[0m\u001b[0mnum2\u001b[0m\u001b[0;34m,\u001b[0m\u001b[0mtotal\u001b[0m\u001b[0;34m)\u001b[0m\u001b[0;34m)\u001b[0m\u001b[0;34m\u001b[0m\u001b[0;34m\u001b[0m\u001b[0m\n",
            "\u001b[0;31mValueError\u001b[0m: invalid literal for int() with base 10: 'chandan'"
          ]
        }
      ]
    },
    {
      "cell_type": "code",
      "metadata": {
        "id": "8x2zfaTTJLQl",
        "colab_type": "code",
        "outputId": "a3bbb910-48b1-4055-dc80-e91301c16558",
        "colab": {
          "base_uri": "https://localhost:8080/",
          "height": 136
        }
      },
      "source": [
        "print (\"5 + 2 = \",(5 + 2))      # addition operation\n",
        "print (\"5 - 2 = \",(5 - 2))      # subtraction operation\n",
        "print (\"5 * 2 = \",(5 * 2))      # multiplication operation\n",
        "print (\"5 / 2 = \",(5 / 2))      # division operation\n",
        "print (\"5 // 2 = \",(5 // 2))    # integer division operation\n",
        "print (\"5 ** 2 = \",(5 ** 2))    # exponentiation operation\n",
        "print (\"5 % 2 = \",(5 % 2))      # modulus operation"
      ],
      "execution_count": 0,
      "outputs": [
        {
          "output_type": "stream",
          "text": [
            "5 + 2 =  7\n",
            "5 - 2 =  3\n",
            "5 * 2 =  10\n",
            "5 / 2 =  2.5\n",
            "5 // 2 =  2\n",
            "5 ** 2 =  25\n",
            "5 % 2 =  1\n"
          ],
          "name": "stdout"
        }
      ]
    },
    {
      "cell_type": "code",
      "metadata": {
        "id": "CVsXgCHzJLQr",
        "colab_type": "code",
        "outputId": "888fbefd-0981-4368-8d6f-244cbdfc2ac2",
        "colab": {
          "base_uri": "https://localhost:8080/",
          "height": 204
        }
      },
      "source": [
        "num1 = int(input(\"Please enter the first number --> \"))\n",
        "num2 = int(input(\"Please enter the second number --> \"))\n",
        "print (\"M A I N  M E N U ...\") \n",
        "print (\"--------------------\") \n",
        "print (\"1 > A D D I T I O N  O P E R A T I O N ...\")\n",
        "print (\"2 > S U B T R A C T I O N  O P E R A T I O N ...\")\n",
        "print (\"3 > D I V I S I O N  O P E R A T I O N ...\")\n",
        "print (\"4 > M U L T I P L I C A T I O N  O P E R A T I O N ...\")\n",
        "choice = int (input(\"Please enter your choice --> \"))\n",
        "if (choice is 1):\n",
        "    total = num1 + num2\n",
        "    print (\"So the sum of {} and {} is {}...\".format(num1,num2,total))\n",
        "elif (choice == 2):\n",
        "    total = num1 - num2\n",
        "    print (\"So the difference of {} and {} is {}...\".format(num1,num2,total))\n",
        "elif (choice == 3):\n",
        "    if (num2 != 0):\n",
        "        total = num1 / num2\n",
        "        print (\"So the quotient of {} and {} is {}...\".format(num1,num2,total))\n",
        "    else:\n",
        "        print (\"Division by ZERO is illegal...!!!\")\n",
        "elif (choice == 4):\n",
        "    total = num1 * num2\n",
        "    print (\"So the product of {} and {} is {}...\".format(num1,num2,total))\n",
        "else:\n",
        "    print (\"Invalid choice value has been provided...\")\n",
        "print (\"End of the program...\")"
      ],
      "execution_count": 0,
      "outputs": [
        {
          "output_type": "stream",
          "text": [
            "Please enter the first number --> 25\n",
            "Please enter the second number --> 34\n",
            "M A I N  M E N U ...\n",
            "--------------------\n",
            "1 > A D D I T I O N  O P E R A T I O N ...\n",
            "2 > S U B T R A C T I O N  O P E R A T I O N ...\n",
            "3 > D I V I S I O N  O P E R A T I O N ...\n",
            "4 > M U L T I P L I C A T I O N  O P E R A T I O N ...\n",
            "Please enter your choice --> 15\n",
            "Invalid choice value has been provided...\n",
            "End of the program...\n"
          ],
          "name": "stdout"
        }
      ]
    },
    {
      "cell_type": "code",
      "metadata": {
        "id": "e8DB1GuqJLQw",
        "colab_type": "code",
        "outputId": "1625408b-5d16-4589-8283-31ebd68b0e88",
        "colab": {
          "base_uri": "https://localhost:8080/",
          "height": 119
        }
      },
      "source": [
        "num1 = int(input(\"Please enter the first number --> \"))\n",
        "num2 = int(input(\"Please enter the second number --> \"))\n",
        "num3 = int(input(\"Please enter the third number --> \"))\n",
        "print (\"So the maximum number is --> \")\n",
        "if (num1 > num2):\n",
        "    if (num1 > num3):\n",
        "        print (num1)\n",
        "    else:\n",
        "        print (num3)\n",
        "elif (num2 > num3):\n",
        "    print (num2)\n",
        "else:\n",
        "    print (num3)\n",
        "print (\"End of the program...\")"
      ],
      "execution_count": 0,
      "outputs": [
        {
          "output_type": "stream",
          "text": [
            "Please enter the first number --> 55\n",
            "Please enter the second number --> 21\n",
            "Please enter the third number --> 31\n",
            "So the maximum number is --> \n",
            "55\n",
            "End of the program...\n"
          ],
          "name": "stdout"
        }
      ]
    },
    {
      "cell_type": "code",
      "metadata": {
        "id": "PkS5hxEaJLQ2",
        "colab_type": "code",
        "outputId": "05fa5a22-6f75-408b-b828-7af09dedaa9e",
        "colab": {
          "base_uri": "https://localhost:8080/",
          "height": 119
        }
      },
      "source": [
        "num1 = int(input(\"Please enter the first number --> \"))\n",
        "num2 = int(input(\"Please enter the second number --> \"))\n",
        "num3 = int(input(\"Please enter the third number --> \"))\n",
        "print (\"So the maximum number is --> \")\n",
        "if (num1 >= num2 and num1 >= num3):\n",
        "    print (num1)\n",
        "elif (num2 >= num3):\n",
        "    print (num2)\n",
        "else:\n",
        "    print (num3)\n",
        "print (\"End of the program...\")"
      ],
      "execution_count": 0,
      "outputs": [
        {
          "output_type": "stream",
          "text": [
            "Please enter the first number --> 22\n",
            "Please enter the second number --> 33\n",
            "Please enter the third number --> 44\n",
            "So the maximum number is --> \n",
            "44\n",
            "End of the program...\n"
          ],
          "name": "stdout"
        }
      ]
    },
    {
      "cell_type": "code",
      "metadata": {
        "id": "ra0WYAH3JLRh",
        "colab_type": "code",
        "outputId": "c4667d98-3628-49cd-ff09-7d46ce10d92a",
        "colab": {
          "base_uri": "https://localhost:8080/",
          "height": 119
        }
      },
      "source": [
        "num1 = int(input(\"Please enter the first number --> \"))\n",
        "num2 = int(input(\"Please enter the second number --> \"))\n",
        "num3 = int(input(\"Please enter the third number --> \"))\n",
        "print (\"So the second maximum is --> \")\n",
        "if (num1 >= num2):\n",
        "    max1 = num1\n",
        "    max2 = num2\n",
        "else:\n",
        "    max1 = num2\n",
        "    max2 = num1\n",
        "    \n",
        "if (num3 >= max1):\n",
        "    print (max1)\n",
        "elif (num3 >= max2):\n",
        "    print (num3)\n",
        "else:\n",
        "    print (max2)\n",
        "print (\"End of the program...\")"
      ],
      "execution_count": 21,
      "outputs": [
        {
          "output_type": "stream",
          "text": [
            "Please enter the first number --> 253\n",
            "Please enter the second number --> 3265\n",
            "Please enter the third number --> 265\n",
            "So the second maximum is --> \n",
            "265\n",
            "End of the program...\n"
          ],
          "name": "stdout"
        }
      ]
    },
    {
      "cell_type": "code",
      "metadata": {
        "id": "PImpbyEjJLRn",
        "colab_type": "code",
        "outputId": "52d318cf-1145-4474-c156-0fa47aacffdb",
        "colab": {
          "base_uri": "https://localhost:8080/",
          "height": 119
        }
      },
      "source": [
        "i = 1\n",
        "while i <= 8:\n",
        "    print (\"Executing for i =\",i)\n",
        "    # i = i + 2\n",
        "    i += 2\n",
        "print (\"Finally i = \",i)\n",
        "print (\"End of the program...\")"
      ],
      "execution_count": 0,
      "outputs": [
        {
          "output_type": "stream",
          "text": [
            "Executing for i = 1\n",
            "Executing for i = 3\n",
            "Executing for i = 5\n",
            "Executing for i = 7\n",
            "Finally i =  9\n",
            "End of the program...\n"
          ],
          "name": "stdout"
        }
      ]
    },
    {
      "cell_type": "code",
      "metadata": {
        "id": "fVo7l9qJJLRt",
        "colab_type": "code",
        "outputId": "9bca15ac-bdcc-49df-a475-e6cce452427f",
        "colab": {
          "base_uri": "https://localhost:8080/",
          "height": 493
        }
      },
      "source": [
        "print (\"Visit Doctor...\")\n",
        "day = 1\n",
        "medi_count = 0\n",
        "while (day <= 5):\n",
        "    print (\"Good morning...\")\n",
        "    medi = 1\n",
        "    while (medi <= 3):\n",
        "        print (\"Day number =\",day,\"Medicine number =\",medi)\n",
        "        medi_count += 1\n",
        "        medi += 1\n",
        "    print (\"Good Night...\")\n",
        "    day += 1\n",
        "print (\"Thanks Doctor...\")\n",
        "print (\"So the total medicine count =\",medi_count)"
      ],
      "execution_count": 0,
      "outputs": [
        {
          "output_type": "stream",
          "text": [
            "Visit Doctor...\n",
            "Good morning...\n",
            "Day number = 1 Medicine number = 1\n",
            "Day number = 1 Medicine number = 2\n",
            "Day number = 1 Medicine number = 3\n",
            "Good Night...\n",
            "Good morning...\n",
            "Day number = 2 Medicine number = 1\n",
            "Day number = 2 Medicine number = 2\n",
            "Day number = 2 Medicine number = 3\n",
            "Good Night...\n",
            "Good morning...\n",
            "Day number = 3 Medicine number = 1\n",
            "Day number = 3 Medicine number = 2\n",
            "Day number = 3 Medicine number = 3\n",
            "Good Night...\n",
            "Good morning...\n",
            "Day number = 4 Medicine number = 1\n",
            "Day number = 4 Medicine number = 2\n",
            "Day number = 4 Medicine number = 3\n",
            "Good Night...\n",
            "Good morning...\n",
            "Day number = 5 Medicine number = 1\n",
            "Day number = 5 Medicine number = 2\n",
            "Day number = 5 Medicine number = 3\n",
            "Good Night...\n",
            "Thanks Doctor...\n",
            "So the total medicine count = 15\n"
          ],
          "name": "stdout"
        }
      ]
    },
    {
      "cell_type": "code",
      "metadata": {
        "id": "PMmqN5rfJLRz",
        "colab_type": "code",
        "outputId": "053f4754-582e-4573-f7da-1fe727d479fd",
        "colab": {
          "base_uri": "https://localhost:8080/",
          "height": 119
        }
      },
      "source": [
        "for i in range(10,2,-2):\n",
        "    print (\"i = \",i)\n",
        "print (\"Finally i = \",i)\n",
        "print (\"End of the program...\")"
      ],
      "execution_count": 0,
      "outputs": [
        {
          "output_type": "stream",
          "text": [
            "i =  10\n",
            "i =  8\n",
            "i =  6\n",
            "i =  4\n",
            "Finally i =  4\n",
            "End of the program...\n"
          ],
          "name": "stdout"
        }
      ]
    },
    {
      "cell_type": "code",
      "metadata": {
        "id": "L8waBWFuJLR4",
        "colab_type": "code",
        "outputId": "cc6926fd-2152-4295-afe4-15ee8557d98e",
        "colab": {
          "base_uri": "https://localhost:8080/",
          "height": 493
        }
      },
      "source": [
        "print (\"Visit Doctor...\")\n",
        "medi_count = 0\n",
        "for day in range(1,6):\n",
        "    print (\"Good morning...\")\n",
        "    for medi in range(1,4):\n",
        "        print (\"Day number =\",day,\"Medicine number =\",medi)\n",
        "        medi_count += 1\n",
        "    print (\"Good Night...\")\n",
        "print (\"Thanks Doctor...\")\n",
        "print (\"So the total medicine count =\",medi_count)"
      ],
      "execution_count": 22,
      "outputs": [
        {
          "output_type": "stream",
          "text": [
            "Visit Doctor...\n",
            "Good morning...\n",
            "Day number = 1 Medicine number = 1\n",
            "Day number = 1 Medicine number = 2\n",
            "Day number = 1 Medicine number = 3\n",
            "Good Night...\n",
            "Good morning...\n",
            "Day number = 2 Medicine number = 1\n",
            "Day number = 2 Medicine number = 2\n",
            "Day number = 2 Medicine number = 3\n",
            "Good Night...\n",
            "Good morning...\n",
            "Day number = 3 Medicine number = 1\n",
            "Day number = 3 Medicine number = 2\n",
            "Day number = 3 Medicine number = 3\n",
            "Good Night...\n",
            "Good morning...\n",
            "Day number = 4 Medicine number = 1\n",
            "Day number = 4 Medicine number = 2\n",
            "Day number = 4 Medicine number = 3\n",
            "Good Night...\n",
            "Good morning...\n",
            "Day number = 5 Medicine number = 1\n",
            "Day number = 5 Medicine number = 2\n",
            "Day number = 5 Medicine number = 3\n",
            "Good Night...\n",
            "Thanks Doctor...\n",
            "So the total medicine count = 15\n"
          ],
          "name": "stdout"
        }
      ]
    },
    {
      "cell_type": "code",
      "metadata": {
        "id": "MBauV1PMJLSj",
        "colab_type": "code",
        "outputId": "6f3305a4-3992-4b56-9e72-afd6601ed574",
        "colab": {
          "base_uri": "https://localhost:8080/",
          "height": 51
        }
      },
      "source": [
        "print (\"Hello\")\n",
        "print (\"World\")"
      ],
      "execution_count": 0,
      "outputs": [
        {
          "output_type": "stream",
          "text": [
            "Hello\n",
            "World\n"
          ],
          "name": "stdout"
        }
      ]
    },
    {
      "cell_type": "code",
      "metadata": {
        "id": "rmUaNeIQJLSn",
        "colab_type": "code",
        "outputId": "efe9e596-d14a-4643-97e6-813b0dfb444a",
        "colab": {
          "base_uri": "https://localhost:8080/",
          "height": 51
        }
      },
      "source": [
        "print (\"Hello\",end=\" \")\n",
        "print (\"World\")\n",
        "print (\"India\")"
      ],
      "execution_count": 0,
      "outputs": [
        {
          "output_type": "stream",
          "text": [
            "Hello World\n",
            "India\n"
          ],
          "name": "stdout"
        }
      ]
    },
    {
      "cell_type": "code",
      "metadata": {
        "id": "pbSll-PdJLSs",
        "colab_type": "code",
        "outputId": "14fce55b-2cfb-4688-eb8c-af9203de2ebe",
        "colab": {
          "base_uri": "https://localhost:8080/",
          "height": 51
        }
      },
      "source": [
        "print (\"Hello\")\n",
        "print (\"World \" * 5)"
      ],
      "execution_count": 0,
      "outputs": [
        {
          "output_type": "stream",
          "text": [
            "Hello\n",
            "World World World World World \n"
          ],
          "name": "stdout"
        }
      ]
    },
    {
      "cell_type": "markdown",
      "metadata": {
        "id": "N7wlpa-mJLSx",
        "colab_type": "raw"
      },
      "source": [
        "n = 5 (user given)\n",
        "                i   .   *\n",
        "              -------------\n",
        "....*           1   4   1\n",
        "...***          2   3   3    . => n - i\n",
        "..*****         3   2   5    * => 2 * i - 1\n",
        ".*******        4   1   7\n",
        "*********       5   0   9\n",
        "              -------------"
      ]
    },
    {
      "cell_type": "code",
      "metadata": {
        "id": "LXimHJ2eJLSz",
        "colab_type": "code",
        "colab": {}
      },
      "source": [
        "n = int(input(\"Enter the number of layers --> \"))\n",
        "for i in range(1 , n+1):\n",
        "    print (\".\" * (n-i), end=\"\")\n",
        "    print (\"*\" * (2 * i - 1))\n",
        "print (\"End of the program...\")"
      ],
      "execution_count": 0,
      "outputs": []
    },
    {
      "cell_type": "markdown",
      "metadata": {
        "id": "uHORPdPwJLS6",
        "colab_type": "raw"
      },
      "source": [
        "n = 5 (user given)\n",
        "                i   .   *\n",
        "              -------------\n",
        "*********       1   0   9\n",
        ".*******        2   1   7    . => i - 1\n",
        "..*****         3   2   5    * => 2 * (n - i) + 1\n",
        "...***          4   3   3\n",
        "....*           5   4   1\n",
        "              -------------"
      ]
    },
    {
      "cell_type": "code",
      "metadata": {
        "id": "JoTugiKYJLS9",
        "colab_type": "code",
        "colab": {}
      },
      "source": [
        "n = int(input(\"Enter the number of layers --> \"))\n",
        "for i in range(1 , n + 1):\n",
        "    print (\".\" * (i - 1), end=\"\")\n",
        "    print (\"*\" * (2 * (n - i) + 1))\n",
        "print (\"End of the program...\")"
      ],
      "execution_count": 0,
      "outputs": []
    },
    {
      "cell_type": "markdown",
      "metadata": {
        "id": "GsqMTZSmJLTp",
        "colab_type": "raw"
      },
      "source": [
        "n = 9 (odd only) (user given)   m = (n + 1) / 2 = 5\n",
        "                i   .   *\n",
        "              -------------\n",
        "....*           1   4   1\n",
        "...***          2   3   3    . => m - i\n",
        "..*****         3   2   5    * => 2 * i - 1\n",
        ".*******        4   1   7\n",
        "*********     __5___0___9__\n",
        ".*******        6   1   7\n",
        "..*****         7   2   5    . => i - m\n",
        "...***          8   3   3    * => 2 * (n - i) + 1\n",
        "....*           9   4   1\n",
        "              -------------"
      ]
    },
    {
      "cell_type": "code",
      "metadata": {
        "id": "yNvihmmKJLTs",
        "colab_type": "code",
        "colab": {}
      },
      "source": [
        "n = 0\n",
        "while (n % 2 == 0):\n",
        "    n = int(input(\"Please enter odd number of layers --> \"))\n",
        "m = (n + 1) // 2\n",
        "for i in range(1, n + 1):\n",
        "    if (i > m):\n",
        "        b = (i - m)\n",
        "        s = 2 * (n - i) + 1\n",
        "    else:\n",
        "        b = (m - i)\n",
        "        s = 2 * i - 1\n",
        "    print (\".\" * b, end=\"\")\n",
        "    print (\"*\" * s)\n",
        "print (\"End of the program...\")"
      ],
      "execution_count": 0,
      "outputs": []
    },
    {
      "cell_type": "code",
      "metadata": {
        "id": "wLT6y2sXJLT-",
        "colab_type": "code",
        "colab": {}
      },
      "source": [
        "# dealing with the break statement\n",
        "i = 1\n",
        "while (i <= 20):\n",
        "    print (\"i = \",i)\n",
        "    if (i == 5):\n",
        "        break\n",
        "    i += 1\n",
        "print (\"End of the program...\")"
      ],
      "execution_count": 0,
      "outputs": []
    },
    {
      "cell_type": "code",
      "metadata": {
        "id": "WjAtbe0dJLWd",
        "colab_type": "code",
        "colab": {}
      },
      "source": [
        "# finding all prime numbers from 1 to 100\n",
        "for num in range(3, 20):\n",
        "    for myfactor in range(2, num):\n",
        "        if (num % myfactor == 0):\n",
        "            break   \n",
        "    if (myfactor == (num - 1)):\n",
        "        print (num,\"is a Prime Number...\")\n",
        "print (\"End of the program...\")"
      ],
      "execution_count": 0,
      "outputs": []
    },
    {
      "cell_type": "code",
      "metadata": {
        "id": "mAt5VyszJLWf",
        "colab_type": "code",
        "colab": {}
      },
      "source": [
        "# dealing with continue statement...\n",
        "for num in range(1,20):\n",
        "    if (num % 2 != 0):\n",
        "        continue\n",
        "    print (\"num = \", num)\n",
        "print (\"End of the program...\")"
      ],
      "execution_count": 0,
      "outputs": []
    },
    {
      "cell_type": "code",
      "metadata": {
        "id": "I0p1I_oOJLWj",
        "colab_type": "code",
        "colab": {}
      },
      "source": [
        "def myFunction1():\n",
        "    print (\"Hello \" * 5)\n",
        "    \n",
        "def myFunction2(num):\n",
        "    print (\"Hello \" * num)\n",
        "\n",
        "def myFunction3(num):\n",
        "    return (\"Hello \" * num)\n",
        "    \n",
        "myFunction1()\n",
        "myFunction2(8)\n",
        "myFunction2(3)\n",
        "myStr = myFunction3(4)\n",
        "print (myStr)\n",
        "print (myFunction3(7))"
      ],
      "execution_count": 0,
      "outputs": []
    },
    {
      "cell_type": "code",
      "metadata": {
        "id": "ZGeEvPgtJLWn",
        "colab_type": "code",
        "colab": {}
      },
      "source": [
        "def myFunction4(arg1 = 111,arg2 = 222,arg3 = 333):\n",
        "    print (\"arg1 = \",arg1,\"arg2 = \",arg2,\"arg3 = \",arg3)\n",
        "    \n",
        "myFunction4(100,200,300)\n",
        "myFunction4(100,200)\n",
        "myFunction4(100)\n",
        "myFunction4()\n",
        "myFunction4(arg3=300,arg1=100)"
      ],
      "execution_count": 0,
      "outputs": []
    },
    {
      "cell_type": "code",
      "metadata": {
        "id": "QkLuY2kTJLWq",
        "colab_type": "code",
        "colab": {}
      },
      "source": [
        "def myFunction5(num1,num2):\n",
        "    add = num1 + num2\n",
        "    sub = num1 - num2\n",
        "    mul = num1 * num2\n",
        "    div = num1 / num2\n",
        "    return (add,sub,mul,div)\n",
        "\n",
        "num1 = int (input(\"Please enter the first number --> \"))\n",
        "num2 = int (input(\"Please enter the second number --> \"))\n",
        "summ,diff,prod,quot = myFunction5(num1,num2)\n",
        "print (\"So the total is\",summ)\n",
        "print (\"So the difference is\",diff)\n",
        "print (\"So the product is\",prod)\n",
        "print (\"So the quotient is\",quot)"
      ],
      "execution_count": 0,
      "outputs": []
    },
    {
      "cell_type": "code",
      "metadata": {
        "id": "Oar7jXl7JLWt",
        "colab_type": "code",
        "colab": {}
      },
      "source": [
        "def myFunction6(num1, num2 = None):\n",
        "    if (num2 == None):\n",
        "        return (2 * num1)\n",
        "    else:\n",
        "        return (num1 * num2)\n",
        "print (\"So result is: \",myFunction6(100,40))\n",
        "print (\"So result is: \",myFunction6(100))"
      ],
      "execution_count": 0,
      "outputs": []
    },
    {
      "cell_type": "code",
      "metadata": {
        "id": "0yEV6TiiJLWx",
        "colab_type": "code",
        "colab": {}
      },
      "source": [
        "mySquare = lambda num1: num1 * num1\n",
        "print (\"So the square of {} is {}\".format(5,mySquare(5)))"
      ],
      "execution_count": 0,
      "outputs": []
    },
    {
      "cell_type": "code",
      "metadata": {
        "id": "nKQK5sI5JLXW",
        "colab_type": "code",
        "colab": {}
      },
      "source": [
        "myTotal = lambda num1,num2: num1 + num2\n",
        "print (\"So the sum of {} and {} is {}\".format(50,60,myTotal(50,60)))"
      ],
      "execution_count": 0,
      "outputs": []
    },
    {
      "cell_type": "code",
      "metadata": {
        "id": "bB-R0X4OJLXa",
        "colab_type": "code",
        "colab": {}
      },
      "source": [
        "# dealing with non-recursive function...\n",
        "# calculating factorial of a given number...\n",
        "def factorial_nr(num):\n",
        "    fact = num\n",
        "    for i in range(2, num):\n",
        "        fact = fact * i\n",
        "    return fact\n",
        "        \n",
        "n = int(input(\"Please enter an integer --> \"))\n",
        "fact_calculated = factorial_nr(n)\n",
        "print (\"So the factorial of {} is {}\".format(n,fact_calculated))\n",
        "print (\"End of the program...\")"
      ],
      "execution_count": 0,
      "outputs": []
    },
    {
      "cell_type": "code",
      "metadata": {
        "id": "QJJQQsAvJLXg",
        "colab_type": "code",
        "colab": {}
      },
      "source": [
        "# dealing with non-recursive function...\n",
        "# calculating factorial of a given number...\n",
        "def factorial_r(num):\n",
        "    if (num == 0 or num == 1):      # base case\n",
        "        return 1\n",
        "    return num * factorial_r(num - 1)\n",
        "        \n",
        "n = int(input(\"Please enter an integer --> \"))\n",
        "fact_calculated = factorial_r(n)\n",
        "print (\"So the factorial of {} is {}\".format(n,fact_calculated))\n",
        "print (\"End of the program...\")"
      ],
      "execution_count": 0,
      "outputs": []
    },
    {
      "cell_type": "code",
      "metadata": {
        "id": "ukHHOHz5JLXj",
        "colab_type": "code",
        "colab": {}
      },
      "source": [
        "n = int (input(\"Please enter an integer --> \"))\n",
        "choice = input(\"Please mention Recursive(r) or Non-Recursive(nr) --> \")\n",
        "if (choice == \"r\"):\n",
        "    fact_calculated = factorial_r(n)\n",
        "else:\n",
        "    fact_calculated = factorial_nr(n)\n",
        "print (\"So factorial of {} is {}...\".format(n,fact_calculated))\n",
        "print (\"End of the program...\")"
      ],
      "execution_count": 0,
      "outputs": []
    },
    {
      "cell_type": "code",
      "metadata": {
        "id": "WqM4vpcqJLXn",
        "colab_type": "code",
        "outputId": "ac48d7a9-b4f4-4d3a-ed8f-b02ee37419a6",
        "colab": {}
      },
      "source": [
        "# dealing with numbers...\n",
        "import math\n",
        "a = 4.6\n",
        "print (math.ceil(a))\n",
        "print (math.floor(a))\n",
        "b = 9\n",
        "print (math.sqrt(b))\n",
        "print (math.exp(3.0))\n",
        "print (math.log(2.0))\n",
        "print (math.pow(2.0,3.0),2.0 ** 3.0)\n",
        "print (math.sin(0))\n",
        "print (math.cos(0))\n",
        "print (math.tan(45))\n",
        "print (abs(-45))\n",
        "mySqrt = math.sqrt\n",
        "print (mySqrt(16))"
      ],
      "execution_count": 0,
      "outputs": [
        {
          "output_type": "stream",
          "text": [
            "5\n",
            "4\n",
            "3.0\n",
            "20.085536923187668\n",
            "0.6931471805599453\n",
            "8.0 8.0\n",
            "0.0\n",
            "1.0\n",
            "1.6197751905438615\n",
            "45\n",
            "4.0\n"
          ],
          "name": "stdout"
        }
      ]
    },
    {
      "cell_type": "code",
      "metadata": {
        "id": "eozJr8q3JLXv",
        "colab_type": "code",
        "outputId": "b127853c-f6d5-4103-b60b-e13a2eb90f8c",
        "colab": {}
      },
      "source": [
        "help(math.pow)"
      ],
      "execution_count": 0,
      "outputs": [
        {
          "output_type": "stream",
          "text": [
            "Help on built-in function pow in module math:\n",
            "\n",
            "pow(x, y, /)\n",
            "    Return x**y (x to the power of y).\n",
            "\n"
          ],
          "name": "stdout"
        }
      ]
    },
    {
      "cell_type": "code",
      "metadata": {
        "id": "nKHEPXfuJLXz",
        "colab_type": "code",
        "outputId": "83077c62-bb87-4533-be0f-a3b44901a9f4",
        "colab": {}
      },
      "source": [
        "# dealing with Strings...\n",
        "# dealing with string slicing...\n",
        "#           str ->  u  n  i  v  e  r  s  i  t  y\n",
        "# Left to Right ->  0  1  2  3  4  5  6  7  8  9\n",
        "# Right to Left ->-10 -9 -8 -7 -6 -5 -4 -3 -2 -1\n",
        "\n",
        "str = \"university\"\n",
        "print (str)\n",
        "print (str[0:3],str[0:6],str[:6],str[:-4],str[:-4:1])\n",
        "print (str[0::2],str[3:])\n",
        "print (str[3:8],str[-7:-2],str[3:-2],str[-7:8])\n",
        "print (str[::-1])"
      ],
      "execution_count": 0,
      "outputs": [
        {
          "output_type": "stream",
          "text": [
            "university\n",
            "uni univer univer univer univer\n",
            "uiest versity\n",
            "versi versi versi versi\n",
            "ytisrevinu\n"
          ],
          "name": "stdout"
        }
      ]
    },
    {
      "cell_type": "code",
      "metadata": {
        "id": "G-qeNzrBJLX3",
        "colab_type": "code",
        "outputId": "993cfffb-5f22-4fb7-fb58-2d4ea0d78d0b",
        "colab": {}
      },
      "source": [
        "str = \"university\"\n",
        "for char in str:\n",
        "    print (char)"
      ],
      "execution_count": 0,
      "outputs": [
        {
          "output_type": "stream",
          "text": [
            "u\n",
            "n\n",
            "i\n",
            "v\n",
            "e\n",
            "r\n",
            "s\n",
            "i\n",
            "t\n",
            "y\n"
          ],
          "name": "stdout"
        }
      ]
    },
    {
      "cell_type": "code",
      "metadata": {
        "id": "LGr70K7WJLX7",
        "colab_type": "code",
        "outputId": "dd9a41b0-7678-46b4-f63b-b658aae9cb99",
        "colab": {}
      },
      "source": [
        "str = \"caLCutTa unIVerSitY\"\n",
        "print (str)\n",
        "print (str.capitalize())\n",
        "print (str.upper())\n",
        "print (str.lower())"
      ],
      "execution_count": 0,
      "outputs": [
        {
          "output_type": "stream",
          "text": [
            "caLCutTa unIVerSitY\n",
            "Calcutta university\n",
            "CALCUTTA UNIVERSITY\n",
            "calcutta university\n"
          ],
          "name": "stdout"
        }
      ]
    },
    {
      "cell_type": "code",
      "metadata": {
        "id": "av6A5j95JLYC",
        "colab_type": "code",
        "outputId": "37630aa9-ba4c-4a3c-b44e-5797960e09c5",
        "colab": {}
      },
      "source": [
        "str = \"1234\"\n",
        "print (str.isalnum(),str.isalpha(),str.isdigit(),str.isnumeric())\n",
        "str = \"abcd\"\n",
        "print (str.isalnum(),str.isalpha(),str.isdigit(),str.isnumeric())\n",
        "str = \"1234abcd\"\n",
        "print (str.isalnum(),str.isalpha(),str.isdigit(),str.isnumeric())\n",
        "str = \"abc@gmail.com\"\n",
        "print (str.isalnum(),str.isalpha(),str.isdigit(),str.isnumeric())"
      ],
      "execution_count": 0,
      "outputs": [
        {
          "output_type": "stream",
          "text": [
            "True False True True\n",
            "True True False False\n",
            "True False False False\n",
            "False False False False\n"
          ],
          "name": "stdout"
        }
      ]
    },
    {
      "cell_type": "code",
      "metadata": {
        "id": "KKZJ_0mxJLYG",
        "colab_type": "code",
        "outputId": "4419afbc-2441-4b7c-99b6-f0a65af9b59f",
        "colab": {}
      },
      "source": [
        "str = \"good morning\"\n",
        "print (str)\n",
        "str = str.replace(\"morning\",\"night\")\n",
        "print (str)"
      ],
      "execution_count": 0,
      "outputs": [
        {
          "output_type": "stream",
          "text": [
            "good morning\n",
            "good night\n"
          ],
          "name": "stdout"
        }
      ]
    },
    {
      "cell_type": "code",
      "metadata": {
        "id": "02HAwcHoJLYM",
        "colab_type": "code",
        "outputId": "cc087045-b6fe-438a-abd1-d978fa84ea1e",
        "colab": {}
      },
      "source": [
        "str = \"ram is a good boy\"\n",
        "print (str.find(\"good\"))\n",
        "print (str.find(\"bad\"))\n",
        "print (str.find(\"good\",7,20))\n",
        "print (str.find(\"good\",10,20))"
      ],
      "execution_count": 0,
      "outputs": [
        {
          "output_type": "stream",
          "text": [
            "9\n",
            "-1\n",
            "9\n",
            "-1\n"
          ],
          "name": "stdout"
        }
      ]
    },
    {
      "cell_type": "code",
      "metadata": {
        "id": "11wScbzqJLYW",
        "colab_type": "code",
        "outputId": "bf0e7e45-fd94-40e1-e7e1-b31ccae01cde",
        "colab": {}
      },
      "source": [
        "str = \"ram is a good boy\"\n",
        "try:\n",
        "    print (str.index(\"good\"))\n",
        "    print (str.index(\"bad\"))\n",
        "except ValueError:\n",
        "    print (\"Unsuccessful searching...\")\n",
        "print (\"End of the program\")"
      ],
      "execution_count": 0,
      "outputs": [
        {
          "output_type": "stream",
          "text": [
            "9\n",
            "Unsuccessful searching...\n",
            "End of the program\n"
          ],
          "name": "stdout"
        }
      ]
    },
    {
      "cell_type": "code",
      "metadata": {
        "id": "7JNa8t8vJLYb",
        "colab_type": "code",
        "outputId": "99e0e7d1-ca4a-428d-922d-8a3e3e685476",
        "colab": {}
      },
      "source": [
        "mystr = \"Hi!!! goOd morning to all my GOod students\"\n",
        "pattern = \"GooD\"\n",
        "mystr = mystr.lower()\n",
        "pattern = pattern.lower()\n",
        "start_position = 0\n",
        "result = 0\n",
        "count = 0\n",
        "while (result != -1):\n",
        "    result = mystr.find(pattern,start_position)\n",
        "    if result != -1:\n",
        "        print (\"Pattern found at index number is\",result)\n",
        "        count += 1\n",
        "        start_position = result + 1\n",
        "print (\"{} has occurred for {} number of times.\".format(pattern,count))\n",
        "print (\"End of the program...\")"
      ],
      "execution_count": 0,
      "outputs": [
        {
          "output_type": "stream",
          "text": [
            "Pattern found at index number is 6\n",
            "Pattern found at index number is 29\n",
            "good has occurred for 2 number of times.\n",
            "End of the program...\n"
          ],
          "name": "stdout"
        }
      ]
    },
    {
      "cell_type": "code",
      "metadata": {
        "id": "r6PDWY4fJLYm",
        "colab_type": "code",
        "outputId": "bf0dfd25-c2f0-47d3-db80-532f3ef97a31",
        "colab": {}
      },
      "source": [
        "mystr = \"charity begins at home\"\n",
        "print (mystr.endswith(\"begins\"))\n",
        "print (mystr.endswith(\"begins\",0,14))\n",
        "print (mystr.endswith(\"begins\",3,14))\n",
        "print (mystr.endswith(\"begins\",0,15))"
      ],
      "execution_count": 0,
      "outputs": [
        {
          "output_type": "stream",
          "text": [
            "False\n",
            "True\n",
            "True\n",
            "False\n"
          ],
          "name": "stdout"
        }
      ]
    },
    {
      "cell_type": "code",
      "metadata": {
        "id": "0GI9FJanJLYz",
        "colab_type": "code",
        "outputId": "06ffdc86-c56b-4abb-803a-dbf9997c82db",
        "colab": {}
      },
      "source": [
        "mystr = \"charity begins at home\"\n",
        "print (mystr.startswith(\"begins\"))\n",
        "print (mystr.startswith(\"begins\",8))\n",
        "print (mystr.startswith(\"begins\",8,20))\n",
        "print (mystr.startswith(\"begins\",10,20))"
      ],
      "execution_count": 0,
      "outputs": [
        {
          "output_type": "stream",
          "text": [
            "False\n",
            "True\n",
            "True\n",
            "False\n"
          ],
          "name": "stdout"
        }
      ]
    },
    {
      "cell_type": "code",
      "metadata": {
        "id": "cxkp05VyJLY8",
        "colab_type": "code",
        "outputId": "760bf37c-c2e3-45ea-84ce-60c00471a7e3",
        "colab": {}
      },
      "source": [
        "mystr1 = \"  \"\n",
        "mystr2 = \"Welcome\"\n",
        "print (mystr1.isspace(),mystr2.isspace())\n",
        "print (len(mystr1),len(mystr2))"
      ],
      "execution_count": 0,
      "outputs": [
        {
          "output_type": "stream",
          "text": [
            "True False\n",
            "2 7\n"
          ],
          "name": "stdout"
        }
      ]
    },
    {
      "cell_type": "code",
      "metadata": {
        "id": "DXpEY4l4JLZB",
        "colab_type": "code",
        "outputId": "e155bed1-e6c0-4eab-b931-4d674486e066",
        "colab": {}
      },
      "source": [
        "mystr1 = \"    welcome       back  \"\n",
        "print (len(mystr1),mystr1.strip(),len(mystr1.strip()))\n",
        "print (len(mystr1),mystr1.lstrip(),len(mystr1.lstrip()))\n",
        "print (len(mystr1),mystr1.rstrip(),len(mystr1.rstrip()))"
      ],
      "execution_count": 0,
      "outputs": [
        {
          "output_type": "stream",
          "text": [
            "24 welcome       back 18\n",
            "24 welcome       back   20\n",
            "24     welcome       back 22\n"
          ],
          "name": "stdout"
        }
      ]
    },
    {
      "cell_type": "code",
      "metadata": {
        "id": "PGoioo4XJLZO",
        "colab_type": "code",
        "outputId": "d25e2ac8-2263-475a-9330-34e7c2fa3a73",
        "colab": {}
      },
      "source": [
        "mystr1 = \"@@#@welcome##@##\"\n",
        "print (len(mystr1),mystr1.strip(\"@#\"),len(mystr1.strip(\"@#\")))\n",
        "print (len(mystr1),mystr1.lstrip(\"@#\"),len(mystr1.lstrip(\"@#\")))\n",
        "print (len(mystr1),mystr1.rstrip(\"@#\"),len(mystr1.rstrip(\"@#\")))"
      ],
      "execution_count": 0,
      "outputs": [
        {
          "output_type": "stream",
          "text": [
            "16 welcome 7\n",
            "16 welcome##@## 12\n",
            "16 @@#@welcome 11\n"
          ],
          "name": "stdout"
        }
      ]
    },
    {
      "cell_type": "code",
      "metadata": {
        "id": "7XXw_IB4JLZS",
        "colab_type": "code",
        "outputId": "4f8e194e-00b1-416a-9c95-4ce5d9224814",
        "colab": {}
      },
      "source": [
        "mystr1 = \"   @@#@welcome##@##  \"\n",
        "print (mystr1.strip())\n",
        "print (mystr1.strip().strip(\"@#\"))"
      ],
      "execution_count": 0,
      "outputs": [
        {
          "output_type": "stream",
          "text": [
            "@@#@welcome##@##\n",
            "welcome\n"
          ],
          "name": "stdout"
        }
      ]
    },
    {
      "cell_type": "code",
      "metadata": {
        "id": "h4HEaomuJLZY",
        "colab_type": "code",
        "colab": {}
      },
      "source": [
        "# Class Assignment -\n",
        "# Please take one word from the keyboard as input and count the number\n",
        "# of vowels and consonants.\n",
        "# Example - Input: \"University\"\n",
        "#          Output: Vowels: 4 and Consonants: 6\n",
        "mystr1 = input(\"Please enter one word: \").lower()\n",
        "print (\"Input string is: \",mystr1)\n",
        "vcount = 0\n",
        "for char in mystr1:\n",
        "    if (char==\"a\" or char==\"e\" or char==\"i\" or char==\"o\" or char==\"u\"):\n",
        "        vcount += 1\n",
        "print (\"So number of Vowels: {} and Consonants: {}...\".\\\n",
        "       format(vcount,len(mystr1)-vcount))\n",
        "print (\"End of the program...\")"
      ],
      "execution_count": 0,
      "outputs": []
    },
    {
      "cell_type": "code",
      "metadata": {
        "id": "nPyfNmQeJLZb",
        "colab_type": "code",
        "colab": {}
      },
      "source": [
        "myStr = \"charity begins at home\"\n",
        "myList = myStr.split()\n",
        "print (myStr)\n",
        "print (myList)"
      ],
      "execution_count": 0,
      "outputs": []
    },
    {
      "cell_type": "code",
      "metadata": {
        "id": "Awg5LviIJLZe",
        "colab_type": "code",
        "colab": {}
      },
      "source": [
        "num1 = 100\n",
        "num2 = 200"
      ],
      "execution_count": 0,
      "outputs": []
    },
    {
      "cell_type": "code",
      "metadata": {
        "id": "P0NQRlvVJLZg",
        "colab_type": "code",
        "colab": {}
      },
      "source": [
        "print (num1)\n",
        "print (num2)"
      ],
      "execution_count": 0,
      "outputs": []
    },
    {
      "cell_type": "markdown",
      "metadata": {
        "id": "FdymkE0oJLZj",
        "colab_type": "text"
      },
      "source": [
        "# This line staring with one hash symbol"
      ]
    },
    {
      "cell_type": "markdown",
      "metadata": {
        "id": "3rb4mLtPJLZk",
        "colab_type": "text"
      },
      "source": [
        "## This line staring with two hash symbols"
      ]
    },
    {
      "cell_type": "markdown",
      "metadata": {
        "id": "xY3MMnKiJLZl",
        "colab_type": "text"
      },
      "source": [
        "### This line staring with three hash symbols"
      ]
    },
    {
      "cell_type": "markdown",
      "metadata": {
        "id": "gunJx-kBJLZm",
        "colab_type": "text"
      },
      "source": [
        "#### This line staring with four hash symbols"
      ]
    },
    {
      "cell_type": "markdown",
      "metadata": {
        "id": "8PBgTeBQJLZn",
        "colab_type": "text"
      },
      "source": [
        "###### This line staring with six hash symbols"
      ]
    },
    {
      "cell_type": "code",
      "metadata": {
        "id": "c2tVXT-oJLZn",
        "colab_type": "code",
        "outputId": "351491c3-f6b6-4f38-dfed-480c3d328d7f",
        "colab": {}
      },
      "source": [
        "# dealing with lists...\n",
        "grocery_list = [\"juice\",\"potatoes\",\"bananas\"]\n",
        "print (grocery_list)\n",
        "print (grocery_list[0])\n",
        "print (grocery_list[0:3])\n",
        "print (grocery_list[1:3])\n",
        "print (grocery_list[-3:-1])\n",
        "print (grocery_list[0][1:3])\n",
        "print (grocery_list[1][3])"
      ],
      "execution_count": 0,
      "outputs": [
        {
          "output_type": "stream",
          "text": [
            "['juice', 'potatoes', 'bananas']\n",
            "juice\n",
            "['juice', 'potatoes', 'bananas']\n",
            "['potatoes', 'bananas']\n",
            "['juice', 'potatoes']\n",
            "ui\n",
            "a\n"
          ],
          "name": "stdout"
        }
      ]
    },
    {
      "cell_type": "code",
      "metadata": {
        "id": "tAggFzOVJLZr",
        "colab_type": "code",
        "outputId": "caf6fe06-6432-466b-bb26-9bfd045c1cb8",
        "colab": {}
      },
      "source": [
        "my_list = [\"welcome\", 100, 45.67, True]\n",
        "print (my_list)"
      ],
      "execution_count": 0,
      "outputs": [
        {
          "output_type": "stream",
          "text": [
            "['welcome', 100, 45.67, True]\n"
          ],
          "name": "stdout"
        }
      ]
    },
    {
      "cell_type": "code",
      "metadata": {
        "id": "8PxC8ga0JLZ3",
        "colab_type": "code",
        "outputId": "6ea10e13-ae1a-471e-865c-8902d0a5ca87",
        "colab": {}
      },
      "source": [
        "other_events = [\"wash car\",\"pick up kids\",\"cash check\"]\n",
        "to_do_list = [other_events, grocery_list]\n",
        "print (other_events, len(other_events))\n",
        "print (to_do_list, len(to_do_list))\n",
        "print (to_do_list[0],to_do_list[0][1],to_do_list[0][1][5:7])"
      ],
      "execution_count": 0,
      "outputs": [
        {
          "output_type": "stream",
          "text": [
            "['wash car', 'pick up kids', 'cash check'] 3\n",
            "[['wash car', 'pick up kids', 'cash check'], ['juice', 'potatoes', 'bananas']] 2\n",
            "['wash car', 'pick up kids', 'cash check'] pick up kids up\n"
          ],
          "name": "stdout"
        }
      ]
    },
    {
      "cell_type": "code",
      "metadata": {
        "id": "hvu1VpYrJLZ7",
        "colab_type": "code",
        "outputId": "8485aeae-0756-4789-cdae-e8257bc1ac3d",
        "colab": {}
      },
      "source": [
        "print (grocery_list)\n",
        "grocery_list.append(\"onion\")\n",
        "print (grocery_list)"
      ],
      "execution_count": 0,
      "outputs": [
        {
          "output_type": "stream",
          "text": [
            "['juice', 'potatoes', 'bananas']\n",
            "['juice', 'potatoes', 'bananas', 'onion']\n"
          ],
          "name": "stdout"
        }
      ]
    },
    {
      "cell_type": "code",
      "metadata": {
        "id": "Ucod25Y3JLaA",
        "colab_type": "code",
        "outputId": "01ce71ec-4f82-46be-b182-f8a8b123bf66",
        "colab": {}
      },
      "source": [
        "print (grocery_list)\n",
        "grocery_list.insert(1,\"pickle\")\n",
        "print (grocery_list)"
      ],
      "execution_count": 0,
      "outputs": [
        {
          "output_type": "stream",
          "text": [
            "['juice', 'potatoes', 'bananas', 'onion']\n",
            "['juice', 'pickle', 'potatoes', 'bananas', 'onion']\n"
          ],
          "name": "stdout"
        }
      ]
    },
    {
      "cell_type": "code",
      "metadata": {
        "id": "fcj9zZt9JLaF",
        "colab_type": "code",
        "outputId": "fee3ba33-2dfd-4390-d606-90672045f7b8",
        "colab": {}
      },
      "source": [
        "print (grocery_list)\n",
        "grocery_list.remove(\"pickle\")\n",
        "print (grocery_list)"
      ],
      "execution_count": 0,
      "outputs": [
        {
          "output_type": "stream",
          "text": [
            "['juice', 'pickle', 'potatoes', 'bananas', 'onion']\n",
            "['juice', 'potatoes', 'bananas', 'onion']\n"
          ],
          "name": "stdout"
        }
      ]
    },
    {
      "cell_type": "code",
      "metadata": {
        "id": "J4KajLuXJLaL",
        "colab_type": "code",
        "outputId": "74d49078-dfec-4c0f-c2a3-9af8e0434feb",
        "colab": {}
      },
      "source": [
        "print (grocery_list)\n",
        "grocery_list.remove(\"garlic\")\n",
        "print (grocery_list)"
      ],
      "execution_count": 0,
      "outputs": [
        {
          "output_type": "stream",
          "text": [
            "['juice', 'potatoes', 'bananas', 'onion']\n"
          ],
          "name": "stdout"
        },
        {
          "output_type": "error",
          "ename": "ValueError",
          "evalue": "list.remove(x): x not in list",
          "traceback": [
            "\u001b[1;31m---------------------------------------------------------------------------\u001b[0m",
            "\u001b[1;31mValueError\u001b[0m                                Traceback (most recent call last)",
            "\u001b[1;32m<ipython-input-29-c14764c5ce15>\u001b[0m in \u001b[0;36m<module>\u001b[1;34m()\u001b[0m\n\u001b[0;32m      1\u001b[0m \u001b[0mprint\u001b[0m \u001b[1;33m(\u001b[0m\u001b[0mgrocery_list\u001b[0m\u001b[1;33m)\u001b[0m\u001b[1;33m\u001b[0m\u001b[0m\n\u001b[1;32m----> 2\u001b[1;33m \u001b[0mgrocery_list\u001b[0m\u001b[1;33m.\u001b[0m\u001b[0mremove\u001b[0m\u001b[1;33m(\u001b[0m\u001b[1;34m\"garlic\"\u001b[0m\u001b[1;33m)\u001b[0m\u001b[1;33m\u001b[0m\u001b[0m\n\u001b[0m\u001b[0;32m      3\u001b[0m \u001b[0mprint\u001b[0m \u001b[1;33m(\u001b[0m\u001b[0mgrocery_list\u001b[0m\u001b[1;33m)\u001b[0m\u001b[1;33m\u001b[0m\u001b[0m\n",
            "\u001b[1;31mValueError\u001b[0m: list.remove(x): x not in list"
          ]
        }
      ]
    },
    {
      "cell_type": "code",
      "metadata": {
        "id": "9syvxbIiJLaS",
        "colab_type": "code",
        "outputId": "7b071a62-40a7-4543-d7e4-f68df63514f0",
        "colab": {}
      },
      "source": [
        "print (grocery_list)\n",
        "sorted_list = grocery_list.sort()\n",
        "print (grocery_list,sorted_list)"
      ],
      "execution_count": 0,
      "outputs": [
        {
          "output_type": "stream",
          "text": [
            "['juice', 'potatoes', 'bananas', 'onion']\n",
            "['bananas', 'juice', 'onion', 'potatoes'] None\n"
          ],
          "name": "stdout"
        }
      ]
    },
    {
      "cell_type": "code",
      "metadata": {
        "id": "PKKYEmTDJLaY",
        "colab_type": "code",
        "outputId": "2f969ff1-104a-42fa-e349-7c04ca168a45",
        "colab": {}
      },
      "source": [
        "num_list = [22,55,33,66,44,77,99,88,11]\n",
        "print (num_list)\n",
        "num_list.sort()\n",
        "print (num_list)\n",
        "num_list.reverse()\n",
        "print (num_list)"
      ],
      "execution_count": 0,
      "outputs": [
        {
          "output_type": "stream",
          "text": [
            "[22, 55, 33, 66, 44, 77, 99, 88, 11]\n",
            "[11, 22, 33, 44, 55, 66, 77, 88, 99]\n",
            "[99, 88, 77, 66, 55, 44, 33, 22, 11]\n"
          ],
          "name": "stdout"
        }
      ]
    },
    {
      "cell_type": "code",
      "metadata": {
        "id": "Mj1K43zuJLag",
        "colab_type": "code",
        "outputId": "80283643-76b1-420b-cb15-2d04aecb3a32",
        "colab": {}
      },
      "source": [
        "myStr = \"charity begins at home\"\n",
        "myList = myStr.split()\n",
        "output_str = \"\"\n",
        "for word in myList:\n",
        "    word = word.capitalize()\n",
        "    print (word)\n",
        "    output_str = output_str + word + \" \"\n",
        "output_str = output_str.strip()\n",
        "print (\"Resultant processed string is: \",output_str)\n",
        "print (\"End of the program...\")"
      ],
      "execution_count": 0,
      "outputs": [
        {
          "output_type": "stream",
          "text": [
            "Charity\n",
            "Begins\n",
            "At\n",
            "Home\n",
            "Resultant processed string is:  Charity Begins At Home\n",
            "End of the program...\n"
          ],
          "name": "stdout"
        }
      ]
    },
    {
      "cell_type": "code",
      "metadata": {
        "id": "jHWWbbJCJLaj",
        "colab_type": "code",
        "outputId": "ecc7af0e-6b10-4891-de67-5483b1e14964",
        "colab": {}
      },
      "source": [
        "print (grocery_list)\n",
        "print (other_events)\n",
        "to_do_list1 = grocery_list + other_events\n",
        "to_do_list2 = [grocery_list,other_events]\n",
        "print (to_do_list1)\n",
        "print (to_do_list2)"
      ],
      "execution_count": 0,
      "outputs": [
        {
          "output_type": "stream",
          "text": [
            "['bananas', 'juice', 'onion', 'potatoes']\n",
            "['wash car', 'pick up kids', 'cash check']\n",
            "['bananas', 'juice', 'onion', 'potatoes', 'wash car', 'pick up kids', 'cash check']\n",
            "[['bananas', 'juice', 'onion', 'potatoes'], ['wash car', 'pick up kids', 'cash check']]\n"
          ],
          "name": "stdout"
        }
      ]
    },
    {
      "cell_type": "code",
      "metadata": {
        "id": "Sqgwr3HiJLan",
        "colab_type": "code",
        "outputId": "95ff7493-fd38-4657-e9da-e94475a302f1",
        "colab": {}
      },
      "source": [
        "print (grocery_list)\n",
        "del grocery_list[2]\n",
        "print (grocery_list)"
      ],
      "execution_count": 0,
      "outputs": [
        {
          "output_type": "stream",
          "text": [
            "['bananas', 'juice', 'onion', 'potatoes']\n",
            "['bananas', 'juice', 'potatoes']\n"
          ],
          "name": "stdout"
        }
      ]
    },
    {
      "cell_type": "code",
      "metadata": {
        "id": "10JbLoPHJLaq",
        "colab_type": "code",
        "outputId": "9bc29818-9aab-4538-d285-d8ca4ade4e0e",
        "colab": {}
      },
      "source": [
        "print (grocery_list)\n",
        "del grocery_list\n",
        "print (grocery_list)"
      ],
      "execution_count": 0,
      "outputs": [
        {
          "output_type": "stream",
          "text": [
            "['bananas', 'juice', 'potatoes']\n"
          ],
          "name": "stdout"
        },
        {
          "output_type": "error",
          "ename": "NameError",
          "evalue": "name 'grocery_list' is not defined",
          "traceback": [
            "\u001b[1;31m---------------------------------------------------------------------------\u001b[0m",
            "\u001b[1;31mNameError\u001b[0m                                 Traceback (most recent call last)",
            "\u001b[1;32m<ipython-input-35-e912330dd560>\u001b[0m in \u001b[0;36m<module>\u001b[1;34m()\u001b[0m\n\u001b[0;32m      1\u001b[0m \u001b[0mprint\u001b[0m \u001b[1;33m(\u001b[0m\u001b[0mgrocery_list\u001b[0m\u001b[1;33m)\u001b[0m\u001b[1;33m\u001b[0m\u001b[0m\n\u001b[0;32m      2\u001b[0m \u001b[1;32mdel\u001b[0m \u001b[0mgrocery_list\u001b[0m\u001b[1;33m\u001b[0m\u001b[0m\n\u001b[1;32m----> 3\u001b[1;33m \u001b[0mprint\u001b[0m \u001b[1;33m(\u001b[0m\u001b[0mgrocery_list\u001b[0m\u001b[1;33m)\u001b[0m\u001b[1;33m\u001b[0m\u001b[0m\n\u001b[0m",
            "\u001b[1;31mNameError\u001b[0m: name 'grocery_list' is not defined"
          ]
        }
      ]
    },
    {
      "cell_type": "code",
      "metadata": {
        "id": "HNlVfgApJLat",
        "colab_type": "code",
        "outputId": "0e5b7229-b944-4c4e-97e1-0bad138cb8ca",
        "colab": {}
      },
      "source": [
        "num_list = [100,400,200,300]\n",
        "print (\"Length: \",len(num_list))\n",
        "print (\"Maximum Element: \",max(num_list))\n",
        "print (\"Minimum Element: \",min(num_list))\n",
        "print (\"Total: \",sum(num_list))\n",
        "print (\"Average: \",sum(num_list)/len(num_list))"
      ],
      "execution_count": 0,
      "outputs": [
        {
          "output_type": "stream",
          "text": [
            "Length:  4\n",
            "Maximum Element:  400\n",
            "Minimum Element:  100\n",
            "Total:  1000\n",
            "Average:  250.0\n"
          ],
          "name": "stdout"
        }
      ]
    },
    {
      "cell_type": "code",
      "metadata": {
        "id": "ZNvwq1hEJLax",
        "colab_type": "code",
        "colab": {}
      },
      "source": [
        "# Class Assignment -\n",
        "# Please take one word from the keyboard as input and count the number\n",
        "# of vowels and consonants.\n",
        "# Example - Input: \"University\"\n",
        "#          Output: Vowels: 4 and Consonants: 6\n",
        "mystr1 = input(\"Please enter one word: \").lower()\n",
        "print (\"Input string is: \",mystr1)\n",
        "vcount = 0\n",
        "for char in mystr1:\n",
        "    if (char in [\"a\",\"e\",\"i\",\"o\",\"u\"]):\n",
        "        vcount += 1\n",
        "print (\"So number of Vowels: {} and Consonants: {}...\".\\\n",
        "       format(vcount,len(mystr1)-vcount))\n",
        "print (\"End of the program...\")"
      ],
      "execution_count": 0,
      "outputs": []
    },
    {
      "cell_type": "code",
      "metadata": {
        "id": "v8VPh7qnJLaz",
        "colab_type": "code",
        "colab": {}
      },
      "source": [
        "num_list = [11,22,33]\n",
        "print (num_list)\n",
        "num_list.append(44)\n",
        "print (num_list)\n",
        "num_list.extend([55,66,77])\n",
        "print (num_list)"
      ],
      "execution_count": 0,
      "outputs": []
    },
    {
      "cell_type": "code",
      "metadata": {
        "id": "I40QHaocJLa1",
        "colab_type": "code",
        "colab": {}
      },
      "source": [
        "# Ask user for n number of numbers and put them in a list and print it\n",
        "# Now split this list into two lists depending upon whether the element\n",
        "# is even or odd."
      ],
      "execution_count": 0,
      "outputs": []
    },
    {
      "cell_type": "code",
      "metadata": {
        "id": "L_G0PQ0oJLa3",
        "colab_type": "code",
        "colab": {}
      },
      "source": [
        "num = int(input(\"Please enter number of numbers --> \"))\n",
        "num_list = []\n",
        "for i in range(0,num):\n",
        "    data = int(input(\"Please enter data number {} --> \".format(i + 1)))\n",
        "    num_list.append(data)\n",
        "print (\"So the final input list is: \",num_list)\n",
        "even_list = []\n",
        "odd_list = []\n",
        "for data in num_list:\n",
        "    if (data % 2 == 0):\n",
        "        even_list.append(data)\n",
        "    else:\n",
        "        odd_list.append(data)\n",
        "print (\"Even list: \",even_list)\n",
        "print (\"Odd list: \",odd_list)\n",
        "print (\"End of the program...\")"
      ],
      "execution_count": 0,
      "outputs": []
    },
    {
      "cell_type": "markdown",
      "metadata": {
        "id": "QffFbNLUJLa6",
        "colab_type": "raw"
      },
      "source": [
        "Input List: [11,-22,55,-33,66,-77,44,-88]\n",
        "Output Lists:\n",
        "    All Positive: [11,22,55,33,66,77,44,88]\n",
        "   Only Positive: [11,55,66,44]"
      ]
    },
    {
      "cell_type": "code",
      "metadata": {
        "id": "Ef373KDQJLa6",
        "colab_type": "code",
        "colab": {}
      },
      "source": [
        "num = int(input(\"Please enter number of numbers --> \"))\n",
        "num_list = []\n",
        "for i in range(0,num):\n",
        "    data = int(input(\"Please enter data number {} --> \".format(i + 1)))\n",
        "    num_list.append(data)\n",
        "print (\"So the final input list is: \",num_list)\n",
        "all_list = []\n",
        "only_list = []\n",
        "for data in num_list:\n",
        "    all_list.append(abs(data))\n",
        "    if (data >= 0):\n",
        "        only_list.append(data)\n",
        "print (\"All positive element list: \",all_list)\n",
        "print (\"Only positive element list: \",only_list)\n",
        "print (\"End of the program...\")"
      ],
      "execution_count": 0,
      "outputs": []
    },
    {
      "cell_type": "code",
      "metadata": {
        "id": "KXVoapDbJLa8",
        "colab_type": "code",
        "colab": {}
      },
      "source": [
        "mystr = str(100)\n",
        "print (mystr)\n",
        "del mystr\n",
        "print (mystr)"
      ],
      "execution_count": 0,
      "outputs": []
    },
    {
      "cell_type": "code",
      "metadata": {
        "id": "4ipaTkAHJLa-",
        "colab_type": "code",
        "outputId": "86e9c8d0-8416-4830-ce76-4cca6f155f65",
        "colab": {}
      },
      "source": [
        "# dealing with tuple...\n",
        "# unlike list tuple is immutable i.e. can not be changed after being\n",
        "# created\n",
        "my_tuple = (1,2,\"amit\",\"male\",34)\n",
        "print (my_tuple)\n",
        "pi_tuple = (3,1,4,1,5,9)\n",
        "print (pi_tuple)"
      ],
      "execution_count": 0,
      "outputs": [
        {
          "output_type": "stream",
          "text": [
            "(1, 2, 'amit', 'male', 34)\n",
            "(3, 1, 4, 1, 5, 9)\n"
          ],
          "name": "stdout"
        }
      ]
    },
    {
      "cell_type": "code",
      "metadata": {
        "id": "eWuUzjqSJLbD",
        "colab_type": "code",
        "outputId": "c0b69439-6519-4069-f1a0-4bf746fdd88f",
        "colab": {}
      },
      "source": [
        "print (pi_tuple[2])\n",
        "pi_tuple[2] = 9"
      ],
      "execution_count": 0,
      "outputs": [
        {
          "output_type": "stream",
          "text": [
            "4\n"
          ],
          "name": "stdout"
        },
        {
          "output_type": "error",
          "ename": "TypeError",
          "evalue": "'tuple' object does not support item assignment",
          "traceback": [
            "\u001b[1;31m---------------------------------------------------------------------------\u001b[0m",
            "\u001b[1;31mTypeError\u001b[0m                                 Traceback (most recent call last)",
            "\u001b[1;32m<ipython-input-39-218bd88e8fdb>\u001b[0m in \u001b[0;36m<module>\u001b[1;34m()\u001b[0m\n\u001b[0;32m      1\u001b[0m \u001b[0mprint\u001b[0m \u001b[1;33m(\u001b[0m\u001b[0mpi_tuple\u001b[0m\u001b[1;33m[\u001b[0m\u001b[1;36m2\u001b[0m\u001b[1;33m]\u001b[0m\u001b[1;33m)\u001b[0m\u001b[1;33m\u001b[0m\u001b[0m\n\u001b[1;32m----> 2\u001b[1;33m \u001b[0mpi_tuple\u001b[0m\u001b[1;33m[\u001b[0m\u001b[1;36m2\u001b[0m\u001b[1;33m]\u001b[0m \u001b[1;33m=\u001b[0m \u001b[1;36m9\u001b[0m\u001b[1;33m\u001b[0m\u001b[0m\n\u001b[0m",
            "\u001b[1;31mTypeError\u001b[0m: 'tuple' object does not support item assignment"
          ]
        }
      ]
    },
    {
      "cell_type": "code",
      "metadata": {
        "id": "EAFKUgKXJLbL",
        "colab_type": "code",
        "outputId": "8feb74a2-79d5-4e0c-fe07-0b07447b9ab1",
        "colab": {}
      },
      "source": [
        "print (pi_tuple)\n",
        "print (len(pi_tuple),max(pi_tuple),min(pi_tuple),sum(pi_tuple))"
      ],
      "execution_count": 0,
      "outputs": [
        {
          "output_type": "stream",
          "text": [
            "(3, 1, 4, 1, 5, 9)\n",
            "6 9 1 23\n"
          ],
          "name": "stdout"
        }
      ]
    },
    {
      "cell_type": "code",
      "metadata": {
        "id": "kSMv-pDdJLbS",
        "colab_type": "code",
        "outputId": "eacabace-3489-4c93-b05d-077dc40f668e",
        "colab": {}
      },
      "source": [
        "pi_list = list(pi_tuple)\n",
        "print (pi_list)\n",
        "pi_list[2] = 9\n",
        "print (pi_list)\n",
        "pi_tuple = tuple(pi_list)\n",
        "print (pi_tuple)"
      ],
      "execution_count": 0,
      "outputs": [
        {
          "output_type": "stream",
          "text": [
            "[3, 1, 4, 1, 5, 9]\n",
            "[3, 1, 9, 1, 5, 9]\n",
            "(3, 1, 9, 1, 5, 9)\n"
          ],
          "name": "stdout"
        }
      ]
    },
    {
      "cell_type": "code",
      "metadata": {
        "id": "SzPGUStZJLbX",
        "colab_type": "code",
        "outputId": "bc4e1d1a-ec59-4979-a623-9331c395f831",
        "colab": {}
      },
      "source": [
        "# dealing with dictionary or maps\n",
        "dict_fruit = {\"banana\":\"yellow\",\"apple\":\"red\",\"guava\":\"green\",\n",
        "             \"grape\":\"black\",\"orange\":\"orange\"}\n",
        "print (dict_fruit)\n",
        "print (dict_fruit.keys())\n",
        "print (dict_fruit.values())\n",
        "print (dict_fruit.items())"
      ],
      "execution_count": 0,
      "outputs": [
        {
          "output_type": "stream",
          "text": [
            "{'banana': 'yellow', 'apple': 'red', 'guava': 'green', 'grape': 'black', 'orange': 'orange'}\n",
            "dict_keys(['banana', 'apple', 'guava', 'grape', 'orange'])\n",
            "dict_values(['yellow', 'red', 'green', 'black', 'orange'])\n",
            "dict_items([('banana', 'yellow'), ('apple', 'red'), ('guava', 'green'), ('grape', 'black'), ('orange', 'orange')])\n"
          ],
          "name": "stdout"
        }
      ]
    },
    {
      "cell_type": "code",
      "metadata": {
        "id": "zJEfMO1jJLbb",
        "colab_type": "code",
        "outputId": "300d17b5-f3a1-4156-b3c4-a65ceeb60d4c",
        "colab": {}
      },
      "source": [
        "print (dict_fruit[\"guava\"])\n",
        "print (len(dict_fruit))\n",
        "print (dict_fruit)\n",
        "dict_fruit[\"pineapple\"] = \"yellow\"\n",
        "print (dict_fruit)\n",
        "dict_fruit[\"grape\"] = \"green\"\n",
        "print (dict_fruit)"
      ],
      "execution_count": 0,
      "outputs": [
        {
          "output_type": "stream",
          "text": [
            "green\n",
            "5\n",
            "{'banana': 'yellow', 'apple': 'red', 'guava': 'green', 'grape': 'black', 'orange': 'orange'}\n",
            "{'banana': 'yellow', 'apple': 'red', 'guava': 'green', 'grape': 'black', 'orange': 'orange', 'pineapple': 'yellow'}\n",
            "{'banana': 'yellow', 'apple': 'red', 'guava': 'green', 'grape': 'green', 'orange': 'orange', 'pineapple': 'yellow'}\n"
          ],
          "name": "stdout"
        }
      ]
    },
    {
      "cell_type": "code",
      "metadata": {
        "id": "9mPm3Q0HJLbg",
        "colab_type": "code",
        "colab": {}
      },
      "source": [
        "print (dict_fruit)\n",
        "for data in dict_fruit:\n",
        "    print (data, end = \" - \")\n",
        "    print (dict_fruit[data])"
      ],
      "execution_count": 0,
      "outputs": []
    },
    {
      "cell_type": "code",
      "metadata": {
        "id": "RvljitFpJLbi",
        "colab_type": "code",
        "outputId": "9bbf708e-24d8-4e07-adb1-388db708472a",
        "colab": {}
      },
      "source": [
        "print (dict_fruit[\"grape\"])\n",
        "print (dict_fruit.get(\"grape\"))"
      ],
      "execution_count": 0,
      "outputs": [
        {
          "output_type": "stream",
          "text": [
            "green\n",
            "green\n"
          ],
          "name": "stdout"
        }
      ]
    },
    {
      "cell_type": "code",
      "metadata": {
        "id": "9ACaMoIcJLbl",
        "colab_type": "code",
        "outputId": "f90dce4c-7ced-4eda-9b85-16f7c230a752",
        "colab": {}
      },
      "source": [
        "print (dict_fruit)\n",
        "del dict_fruit[\"pineapple\"]\n",
        "print (dict_fruit)"
      ],
      "execution_count": 0,
      "outputs": [
        {
          "output_type": "stream",
          "text": [
            "{'banana': 'yellow', 'apple': 'red', 'guava': 'green', 'grape': 'green', 'orange': 'orange', 'pineapple': 'yellow'}\n",
            "{'banana': 'yellow', 'apple': 'red', 'guava': 'green', 'grape': 'green', 'orange': 'orange'}\n"
          ],
          "name": "stdout"
        }
      ]
    },
    {
      "cell_type": "code",
      "metadata": {
        "id": "cP1KcSf_JLbn",
        "colab_type": "code",
        "colab": {}
      },
      "source": [
        "print (dict_fruit)\n",
        "del dict_fruit\n",
        "print (dict_fruit)"
      ],
      "execution_count": 0,
      "outputs": []
    },
    {
      "cell_type": "code",
      "metadata": {
        "id": "a3ogtigzJLbs",
        "colab_type": "code",
        "colab": {}
      },
      "source": [
        "dict_fruit = {\"banana\":\"yellow\",\"apple\":\"red\",\"guava\":\"green\",\n",
        "             \"grape\":\"black\",\"orange\":\"orange\"}\n",
        "dict_fruit = {}\n",
        "# dict_fruit_temp = dict_fruit\n",
        "# print (dict_fruit, dict_fruit_temp)\n",
        "# for data in dict_fruit_temp.keys():\n",
        "#     print (data)\n",
        "#     del dict_fruit[data]\n",
        "# print (dict_fruit)"
      ],
      "execution_count": 0,
      "outputs": []
    },
    {
      "cell_type": "code",
      "metadata": {
        "id": "oFsE0u7LJLbu",
        "colab_type": "code",
        "outputId": "626cda9a-ee86-4b4a-a58d-ec6723a41a17",
        "colab": {}
      },
      "source": [
        "dict_fruit = {\"banana\":\"yellow\",\"apple\":\"red\",\"guava\":\"green\",\n",
        "             \"grape\":\"black\",\"orange\":\"orange\"}\n",
        "print (dict_fruit)\n",
        "dict_fruit.clear()\n",
        "print (dict_fruit)"
      ],
      "execution_count": 0,
      "outputs": [
        {
          "output_type": "stream",
          "text": [
            "{'banana': 'yellow', 'apple': 'red', 'guava': 'green', 'grape': 'black', 'orange': 'orange'}\n",
            "{}\n"
          ],
          "name": "stdout"
        }
      ]
    },
    {
      "cell_type": "code",
      "metadata": {
        "id": "dAFVtu9yJLcn",
        "colab_type": "code",
        "outputId": "33cb13af-8583-4e94-e62b-876264ab6d4f",
        "colab": {}
      },
      "source": [
        "# dealing with set\n",
        "# creating an empty set\n",
        "empty_set = set()\n",
        "empty_set"
      ],
      "execution_count": 0,
      "outputs": [
        {
          "output_type": "execute_result",
          "data": {
            "text/plain": [
              "set()"
            ]
          },
          "metadata": {
            "tags": []
          },
          "execution_count": 47
        }
      ]
    },
    {
      "cell_type": "code",
      "metadata": {
        "id": "VcLv2T_4JLc0",
        "colab_type": "code",
        "outputId": "d631ecfe-41a4-4775-c08c-23546ccbe6f6",
        "colab": {}
      },
      "source": [
        "# creating non-empty set\n",
        "# creating set directly\n",
        "languages = {\"python\",\"r\",\"java\"}\n",
        "# creating a set from a list\n",
        "snakes = set([\"cobra\",\"viper\",\"python\"])\n",
        "print (languages)\n",
        "print (snakes)"
      ],
      "execution_count": 0,
      "outputs": [
        {
          "output_type": "stream",
          "text": [
            "{'r', 'python', 'java'}\n",
            "{'cobra', 'python', 'viper'}\n"
          ],
          "name": "stdout"
        }
      ]
    },
    {
      "cell_type": "code",
      "metadata": {
        "id": "DN5SKhfxJLc6",
        "colab_type": "code",
        "outputId": "825cbf2d-8852-4ebf-f577-7e2eb69503b4",
        "colab": {}
      },
      "source": [
        "print (len(languages),len(snakes))"
      ],
      "execution_count": 0,
      "outputs": [
        {
          "output_type": "stream",
          "text": [
            "3 3\n"
          ],
          "name": "stdout"
        }
      ]
    },
    {
      "cell_type": "code",
      "metadata": {
        "id": "YONrH1jWJLc9",
        "colab_type": "code",
        "outputId": "1d1d2abd-a08c-4d0e-9b16-9bc2b428231a",
        "colab": {}
      },
      "source": [
        "# performing set intersection operation...\n",
        "print (languages & snakes)\n",
        "print (languages.intersection(snakes))"
      ],
      "execution_count": 0,
      "outputs": [
        {
          "output_type": "stream",
          "text": [
            "{'python'}\n",
            "{'python'}\n"
          ],
          "name": "stdout"
        }
      ]
    },
    {
      "cell_type": "code",
      "metadata": {
        "id": "r6OfA2_ZJLdA",
        "colab_type": "code",
        "outputId": "6503a18f-70ee-4cba-dfea-70e7b489ae26",
        "colab": {}
      },
      "source": [
        "# performing set union operation...\n",
        "print (languages | snakes)\n",
        "print (languages.union(snakes))"
      ],
      "execution_count": 0,
      "outputs": [
        {
          "output_type": "stream",
          "text": [
            "{'cobra', 'viper', 'r', 'python', 'java'}\n",
            "{'cobra', 'viper', 'r', 'python', 'java'}\n"
          ],
          "name": "stdout"
        }
      ]
    },
    {
      "cell_type": "code",
      "metadata": {
        "id": "DH8yFexqJLdD",
        "colab_type": "code",
        "outputId": "0f78b767-bf9f-4607-ce50-4af2d5839636",
        "colab": {}
      },
      "source": [
        "# performing set difference operation...\n",
        "print (languages - snakes)\n",
        "print (languages.difference(snakes))\n",
        "print (snakes - languages)\n",
        "print (snakes.difference(languages))"
      ],
      "execution_count": 0,
      "outputs": [
        {
          "output_type": "stream",
          "text": [
            "{'r', 'java'}\n",
            "{'r', 'java'}\n",
            "{'cobra', 'viper'}\n",
            "{'cobra', 'viper'}\n"
          ],
          "name": "stdout"
        }
      ]
    },
    {
      "cell_type": "code",
      "metadata": {
        "id": "BRswAMn-JLdI",
        "colab_type": "code",
        "outputId": "e956f8de-6265-49c7-ed7c-9090c5c0c553",
        "colab": {}
      },
      "source": [
        "# performing symmetric set difference operation...\n",
        "print (languages.symmetric_difference(snakes))"
      ],
      "execution_count": 0,
      "outputs": [
        {
          "output_type": "stream",
          "text": [
            "{'viper', 'cobra', 'java', 'r'}\n"
          ],
          "name": "stdout"
        }
      ]
    },
    {
      "cell_type": "code",
      "metadata": {
        "id": "trag1mLXJLdL",
        "colab_type": "code",
        "outputId": "c53f8932-98d7-4ef1-9339-f90fae8330c8",
        "colab": {}
      },
      "source": [
        "print (languages)\n",
        "languages.add(\"r\")\n",
        "print (languages)\n",
        "languages.add(\"c++\")\n",
        "print (languages)"
      ],
      "execution_count": 0,
      "outputs": [
        {
          "output_type": "stream",
          "text": [
            "{'r', 'python', 'java'}\n",
            "{'r', 'python', 'java'}\n",
            "{'r', 'python', 'java', 'c++'}\n"
          ],
          "name": "stdout"
        }
      ]
    },
    {
      "cell_type": "code",
      "metadata": {
        "id": "znQgTmByJLdN",
        "colab_type": "code",
        "outputId": "19dcac60-09cf-4504-8155-7619f40a0446",
        "colab": {}
      },
      "source": [
        "print (languages)\n",
        "try:\n",
        "    languages.remove(\"c++\")\n",
        "    print (languages)\n",
        "    languages.remove(\"prolog\")\n",
        "    print (languages)\n",
        "except KeyError as ke:\n",
        "    print (\"Error message:\",ke)"
      ],
      "execution_count": 0,
      "outputs": [
        {
          "output_type": "stream",
          "text": [
            "{'r', 'python', 'java', 'c++'}\n",
            "{'r', 'python', 'java'}\n",
            "Error message: 'prolog'\n"
          ],
          "name": "stdout"
        }
      ]
    },
    {
      "cell_type": "code",
      "metadata": {
        "id": "6mfc-z-ZJLdT",
        "colab_type": "code",
        "colab": {}
      },
      "source": [
        "languages.discard(\"c++\")"
      ],
      "execution_count": 0,
      "outputs": []
    },
    {
      "cell_type": "code",
      "metadata": {
        "id": "dTTzh1T5JLdV",
        "colab_type": "code",
        "colab": {}
      },
      "source": [
        "print (languages)\n",
        "print (languages.pop())\n",
        "print (languages)"
      ],
      "execution_count": 0,
      "outputs": []
    },
    {
      "cell_type": "code",
      "metadata": {
        "id": "0dIvz982JLdX",
        "colab_type": "code",
        "colab": {}
      },
      "source": [
        "print (languages)\n",
        "print (languages.pop())\n",
        "print (languages)"
      ],
      "execution_count": 0,
      "outputs": []
    },
    {
      "cell_type": "code",
      "metadata": {
        "id": "LciT_5xLJLda",
        "colab_type": "code",
        "colab": {}
      },
      "source": [
        "languages = {\"python\",\"r\",\"java\",\"c++\"}\n",
        "print (languages)\n",
        "for data in languages:\n",
        "    print (data)\n",
        "print (languages.pop())\n",
        "print (languages.pop())\n",
        "print (languages.pop())\n",
        "print (languages.pop())\n",
        "print (languages.pop())"
      ],
      "execution_count": 0,
      "outputs": []
    },
    {
      "cell_type": "code",
      "metadata": {
        "id": "f8n0ZrbYJLdk",
        "colab_type": "code",
        "colab": {}
      },
      "source": [
        "languages = {\"python\",\"r\",\"java\",\"c++\"}\n",
        "print (languages)\n",
        "languages.clear()\n",
        "print (languages)"
      ],
      "execution_count": 0,
      "outputs": []
    },
    {
      "cell_type": "code",
      "metadata": {
        "id": "iX6Cr1kNJLdl",
        "colab_type": "code",
        "colab": {}
      },
      "source": [
        "languages = {\"python\",\"r\",\"java\",\"c++\"}\n",
        "print (languages)\n",
        "languages.add(\"kotlin\")\n",
        "languages.add(\"perl\")\n",
        "print (languages)\n",
        "languages.update(\"go\",\"android\")\n",
        "print (languages)"
      ],
      "execution_count": 0,
      "outputs": []
    },
    {
      "cell_type": "code",
      "metadata": {
        "id": "UlhOAzuIJLdn",
        "colab_type": "code",
        "colab": {}
      },
      "source": [
        "# Class Assignment:\n",
        "# From a given list get a descending order sorted distinct element list\n",
        "# Input: [22, 44, 44, 11, 22, 44, 33, 44]\n",
        "# Output: [44, 33, 22, 11]"
      ],
      "execution_count": 0,
      "outputs": []
    },
    {
      "cell_type": "code",
      "metadata": {
        "id": "T6fI8GCJJLdo",
        "colab_type": "code",
        "colab": {}
      },
      "source": [
        "myList = [22, 44, 44, 11, 22, 44, 33, 44]\n",
        "print (myList)\n",
        "mySet = set(myList)\n",
        "print (mySet)\n",
        "myList = list(mySet)\n",
        "print (myList)\n",
        "myList.sort()\n",
        "print (myList)\n",
        "myList.reverse()\n",
        "print (myList)"
      ],
      "execution_count": 0,
      "outputs": []
    },
    {
      "cell_type": "code",
      "metadata": {
        "id": "YW7UZk75JLdp",
        "colab_type": "code",
        "colab": {}
      },
      "source": [
        "# dealing with exception\n",
        "flag = True\n",
        "while (flag):\n",
        "    try:\n",
        "        num1 = int(input(\"Enter first number: \"))\n",
        "        num2 = int(input(\"Enter second number: \"))\n",
        "        quot = num1 / num2\n",
        "        print (\"So {} / {} = {}...\".format(num1,num2,quot))\n",
        "    # except ArithmeticError as ae:\n",
        "    except ZeroDivisionError as ae:\n",
        "        print (\"This statement is raising an exception...\")\n",
        "        print (\"Error message: \",ae)\n",
        "    except ValueError as ve:\n",
        "        print (\"String inputs are not allowed...\")\n",
        "        print (\"Error message: \",ve)\n",
        "    except:\n",
        "        print (\"Some error is hapenning...\")\n",
        "    else:\n",
        "        print (\"Smooth execution...\")\n",
        "        flag = False\n",
        "print (\"End of the program...\")"
      ],
      "execution_count": 0,
      "outputs": []
    },
    {
      "cell_type": "code",
      "metadata": {
        "id": "JeSau2efJLds",
        "colab_type": "code",
        "colab": {}
      },
      "source": [
        "try:\n",
        "    num1 = int(input(\"Enter first number: \"))\n",
        "    num2 = int(input(\"Enter second number: \"))\n",
        "    a = num1 / num2\n",
        "    print (a)\n",
        "except ArithmeticError as ae:\n",
        "    print (\"Division by ZERO is Illegal...!!!\")\n",
        "else:\n",
        "    print (\"Smooth execution...\")\n",
        "finally:\n",
        "    print (\"Welcome\")\n",
        "\n",
        "print (\"End of the program...\")"
      ],
      "execution_count": 0,
      "outputs": []
    },
    {
      "cell_type": "code",
      "metadata": {
        "id": "sBWx9VjBJLdu",
        "colab_type": "code",
        "colab": {}
      },
      "source": [
        "try:\n",
        "    num1 = int(input(\"Please enter a number between 10 to 20 --> \"))\n",
        "    if (num1 < 10):\n",
        "        raise NameError(\"Entered number is below 10...\")\n",
        "    elif (num1 > 20):\n",
        "        raise NameError(\"Entered number is above 20...\")\n",
        "    print (\"Entered number is\",num1)\n",
        "except NameError as ne:\n",
        "    print (\"Error message :\",ne)\n",
        "print (\"End of the program...\")"
      ],
      "execution_count": 0,
      "outputs": []
    },
    {
      "cell_type": "code",
      "metadata": {
        "id": "s4XCZJNgJLdy",
        "colab_type": "code",
        "colab": {}
      },
      "source": [
        "a = 100                  # 100 = 64 + 32 + 4 = 0 1 1 0  0 1 0 0\n",
        "b = 65                   # 65 = 64 + 1       = 0 1 0 0  0 0 0 1\n",
        "                         #                     ----------------\n",
        "                         #             a ^ b = 0 0 1 0  0 1 0 1 => 37\n",
        "                         #             a | b = 0 1 1 0  0 1 0 1 => 101\n",
        "                         #             a & b = 0 1 0 0  0 0 0 0 => 64\n",
        "print (a, b, a & b, a | b, a ^ b, ~a)"
      ],
      "execution_count": 0,
      "outputs": []
    },
    {
      "cell_type": "code",
      "metadata": {
        "id": "GmNI5IQDJLd5",
        "colab_type": "code",
        "colab": {}
      },
      "source": [
        "# dealing with file I/O\n",
        "# writing something on the file\n",
        "test_file = open(\"student.txt\",\"wb\")\n",
        "print (\"File mode:\",test_file.mode)\n",
        "print (\"File name:\",test_file.name)\n",
        "test_file.write(bytes(\"Student Name-1,\\n\",\"UTF-8\"))\n",
        "test_file.close()"
      ],
      "execution_count": 0,
      "outputs": []
    },
    {
      "cell_type": "code",
      "metadata": {
        "id": "OSw7m5n0JLd9",
        "colab_type": "code",
        "colab": {}
      },
      "source": [
        "# reading content from the data file...\n",
        "test_file = open(\"student.txt\",\"r+\")\n",
        "print (\"File mode:\",test_file.mode)\n",
        "print (\"File name:\",test_file.name)\n",
        "file_str = test_file.read()\n",
        "print (file_str)\n",
        "file_str = file_str.strip().rstrip(\",\")\n",
        "print (file_str)\n",
        "test_file.close()"
      ],
      "execution_count": 0,
      "outputs": []
    },
    {
      "cell_type": "code",
      "metadata": {
        "id": "2eQhT036JLeE",
        "colab_type": "code",
        "colab": {}
      },
      "source": [
        "num = int(input(\"Please enter the number of names --> \"))\n",
        "test_file = open(\"employee.txt\",\"wb\")\n",
        "for i in range(0,num):\n",
        "    emp_name = input(\"Enter employee name no.\"+str(i)+\"-->\")\n",
        "    test_file.write(bytes(emp_name+\",\",\"UTF-8\"))\n",
        "test_file.close()\n",
        "test_file = open(\"employee.txt\",\"r+\")\n",
        "emp_list_str = test_file.read()\n",
        "test_file.close()\n",
        "emp_list_str.strip().rstrip(\",\")\n",
        "print (emp_list_str,len(emp_list_str))\n",
        "emp_list_str = emp_list_str[:len(emp_list_str)-1]\n",
        "print (emp_list_str,len(emp_list_str))\n",
        "emp_list = emp_list_str.split(\",\")\n",
        "print (emp_list)\n",
        "for emp_name in emp_list:\n",
        "    print (\"Employee Name: \",emp_name)\n",
        "print (\"End of the program...\")"
      ],
      "execution_count": 0,
      "outputs": []
    },
    {
      "cell_type": "code",
      "metadata": {
        "id": "A2EOIqoeJLeI",
        "colab_type": "code",
        "colab": {}
      },
      "source": [
        "for i in [11,22,33,44]:\n",
        "    if (i is 33):\n",
        "        pass\n",
        "        print (\"print i =\",i)\n",
        "print (\"End of the program...\")"
      ],
      "execution_count": 0,
      "outputs": []
    },
    {
      "cell_type": "code",
      "metadata": {
        "id": "g0l5w-4mJLeM",
        "colab_type": "code",
        "colab": {}
      },
      "source": [
        "# dealing with Object Oriented Programming in Python\n",
        "class myClass:\n",
        "    __class_var1 = 111\n",
        "    __class_var2 = 222\n",
        "    def __init__(self,data1,data2):\n",
        "        print (\"Constructor method is executing...\")\n",
        "        self.__inst_var1 = data1\n",
        "        self.__inst_var2 = data2\n",
        "    def updateCV(self,value1,value2):\n",
        "        myClass.__class_var1 = value1\n",
        "        myClass.__class_var2 = value2\n",
        "    def display(self):\n",
        "        print (\"Instance variable values are {} and {}\".\\\n",
        "               format(self.__inst_var1,self.__inst_var2))\n",
        "        print (\"Class variable values are {} and {}\".\\\n",
        "               format(myClass.__class_var1,myClass.__class_var2))\n",
        "ob1 = myClass(100,200)\n",
        "ob1.display()\n",
        "ob1.updateCV(123,456)\n",
        "ob2 = myClass(400,500)\n",
        "ob2.display()"
      ],
      "execution_count": 0,
      "outputs": []
    },
    {
      "cell_type": "code",
      "metadata": {
        "id": "VyS5Hmy5JLeQ",
        "colab_type": "code",
        "colab": {}
      },
      "source": [
        "class Animal:\n",
        "    def __init__(self,name,height,weight,sound):\n",
        "        self.__name = name\n",
        "        self.__height = height\n",
        "        self.__weight = weight\n",
        "        self.__sound = sound\n",
        "    def get_name(self):\n",
        "        return self.__name\n",
        "    def set_name(self,name):\n",
        "        self.__name = name\n",
        "    def get_height(self):\n",
        "        return self.__height\n",
        "    def set_height(self,height):\n",
        "        self.__height = height\n",
        "    def get_weight(self):\n",
        "        return self.__weight\n",
        "    def set_weight(self,weight):\n",
        "        self.__weight = weight\n",
        "    def get_sound(self):\n",
        "        return self.__sound\n",
        "    def set_sound(self,sound):\n",
        "        self.__sound = sound\n",
        "    def get_type(self):\n",
        "        print (\"I am Animal...\")\n",
        "    def displayAnimal(self):\n",
        "        return \"{} is {} cm tall and {} KG. and says {}...\".\\\n",
        "        format(self.__name,self.__height,self.__weight,self.__sound)\n",
        "cat = Animal(\"White Cat\",33,10,\"Meow\")\n",
        "print(cat.displayAnimal())\n",
        "cat.get_type()\n",
        "print (\"Name of the animal is\",cat.get_name())"
      ],
      "execution_count": 0,
      "outputs": []
    },
    {
      "cell_type": "code",
      "metadata": {
        "id": "jBMsj319JLeT",
        "colab_type": "code",
        "colab": {}
      },
      "source": [
        "# dealing with inheritance...\n",
        "class Dog(Animal):\n",
        "    def __init__(self,name,height,weight,sound,owner):\n",
        "        self.__owner = owner\n",
        "        super(Dog,self).__init__(name,height,weight,sound)\n",
        "    def get_owner(self):\n",
        "        return self.__owner\n",
        "    def set_owner(self,owner):\n",
        "        self.__owner = owner\n",
        "    def get_type(self):\n",
        "        print (\"I am Dog...\")\n",
        "    def displayDog(self):\n",
        "        return (\"{} is {} cm tall and {} KG. says {} and owner is {}\".\\\n",
        "        format(self.get_name(),self.get_height(),self.get_weight(),\n",
        "               self.get_sound(),self.get_owner()))\n",
        "spot = Dog(\"Spot\",53,27,\"Ruff\",\"Miller\")\n",
        "print (spot.displayDog())\n",
        "spot.get_type()"
      ],
      "execution_count": 0,
      "outputs": []
    },
    {
      "cell_type": "code",
      "metadata": {
        "id": "Pw3nwz_AJLeV",
        "colab_type": "code",
        "colab": {}
      },
      "source": [
        "# dealing with database\n",
        "# creation of database and table\n",
        "import sqlite3\n",
        "# use database if it exists, otherwise create a new one\n",
        "connection = sqlite3.connect(\"office_database.db\")\n",
        "print (\"Connected with the database...\")\n",
        "# now create employee table, employee(emp_id,emp_name,city,salary)\n",
        "sql = '''\n",
        "CREATE TABLE employee (\n",
        "emp_id INTEGER PRIMARY KEY,\n",
        "emp_name TEXT,\n",
        "city TEXT, salary REAL\n",
        ");\n",
        "'''\n",
        "try:      # create the table under the database if it does not exist...\n",
        "    connection.execute(sql)\n",
        "    print (\"Table created...\")\n",
        "except:\n",
        "    pass"
      ],
      "execution_count": 0,
      "outputs": []
    },
    {
      "cell_type": "code",
      "metadata": {
        "id": "1PSjciBeJLeX",
        "colab_type": "code",
        "colab": {}
      },
      "source": [
        "# inserting records from the csv file to the database table\n",
        "import csv\n",
        "# sql to insert records into employee table\n",
        "sql=\"INSERT INTO employee VALUES({emp_id},'{name}','{city}','{salary}');\"\n",
        "# now reading rows from the csv file and storing then on to table\n",
        "# here , is the delimiter\n",
        "with open(\"emp_data.csv\") as data_file:\n",
        "    csv_reader = csv.reader(data_file)\n",
        "    for row in csv_reader:\n",
        "        connection.execute(sql.format(emp_id=row[0],name=row[1],\n",
        "                                     city=row[2],salary=row[3]))\n",
        "connection.commit()   # commit after inserting data\n",
        "print (\"Data inserted...\")"
      ],
      "execution_count": 0,
      "outputs": []
    },
    {
      "cell_type": "code",
      "metadata": {
        "id": "61OxdsuqJLea",
        "colab_type": "code",
        "colab": {}
      },
      "source": [
        "# Retrieving data from the database table\n",
        "sql = \"SELECT * FROM employee;\"\n",
        "table = connection.execute(sql)\n",
        "for row in table:\n",
        "    print (\"Emp ID: \"+str(row[0])+\" Name: \"+str(row[1])+\n",
        "            \" City: \"+str(row[2])+\" and Salary: \"+str(row[3]))\n"
      ],
      "execution_count": 0,
      "outputs": []
    },
    {
      "cell_type": "code",
      "metadata": {
        "id": "bhXDOViOJLel",
        "colab_type": "code",
        "colab": {}
      },
      "source": [
        "# Retrieving data from the database table for those records where salary\n",
        "# is greater than 30000\n",
        "sql = \"SELECT * FROM employee WHERE salary > 30000;\"\n",
        "table = connection.execute(sql)\n",
        "for row in table:\n",
        "    print (\"Emp ID: \"+str(row[0])+\" Name: \"+str(row[1])+\n",
        "            \" City: \"+str(row[2])+\" and Salary: \"+str(row[3]))"
      ],
      "execution_count": 0,
      "outputs": []
    },
    {
      "cell_type": "code",
      "metadata": {
        "id": "8V0C8TPAJLeo",
        "colab_type": "code",
        "colab": {}
      },
      "source": [
        "# updating records\n",
        "# Update salary of employees to 30000 where city is chennai\n",
        "sql=\"UPDATE employee SET salary = 30000 WHERE city = 'Chennai';\"\n",
        "table = connection.execute(sql)\n",
        "connection.commit()\n",
        "# Retrieving data from the database table after update...\n",
        "sql = \"SELECT * FROM employee;\"\n",
        "table = connection.execute(sql)\n",
        "for row in table:\n",
        "    print (\"Emp ID: \"+str(row[0])+\" Name: \"+str(row[1])+\n",
        "            \" City: \"+str(row[2])+\" and Salary: \"+str(row[3]))"
      ],
      "execution_count": 0,
      "outputs": []
    },
    {
      "cell_type": "code",
      "metadata": {
        "id": "DX9sZ_mhJLer",
        "colab_type": "code",
        "colab": {}
      },
      "source": [
        "# deleting records of the table\n",
        "sql = \"DELETE FROM employee WHERE city = 'Kolkata';\"\n",
        "table = connection.execute(sql)\n",
        "connection.commit()\n",
        "# Retrieving data from the database table\n",
        "sql = \"SELECT * FROM employee;\"\n",
        "table = connection.execute(sql)\n",
        "for row in table:\n",
        "    print (\"Emp ID: \"+str(row[0])+\" Name: \"+str(row[1])+\n",
        "            \" City: \"+str(row[2])+\" and Salary: \"+str(row[3]))\n",
        "connection.close()"
      ],
      "execution_count": 0,
      "outputs": []
    },
    {
      "cell_type": "code",
      "metadata": {
        "id": "ubffn05AJLet",
        "colab_type": "code",
        "outputId": "59837d51-40ba-4232-da31-6507648393ff",
        "colab": {}
      },
      "source": [
        "def enum(**enums):\n",
        "    return type('Enum', (), enums)\n",
        " \n",
        "Numbers = enum(ONE=1,TWO=2, THREE=3, FOUR=4, FIVE=5, SIX=6)\n",
        "print(Numbers.ONE)\n",
        "print (Numbers.SIX)"
      ],
      "execution_count": 0,
      "outputs": [
        {
          "output_type": "stream",
          "text": [
            "1\n",
            "6\n"
          ],
          "name": "stdout"
        }
      ]
    },
    {
      "cell_type": "code",
      "metadata": {
        "id": "XxL-X30-JLev",
        "colab_type": "code",
        "colab": {}
      },
      "source": [
        ""
      ],
      "execution_count": 0,
      "outputs": []
    },
    {
      "cell_type": "code",
      "metadata": {
        "id": "wtX109vhJLfA",
        "colab_type": "code",
        "outputId": "3c98a7a4-dadc-4661-f14e-684e3131f525",
        "colab": {}
      },
      "source": [
        "num = int (input(\"Enter number of terms...\"))\n",
        "my_list = []\n",
        "for i in range(0,num):\n",
        "    data = int(input(\"Enter data --> \"))\n",
        "    my_list.append(data)\n",
        "maxdata = max(my_list)\n",
        "mindata = min(my_list)\n",
        "print (my_list,maxdata,mindata)\n",
        "total = 0\n",
        "count = 0\n",
        "for data in my_list:\n",
        "    if (data != maxdata and data != mindata):\n",
        "        total = total + data\n",
        "        count += 1\n",
        "print (total,count)\n",
        "print (\"So the required average = \",total/count)"
      ],
      "execution_count": 0,
      "outputs": [
        {
          "output_type": "stream",
          "text": [
            "Enter number of terms... 7\n",
            "Enter data -->  100\n",
            "Enter data -->  200\n",
            "Enter data -->  500\n",
            "Enter data -->  100\n",
            "Enter data -->  300\n",
            "Enter data -->  500\n",
            "Enter data -->  100\n"
          ],
          "name": "stdin"
        },
        {
          "output_type": "stream",
          "text": [
            "[100, 200, 500, 100, 300, 500, 100] 500 100\n",
            "500 2\n",
            "So the required average =  250.0\n"
          ],
          "name": "stdout"
        }
      ]
    },
    {
      "cell_type": "code",
      "metadata": {
        "id": "mpNo9xzdJLfE",
        "colab_type": "code",
        "colab": {}
      },
      "source": [
        ""
      ],
      "execution_count": 0,
      "outputs": []
    },
    {
      "cell_type": "code",
      "metadata": {
        "id": "RkWQhydJJLfH",
        "colab_type": "code",
        "colab": {}
      },
      "source": [
        ""
      ],
      "execution_count": 0,
      "outputs": []
    },
    {
      "cell_type": "code",
      "metadata": {
        "id": "giZ03hd5JLfK",
        "colab_type": "code",
        "colab": {}
      },
      "source": [
        ""
      ],
      "execution_count": 0,
      "outputs": []
    },
    {
      "cell_type": "code",
      "metadata": {
        "id": "udWx0C8_JLfP",
        "colab_type": "code",
        "colab": {}
      },
      "source": [
        ""
      ],
      "execution_count": 0,
      "outputs": []
    },
    {
      "cell_type": "code",
      "metadata": {
        "id": "7kAp8hisJLfR",
        "colab_type": "code",
        "colab": {}
      },
      "source": [
        ""
      ],
      "execution_count": 0,
      "outputs": []
    },
    {
      "cell_type": "code",
      "metadata": {
        "id": "aRtrXpq_JLfY",
        "colab_type": "code",
        "colab": {}
      },
      "source": [
        ""
      ],
      "execution_count": 0,
      "outputs": []
    }
  ]
}