{
  "nbformat": 4,
  "nbformat_minor": 0,
  "metadata": {
    "colab": {
      "name": "chandan.ipynb",
      "version": "0.3.2",
      "provenance": [],
      "include_colab_link": true
    },
    "kernelspec": {
      "name": "python3",
      "display_name": "Python 3"
    }
  },
  "cells": [
    {
      "cell_type": "markdown",
      "metadata": {
        "id": "view-in-github",
        "colab_type": "text"
      },
      "source": [
        "<a href=\"https://colab.research.google.com/github/chandans1991/chandan-kumar-singh/blob/master/chandan.ipynb\" target=\"_parent\"><img src=\"https://colab.research.google.com/assets/colab-badge.svg\" alt=\"Open In Colab\"/></a>"
      ]
    },
    {
      "metadata": {
        "id": "UKY-nDyRtnYl",
        "colab_type": "code",
        "colab": {}
      },
      "cell_type": "code",
      "source": [
        "if it's hot \n",
        "   It's hot day\n",
        "   Drink pleny of water\n",
        "ohterwise if it's cold\n",
        "   It's a cold day\n",
        "  Weare warm clothes\n",
        "otherwise\n",
        "  It's a lovely day.\n",
        "  "
      ],
      "execution_count": 0,
      "outputs": []
    },
    {
      "metadata": {
        "id": "XpMXV4ULuZoX",
        "colab_type": "code",
        "outputId": "fc3b0bbe-902c-48c7-9295-aad96157bec3",
        "colab": {
          "base_uri": "https://localhost:8080/",
          "height": 68
        }
      },
      "cell_type": "code",
      "source": [
        "is_hot=True\n",
        "\n",
        "if is_hot:\n",
        "  print(\"It's hot day\")\n",
        "print(\"Enjou your day\")\n",
        "print(\"and enjoy your life\")"
      ],
      "execution_count": 0,
      "outputs": [
        {
          "output_type": "stream",
          "text": [
            "It's hot day\n",
            "Enjou your day\n",
            "and enjoy your life\n"
          ],
          "name": "stdout"
        }
      ]
    },
    {
      "metadata": {
        "id": "C3xFsIdZvo0F",
        "colab_type": "code",
        "outputId": "92e7fff7-6bb3-477d-f8ed-4d0e16b00669",
        "colab": {
          "base_uri": "https://localhost:8080/",
          "height": 51
        }
      },
      "cell_type": "code",
      "source": [
        "is_hot=False\n",
        "\n",
        "if is_hot:\n",
        "  print(\"It's hot day\")\n",
        "print(\"Enjou your day\")\n",
        "print(\"and enjoy your life\")"
      ],
      "execution_count": 0,
      "outputs": [
        {
          "output_type": "stream",
          "text": [
            "Enjou your day\n",
            "and enjoy your life\n"
          ],
          "name": "stdout"
        }
      ]
    },
    {
      "metadata": {
        "id": "Ph-vS29Jv52O",
        "colab_type": "code",
        "outputId": "d34ca7c9-9ac6-4cb6-a257-60dd1e9bebc2",
        "colab": {
          "base_uri": "https://localhost:8080/",
          "height": 85
        }
      },
      "cell_type": "code",
      "source": [
        "is_hot=True\n",
        "\n",
        "if is_hot:\n",
        "  print(\"It's hot day\")\n",
        "  print(\"Drink plenty of water\")\n",
        "else:\n",
        "  print(\"were warm clothes\")\n",
        "print(\"Enjou your day\")\n",
        "print(\"and enjoy your life\")"
      ],
      "execution_count": 0,
      "outputs": [
        {
          "output_type": "stream",
          "text": [
            "It's hot day\n",
            "Drink plenty of water\n",
            "Enjou your day\n",
            "and enjoy your life\n"
          ],
          "name": "stdout"
        }
      ]
    },
    {
      "metadata": {
        "id": "Le5G2spJwmKV",
        "colab_type": "code",
        "outputId": "182d44b7-c267-4367-caf9-3fac8a787bec",
        "colab": {
          "base_uri": "https://localhost:8080/",
          "height": 85
        }
      },
      "cell_type": "code",
      "source": [
        "is_hot=False\n",
        "\n",
        "if is_hot:\n",
        "  print(\"It's hot day\")\n",
        "  print(\"Drink plenty of water\")\n",
        "else:\n",
        "  print(\"It's cold day\")\n",
        "  print(\"were warm clothes\")\n",
        "print(\"Enjou your day\")\n",
        "print(\"and enjoy your life\")"
      ],
      "execution_count": 0,
      "outputs": [
        {
          "output_type": "stream",
          "text": [
            "It's cold day\n",
            "were warm clothes\n",
            "Enjou your day\n",
            "and enjoy your life\n"
          ],
          "name": "stdout"
        }
      ]
    },
    {
      "metadata": {
        "id": "AtccbrkixGjS",
        "colab_type": "code",
        "outputId": "19e7c673-2baf-4bb6-e9d9-69585af57204",
        "colab": {
          "base_uri": "https://localhost:8080/",
          "height": 85
        }
      },
      "cell_type": "code",
      "source": [
        "is_hot=False\n",
        "is_cold=True\n",
        "\n",
        "if is_hot:\n",
        "  print(\"It's hot day\")\n",
        "  print(\"Drink plenty of water\")\n",
        "elif is_cold:\n",
        "  print(\"it's a cold day\")\n",
        "  print(\"wear warm clothes\")\n",
        "  \n",
        "else:\n",
        "  print(\"It's cold day\")\n",
        "  print(\"were warm clothes\")\n",
        "print(\"Enjou your day\")\n",
        "print(\"and enjoy your life\")"
      ],
      "execution_count": 0,
      "outputs": [
        {
          "output_type": "stream",
          "text": [
            "it's a cold day\n",
            "wear warm clothes\n",
            "Enjou your day\n",
            "and enjoy your life\n"
          ],
          "name": "stdout"
        }
      ]
    },
    {
      "metadata": {
        "id": "djli23cnyESP",
        "colab_type": "code",
        "outputId": "4a9afeda-5950-44c6-8073-cab683fbf7fc",
        "colab": {
          "base_uri": "https://localhost:8080/",
          "height": 68
        }
      },
      "cell_type": "code",
      "source": [
        "is_school=True\n",
        "if is_school:\n",
        "  print(\"Ram goes to school\")\n",
        "  print(\"He is a brave boy\")\n",
        "print(\"He is a very good boy\")\n",
        "\n",
        "\n"
      ],
      "execution_count": 0,
      "outputs": [
        {
          "output_type": "stream",
          "text": [
            "Ram goes to school\n",
            "He is a brave boy\n",
            "He is a very good boy\n"
          ],
          "name": "stdout"
        }
      ]
    },
    {
      "metadata": {
        "id": "QLnw6yep0HT0",
        "colab_type": "code",
        "outputId": "ae8bdf56-907a-4750-9954-afb8c55eea6b",
        "colab": {
          "base_uri": "https://localhost:8080/",
          "height": 51
        }
      },
      "cell_type": "code",
      "source": [
        "is_school=True\n",
        "if is_school:\n",
        "  print(\"Ram goes to school\")\n",
        "  print(\"He is a brave boy\")\n",
        "else:\n",
        "  print(\"Ram goes not to school\")\n",
        "  print(\"He is very bad boy\")\n",
        "  \n"
      ],
      "execution_count": 0,
      "outputs": [
        {
          "output_type": "stream",
          "text": [
            "Ram goes to school\n",
            "He is a brave boy\n"
          ],
          "name": "stdout"
        }
      ]
    },
    {
      "metadata": {
        "id": "hJwEIN3r062p",
        "colab_type": "code",
        "outputId": "384c6495-020e-4f62-b3ab-21f4d1e95996",
        "colab": {
          "base_uri": "https://localhost:8080/",
          "height": 51
        }
      },
      "cell_type": "code",
      "source": [
        "is_school=False\n",
        "if is_school:\n",
        "  print(\"Ram goes to school\")\n",
        "  print(\"He is a brave boy\")\n",
        "  \n",
        "else:\n",
        "  print(\"Ram goes not to school\")\n",
        "  print(\"He is very bad boy\")\n",
        "  \n"
      ],
      "execution_count": 0,
      "outputs": [
        {
          "output_type": "stream",
          "text": [
            "Ram goes not to school\n",
            "He is very bad boy\n"
          ],
          "name": "stdout"
        }
      ]
    },
    {
      "metadata": {
        "id": "DYGmS3ig1HTe",
        "colab_type": "code",
        "outputId": "aac8514d-d33d-403a-cb1a-11d12ee75d4b",
        "colab": {
          "base_uri": "https://localhost:8080/",
          "height": 51
        }
      },
      "cell_type": "code",
      "source": [
        "is_school=False\n",
        "if is_school:\n",
        "  print(\"Ram goes to school\")\n",
        "  print(\"He is a brave boy\")\n",
        "  \n",
        "else:\n",
        "  print(\"Ram goes not to school\")\n",
        "  print(\"He is very bad boy\")"
      ],
      "execution_count": 0,
      "outputs": [
        {
          "output_type": "stream",
          "text": [
            "Ram goes not to school\n",
            "He is very bad boy\n"
          ],
          "name": "stdout"
        }
      ]
    },
    {
      "metadata": {
        "id": "PHZmw_Fk22Hv",
        "colab_type": "code",
        "outputId": "1288cfb5-e769-4c80-a64e-c468fab011c5",
        "colab": {
          "base_uri": "https://localhost:8080/",
          "height": 34
        }
      },
      "cell_type": "code",
      "source": [
        "has_high_income=True\n",
        "has_good_credit=True\n",
        "if has_high_income and has_good_credit:\n",
        "  print(\"eligable for loan\")"
      ],
      "execution_count": 0,
      "outputs": [
        {
          "output_type": "stream",
          "text": [
            "eligable for loan\n"
          ],
          "name": "stdout"
        }
      ]
    },
    {
      "metadata": {
        "id": "LznOovr8Mh5C",
        "colab_type": "code",
        "outputId": "fd6a7f5b-838e-4d64-c829-6781e2e8dace",
        "colab": {
          "base_uri": "https://localhost:8080/",
          "height": 34
        }
      },
      "cell_type": "code",
      "source": [
        "has_high_income=False\n",
        "has_good_credit= True\n",
        "if has_high_income and has_good_credit:\n",
        "  print(\"eligable for loan\")\n",
        "else:\n",
        "  print(\"Not eligbale for loan\")\n"
      ],
      "execution_count": 0,
      "outputs": [
        {
          "output_type": "stream",
          "text": [
            "Not eligbale for loan\n"
          ],
          "name": "stdout"
        }
      ]
    },
    {
      "metadata": {
        "id": "Bss5xJR2Ng-d",
        "colab_type": "code",
        "outputId": "d4729038-8668-4666-dc31-abdefbe94657",
        "colab": {
          "base_uri": "https://localhost:8080/",
          "height": 34
        }
      },
      "cell_type": "code",
      "source": [
        "has_high_income=False\n",
        "has_good_credit= False\n",
        "if has_high_income and has_good_credit:\n",
        "  print(\"eligable for loan\")\n",
        "else:\n",
        "  print(\"Not eligbale for loan\")"
      ],
      "execution_count": 0,
      "outputs": [
        {
          "output_type": "stream",
          "text": [
            "Not eligbale for loan\n"
          ],
          "name": "stdout"
        }
      ]
    },
    {
      "metadata": {
        "id": "9_Px-GBXNlOg",
        "colab_type": "code",
        "outputId": "ba910b2f-9b5b-4079-bbc4-6067277eaa7a",
        "colab": {
          "base_uri": "https://localhost:8080/",
          "height": 34
        }
      },
      "cell_type": "code",
      "source": [
        "has_high_income=True\n",
        "has_good_credit= False\n",
        "if has_high_income and has_good_credit:\n",
        "  print(\"eligable for loan\")\n",
        "else:\n",
        "  print(\"Not eligbale for loan\")"
      ],
      "execution_count": 0,
      "outputs": [
        {
          "output_type": "stream",
          "text": [
            "Not eligbale for loan\n"
          ],
          "name": "stdout"
        }
      ]
    },
    {
      "metadata": {
        "id": "dXNOZ2o7N9zk",
        "colab_type": "code",
        "outputId": "c5de38bb-5ecf-4a54-95cc-beb3a151343f",
        "colab": {
          "base_uri": "https://localhost:8080/",
          "height": 34
        }
      },
      "cell_type": "code",
      "source": [
        " \n",
        "has_high_income=True\n",
        "has_good_credit= True\n",
        "if has_high_income or has_good_credit:\n",
        "  print(\"Elgable for loan\")"
      ],
      "execution_count": 0,
      "outputs": [
        {
          "output_type": "stream",
          "text": [
            "Elgable for loan\n"
          ],
          "name": "stdout"
        }
      ]
    },
    {
      "metadata": {
        "id": "FNyXsr_0PEpE",
        "colab_type": "code",
        "outputId": "613df5e0-160b-43c2-ce9c-5e6c0387dec2",
        "colab": {
          "base_uri": "https://localhost:8080/",
          "height": 34
        }
      },
      "cell_type": "code",
      "source": [
        "has_high_income=True\n",
        "has_good_credit= False\n",
        "if has_high_income or has_good_credit:\n",
        "  print(\"Elgable for loan\")"
      ],
      "execution_count": 0,
      "outputs": [
        {
          "output_type": "stream",
          "text": [
            "Elgable for loan\n"
          ],
          "name": "stdout"
        }
      ]
    },
    {
      "metadata": {
        "id": "7nRDMyE-PI-L",
        "colab_type": "code",
        "outputId": "c9146f3f-b36a-4a68-c4de-68ce9aedfffc",
        "colab": {
          "base_uri": "https://localhost:8080/",
          "height": 34
        }
      },
      "cell_type": "code",
      "source": [
        "has_high_income=False\n",
        "has_good_credit= True\n",
        "if has_high_income or has_good_credit:\n",
        "  print(\"Elgable for loan\")"
      ],
      "execution_count": 0,
      "outputs": [
        {
          "output_type": "stream",
          "text": [
            "Elgable for loan\n"
          ],
          "name": "stdout"
        }
      ]
    },
    {
      "metadata": {
        "id": "3id2Z6j3RnqG",
        "colab_type": "code",
        "outputId": "40f5c53a-5689-4acf-99ff-89be2a2ee54a",
        "colab": {
          "base_uri": "https://localhost:8080/",
          "height": 34
        }
      },
      "cell_type": "code",
      "source": [
        "has_high_income=False\n",
        "has_good_credit= False\n",
        "if has_high_income or has_good_credit:\n",
        "  print(\"Elgable for loan\")\n",
        "else:\n",
        "  print(\"not eliable for loan\")"
      ],
      "execution_count": 0,
      "outputs": [
        {
          "output_type": "stream",
          "text": [
            "not eliable for loan\n"
          ],
          "name": "stdout"
        }
      ]
    },
    {
      "metadata": {
        "id": "hW6w2EpoSg-_",
        "colab_type": "code",
        "outputId": "f631fd82-a4a8-4e88-fb77-2a6b147fb187",
        "colab": {
          "base_uri": "https://localhost:8080/",
          "height": 129
        }
      },
      "cell_type": "code",
      "source": [
        "if temperature is greater than 30\n",
        "                it's a hot day\n",
        "Otherwise if it's a less than 10\n",
        "                it's a cold day\n",
        "otherwise \n",
        "                it's neither hot nor cold\n",
        "  \n",
        "temperature=30\n",
        "  \n",
        "if temperature >30: \n",
        "    print(\"it\" hot day\")\n",
        "else:\n",
        "    print(\"it's not hot day\")\n"
      ],
      "execution_count": 0,
      "outputs": [
        {
          "output_type": "error",
          "ename": "SyntaxError",
          "evalue": "ignored",
          "traceback": [
            "\u001b[0;36m  File \u001b[0;32m\"<ipython-input-42-fdfd420bf7d1>\"\u001b[0;36m, line \u001b[0;32m1\u001b[0m\n\u001b[0;31m    if temperature is greater than 30\u001b[0m\n\u001b[0m                                 ^\u001b[0m\n\u001b[0;31mSyntaxError\u001b[0m\u001b[0;31m:\u001b[0m invalid syntax\n"
          ]
        }
      ]
    },
    {
      "metadata": {
        "id": "PB34BlP7UAMi",
        "colab_type": "code",
        "outputId": "204a6d25-c1a9-4d55-ca2b-6c77765832ed",
        "colab": {
          "base_uri": "https://localhost:8080/",
          "height": 34
        }
      },
      "cell_type": "code",
      "source": [
        "temperature=30\n",
        "if temperature > 30:\n",
        "  print(\"it's a hot day\")\n",
        "else:\n",
        "  print(\"it's a not hot day\")\n",
        "\n",
        "  "
      ],
      "execution_count": 0,
      "outputs": [
        {
          "output_type": "stream",
          "text": [
            "it's a not hot day\n"
          ],
          "name": "stdout"
        }
      ]
    },
    {
      "metadata": {
        "id": "PKKnnz5BVCLI",
        "colab_type": "code",
        "outputId": "e6205edb-633c-4b02-aac3-afc96af33d14",
        "colab": {
          "base_uri": "https://localhost:8080/",
          "height": 34
        }
      },
      "cell_type": "code",
      "source": [
        "temperature=35\n",
        "if temperature > 30:\n",
        "  print(\"it's a hot day\")\n",
        "else:\n",
        "  print(\"it's a not hot day\")"
      ],
      "execution_count": 0,
      "outputs": [
        {
          "output_type": "stream",
          "text": [
            "it's a hot day\n"
          ],
          "name": "stdout"
        }
      ]
    },
    {
      "metadata": {
        "id": "UQBeErW7VSbh",
        "colab_type": "code",
        "outputId": "e1f824ce-e519-4dda-a48f-3783472e448e",
        "colab": {
          "base_uri": "https://localhost:8080/",
          "height": 68
        }
      },
      "cell_type": "code",
      "source": [
        "temperature=35\n",
        "if temperature < 30:\n",
        "  print(\"it's a hot day\")\n",
        "else:\n",
        "  print(\"it's a not hot day\")\n",
        "  temperature=35\n",
        "if temperature >= 30:\n",
        "  print(\"it's a hot day\")\n",
        "else:\n",
        "  print(\"it's a not hot day\")\n",
        "  temperature=35\n",
        "if temperature <= 30:\n",
        "  print(\"it's a hot day\")\n",
        "else:\n",
        "  print(\"it's a not hot day\")"
      ],
      "execution_count": 0,
      "outputs": [
        {
          "output_type": "stream",
          "text": [
            "it's a not hot day\n",
            "it's a hot day\n",
            "it's a not hot day\n"
          ],
          "name": "stdout"
        }
      ]
    },
    {
      "metadata": {
        "id": "eGN6lXfURs28",
        "colab_type": "code",
        "outputId": "bd23f243-2c80-499b-dc76-95769d27c206",
        "colab": {
          "base_uri": "https://localhost:8080/",
          "height": 34
        }
      },
      "cell_type": "code",
      "source": [
        "name=\"c\"\n",
        "if len(name)<3:\n",
        "  print(\"Name must be 3 charactere\")\n",
        "elif len(name)>50:\n",
        "  print(\"Name must be a max 50 charatere\")\n",
        "else :\n",
        "  print(\"Name looks good !\")"
      ],
      "execution_count": 0,
      "outputs": [
        {
          "output_type": "stream",
          "text": [
            "Name must be 3 charactere\n"
          ],
          "name": "stdout"
        }
      ]
    },
    {
      "metadata": {
        "id": "FEMX8AeCYUzW",
        "colab_type": "code",
        "outputId": "8a2f820b-f53b-42dc-e87d-2e69180ed0cb",
        "colab": {
          "base_uri": "https://localhost:8080/",
          "height": 34
        }
      },
      "cell_type": "code",
      "source": [
        "name=\"sadfsadfasdsdadfaaaaaaaaaaaaaaaaaaaaafafadaffffffffffffffffffffffffffffffffffffffffffffffffffffffffsa\"\n",
        "if len(name)<5:\n",
        "  print(\"Name must be 3 charactere\")\n",
        "elif len(name)>50:\n",
        "  print(\"Name must be a max 50 charatere\")\n",
        "else :\n",
        "  print(\"Name looks good !\")"
      ],
      "execution_count": 0,
      "outputs": [
        {
          "output_type": "stream",
          "text": [
            "Name must be a max 50 charatere\n"
          ],
          "name": "stdout"
        }
      ]
    },
    {
      "metadata": {
        "id": "voX62nz5Zp56",
        "colab_type": "code",
        "colab": {}
      },
      "cell_type": "code",
      "source": [
        ""
      ],
      "execution_count": 0,
      "outputs": []
    },
    {
      "metadata": {
        "id": "_3LjEFfjYNwt",
        "colab_type": "code",
        "outputId": "97823cc5-3587-4e6a-c3a4-bff649cf8e4d",
        "colab": {
          "base_uri": "https://localhost:8080/",
          "height": 34
        }
      },
      "cell_type": "code",
      "source": [
        "name=\"cha\"\n",
        "if len(name)<3:\n",
        "  print(\"Name must be 3 charactere\")\n",
        "elif len(name)>50:\n",
        "  print(\"Name must be a max 50 charatere\")\n",
        "else :\n",
        "  print(\"Name looks good !\")"
      ],
      "execution_count": 0,
      "outputs": [
        {
          "output_type": "stream",
          "text": [
            "Name looks good !\n"
          ],
          "name": "stdout"
        }
      ]
    },
    {
      "metadata": {
        "id": "CauaUTgXa_mT",
        "colab_type": "code",
        "outputId": "38447117-5eb2-4efc-f499-70ce907e0c26",
        "colab": {
          "base_uri": "https://localhost:8080/",
          "height": 119
        }
      },
      "cell_type": "code",
      "source": [
        "i =1\n",
        "while i <=5:\n",
        "  print(i)\n",
        "  i=i+1\n",
        "print(\"done\")"
      ],
      "execution_count": 0,
      "outputs": [
        {
          "output_type": "stream",
          "text": [
            "1\n",
            "2\n",
            "3\n",
            "4\n",
            "5\n",
            "done\n"
          ],
          "name": "stdout"
        }
      ]
    },
    {
      "metadata": {
        "id": "l0xiF-GhcDYB",
        "colab_type": "code",
        "outputId": "1411e078-c640-4f31-e573-4fac8f9b1948",
        "colab": {
          "base_uri": "https://localhost:8080/",
          "height": 119
        }
      },
      "cell_type": "code",
      "source": [
        "i =1\n",
        "while i <=5:\n",
        "  print('*' * i)\n",
        "  i=i+1\n",
        "print(\"done\")"
      ],
      "execution_count": 0,
      "outputs": [
        {
          "output_type": "stream",
          "text": [
            "*\n",
            "**\n",
            "***\n",
            "****\n",
            "*****\n",
            "done\n"
          ],
          "name": "stdout"
        }
      ]
    },
    {
      "metadata": {
        "id": "ozgRt-tUcZ72",
        "colab_type": "code",
        "outputId": "1e8edb84-f695-44a4-bc51-5b88acad751d",
        "colab": {
          "base_uri": "https://localhost:8080/",
          "height": 459
        }
      },
      "cell_type": "code",
      "source": [
        "i =1\n",
        "while i <=25:\n",
        "  print('*' * i)\n",
        "  i=i+1\n",
        "print(\"done\")"
      ],
      "execution_count": 0,
      "outputs": [
        {
          "output_type": "stream",
          "text": [
            "*\n",
            "**\n",
            "***\n",
            "****\n",
            "*****\n",
            "******\n",
            "*******\n",
            "********\n",
            "*********\n",
            "**********\n",
            "***********\n",
            "************\n",
            "*************\n",
            "**************\n",
            "***************\n",
            "****************\n",
            "*****************\n",
            "******************\n",
            "*******************\n",
            "********************\n",
            "*********************\n",
            "**********************\n",
            "***********************\n",
            "************************\n",
            "*************************\n",
            "done\n"
          ],
          "name": "stdout"
        }
      ]
    },
    {
      "metadata": {
        "id": "vGBZJMyWclXe",
        "colab_type": "code",
        "outputId": "58176537-d081-4b9a-c26a-4415162fdb58",
        "colab": {
          "base_uri": "https://localhost:8080/",
          "height": 204
        }
      },
      "cell_type": "code",
      "source": [
        "i=1\n",
        "while i<=10:\n",
        "  print(\"#\" * i)\n",
        "  i=i+1\n",
        "print(\"done\")"
      ],
      "execution_count": 0,
      "outputs": [
        {
          "output_type": "stream",
          "text": [
            "#\n",
            "##\n",
            "###\n",
            "####\n",
            "#####\n",
            "######\n",
            "#######\n",
            "########\n",
            "#########\n",
            "##########\n",
            "done\n"
          ],
          "name": "stdout"
        }
      ]
    },
    {
      "metadata": {
        "id": "dwcObzgUfOBa",
        "colab_type": "code",
        "outputId": "be65e05d-d434-4f12-c6b8-5e63c1062ed3",
        "colab": {
          "base_uri": "https://localhost:8080/",
          "height": 204
        }
      },
      "cell_type": "code",
      "source": [
        "i=1\n",
        "while i<=10:\n",
        "  print(\"@\" * i)\n",
        "  i=i+1\n",
        "print(\"done\")"
      ],
      "execution_count": 0,
      "outputs": [
        {
          "output_type": "stream",
          "text": [
            "@\n",
            "@@\n",
            "@@@\n",
            "@@@@\n",
            "@@@@@\n",
            "@@@@@@\n",
            "@@@@@@@\n",
            "@@@@@@@@\n",
            "@@@@@@@@@\n",
            "@@@@@@@@@@\n",
            "done\n"
          ],
          "name": "stdout"
        }
      ]
    },
    {
      "metadata": {
        "id": "rpjmfmZ3fW6l",
        "colab_type": "code",
        "outputId": "f374affd-97d3-4233-e64c-ce6a9fc800a0",
        "colab": {
          "base_uri": "https://localhost:8080/",
          "height": 204
        }
      },
      "cell_type": "code",
      "source": [
        "i=1\n",
        "while i<=10:\n",
        "  print(\"Chandan\" * i)\n",
        "  i=i+1\n",
        "print(\"done\")"
      ],
      "execution_count": 0,
      "outputs": [
        {
          "output_type": "stream",
          "text": [
            "Chandan\n",
            "ChandanChandan\n",
            "ChandanChandanChandan\n",
            "ChandanChandanChandanChandan\n",
            "ChandanChandanChandanChandanChandan\n",
            "ChandanChandanChandanChandanChandanChandan\n",
            "ChandanChandanChandanChandanChandanChandanChandan\n",
            "ChandanChandanChandanChandanChandanChandanChandanChandan\n",
            "ChandanChandanChandanChandanChandanChandanChandanChandanChandan\n",
            "ChandanChandanChandanChandanChandanChandanChandanChandanChandanChandan\n",
            "done\n"
          ],
          "name": "stdout"
        }
      ]
    },
    {
      "metadata": {
        "id": "Xa-LS2M-fcTr",
        "colab_type": "code",
        "outputId": "06b0121b-55fa-4659-dc87-2fa9789169c4",
        "colab": {
          "base_uri": "https://localhost:8080/",
          "height": 204
        }
      },
      "cell_type": "code",
      "source": [
        "i=1\n",
        "while i<=10:\n",
        "  print(\"anky\" * i)\n",
        "  i=i+1\n",
        "print(\"done\")"
      ],
      "execution_count": 0,
      "outputs": [
        {
          "output_type": "stream",
          "text": [
            "anky\n",
            "ankyanky\n",
            "ankyankyanky\n",
            "ankyankyankyanky\n",
            "ankyankyankyankyanky\n",
            "ankyankyankyankyankyanky\n",
            "ankyankyankyankyankyankyanky\n",
            "ankyankyankyankyankyankyankyanky\n",
            "ankyankyankyankyankyankyankyankyanky\n",
            "ankyankyankyankyankyankyankyankyankyanky\n",
            "done\n"
          ],
          "name": "stdout"
        }
      ]
    }
  ]
}